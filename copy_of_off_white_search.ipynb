{
  "nbformat": 4,
  "nbformat_minor": 0,
  "metadata": {
    "colab": {
      "provenance": [],
      "authorship_tag": "ABX9TyPpx2fbwUtcebPaM18kiAvW",
      "include_colab_link": true
    },
    "kernelspec": {
      "name": "python3",
      "display_name": "Python 3"
    },
    "language_info": {
      "name": "python"
    }
  },
  "cells": [
    {
      "cell_type": "markdown",
      "metadata": {
        "id": "view-in-github",
        "colab_type": "text"
      },
      "source": [
        "<a href=\"https://colab.research.google.com/github/nikwif/notebook-google-search/blob/main/copy_of_off_white_search.ipynb\" target=\"_parent\"><img src=\"https://colab.research.google.com/assets/colab-badge.svg\" alt=\"Open In Colab\"/></a>"
      ]
    },
    {
      "cell_type": "code",
      "execution_count": null,
      "metadata": {
        "colab": {
          "base_uri": "https://localhost:8080/"
        },
        "id": "KwLORV0tUeB1",
        "outputId": "85885a7c-b90b-4189-bfd7-fdf9a44f114a"
      },
      "outputs": [
        {
          "output_type": "stream",
          "name": "stdout",
          "text": [
            "Requirement already satisfied: requests in /usr/local/lib/python3.11/dist-packages (2.32.3)\n",
            "Requirement already satisfied: beautifulsoup4 in /usr/local/lib/python3.11/dist-packages (4.13.3)\n",
            "Requirement already satisfied: charset-normalizer<4,>=2 in /usr/local/lib/python3.11/dist-packages (from requests) (3.4.1)\n",
            "Requirement already satisfied: idna<4,>=2.5 in /usr/local/lib/python3.11/dist-packages (from requests) (3.10)\n",
            "Requirement already satisfied: urllib3<3,>=1.21.1 in /usr/local/lib/python3.11/dist-packages (from requests) (2.3.0)\n",
            "Requirement already satisfied: certifi>=2017.4.17 in /usr/local/lib/python3.11/dist-packages (from requests) (2025.1.31)\n",
            "Requirement already satisfied: soupsieve>1.2 in /usr/local/lib/python3.11/dist-packages (from beautifulsoup4) (2.6)\n",
            "Requirement already satisfied: typing-extensions>=4.0.0 in /usr/local/lib/python3.11/dist-packages (from beautifulsoup4) (4.12.2)\n"
          ]
        }
      ],
      "source": [
        "!pip install requests beautifulsoup4"
      ]
    },
    {
      "cell_type": "code",
      "source": [
        "import requests\n",
        "from bs4 import BeautifulSoup"
      ],
      "metadata": {
        "id": "VIaZMKQNU9T9"
      },
      "execution_count": null,
      "outputs": []
    },
    {
      "cell_type": "code",
      "source": [],
      "metadata": {
        "id": "Dc65dF-qV3Ws"
      },
      "execution_count": null,
      "outputs": []
    },
    {
      "cell_type": "code",
      "source": [
        "query = \"114866704\"\n",
        "search = f\"https://www.google.com/search?q={query}\"\n",
        "response = requests.get(search)"
      ],
      "metadata": {
        "id": "ww4F1a1iUgQ4",
        "colab": {
          "base_uri": "https://localhost:8080/",
          "height": 176
        },
        "outputId": "d7552a5b-d6fe-4f68-fc0a-d9feeef99be9"
      },
      "execution_count": null,
      "outputs": [
        {
          "output_type": "error",
          "ename": "NameError",
          "evalue": "name 'requests' is not defined",
          "traceback": [
            "\u001b[0;31m---------------------------------------------------------------------------\u001b[0m",
            "\u001b[0;31mNameError\u001b[0m                                 Traceback (most recent call last)",
            "\u001b[0;32m<ipython-input-1-aea5c8015d03>\u001b[0m in \u001b[0;36m<cell line: 0>\u001b[0;34m()\u001b[0m\n\u001b[1;32m      1\u001b[0m \u001b[0mquery\u001b[0m \u001b[0;34m=\u001b[0m \u001b[0;34m\"114866704\"\u001b[0m\u001b[0;34m\u001b[0m\u001b[0;34m\u001b[0m\u001b[0m\n\u001b[1;32m      2\u001b[0m \u001b[0msearch\u001b[0m \u001b[0;34m=\u001b[0m \u001b[0;34mf\"https://www.google.com/search?q={query}\"\u001b[0m\u001b[0;34m\u001b[0m\u001b[0;34m\u001b[0m\u001b[0m\n\u001b[0;32m----> 3\u001b[0;31m \u001b[0mresponse\u001b[0m \u001b[0;34m=\u001b[0m \u001b[0mrequests\u001b[0m\u001b[0;34m.\u001b[0m\u001b[0mget\u001b[0m\u001b[0;34m(\u001b[0m\u001b[0msearch\u001b[0m\u001b[0;34m)\u001b[0m\u001b[0;34m\u001b[0m\u001b[0;34m\u001b[0m\u001b[0m\n\u001b[0m",
            "\u001b[0;31mNameError\u001b[0m: name 'requests' is not defined"
          ]
        }
      ]
    },
    {
      "cell_type": "code",
      "source": [
        "headers = {\"User-Agent\" : \"Mozilla/5.0 (Windows NT 10.0; Win64; x64) AppleWebKit/537.36 (KHTML, like Gecko) Chrome/127.0.0.0 Safari/537.36\"}"
      ],
      "metadata": {
        "id": "fO3lDNXYd2cx"
      },
      "execution_count": null,
      "outputs": []
    },
    {
      "cell_type": "code",
      "source": [
        "response"
      ],
      "metadata": {
        "colab": {
          "base_uri": "https://localhost:8080/"
        },
        "id": "ZJl3q86uU-Qt",
        "outputId": "200ce154-4a4c-4d1a-b710-95d28256c0ab"
      },
      "execution_count": null,
      "outputs": [
        {
          "output_type": "execute_result",
          "data": {
            "text/plain": [
              "<Response [200]>"
            ]
          },
          "metadata": {},
          "execution_count": 8
        }
      ]
    },
    {
      "cell_type": "code",
      "source": [
        "response.text"
      ],
      "metadata": {
        "colab": {
          "base_uri": "https://localhost:8080/",
          "height": 105
        },
        "id": "GMR-e1H5Xqig",
        "outputId": "8855f792-8ba3-49c6-c358-9e266b730b0e"
      },
      "execution_count": null,
      "outputs": [
        {
          "output_type": "execute_result",
          "data": {
            "text/plain": [
              "'<!doctype html><html lang=\"en\"><head><meta charset=\"UTF-8\"><meta content=\"/images/branding/googleg/1x/googleg_standard_color_128dp.png\" itemprop=\"image\"><title>OWAD122C99JER0030110 - Google Search</title><script nonce=\"zXHqJOOUN5Tu9h5MGkYEnQ\">(function(){\\ndocument.documentElement.addEventListener(\"submit\",function(b){var a;if(a=b.target){var c=a.getAttribute(\"data-submitfalse\");a=c===\"1\"||c===\"q\"&&!a.elements.q.value?!0:!1}else a=!1;a&&(b.preventDefault(),b.stopPropagation())},!0);document.documentElement.addEventListener(\"click\",function(b){var a;a:{for(a=b.target;a&&a!==document.documentElement;a=a.parentElement)if(a.tagName===\"A\"){a=a.getAttribute(\"data-nohref\")===\"1\";break a}a=!1}a&&b.preventDefault()},!0);}).call(this);(function(){window.google=window.google||{};var a=window.performance&&window.performance.timing&&\"navigationStart\"in window.performance.timing,b=google.stvsc&&google.stvsc.ns,c=a?b||window.performance.timing.navigationStart:void 0,d=google.stvsc&&google.stvsc.rs,f=a?d||window.performance.timing.responseStart:void 0;window.start=Date.now();var h=window,k=window.performance;k&&(c&&f&&f>c&&f<=window.start?(window.start=f,h.wsrt=f-c):k.now&&(h.wsrt=Math.floor(window.performance.now()-(google.stvsc&&google.stvsc.pno||0))));var l=function(g){g&&g.target.setAttribute(\"data-iml\",String(Date.now()))};document.documentElement.addEventListener(\"load\",l,!0);google.rglh=function(){document.documentElement.removeEventListener(\"load\",l,!0)};}).call(this);(function(){window.google.erd={jsr:1,bv:2106,de:true,dpf:\\'DVD8GN1bWcxPSTieeC1In12FavJ_oYbic3ntXB4obF4\\'};})();(function(){var sdo=false;var mei=10;\\nvar g=this||self;var k,l=(k=g.mei)!=null?k:1,n,p=(n=g.sdo)!=null?n:!0,q=0,r,t=google.erd,v=t.jsr;google.ml=function(a,b,d,m,e){e=e===void 0?2:e;b&&(r=a&&a.message);d===void 0&&(d={});d.cad=\"ple_\"+google.ple+\".aple_\"+google.aple;if(google.dl)return google.dl(a,e,d,!0),null;b=d;if(v<0){window.console&&console.error(a,b);if(v===-2)throw a;b=!1}else b=!a||!a.message||a.message===\"Error loading script\"||q>=l&&!m?!1:!0;if(!b)return null;q++;d=d||{};b=encodeURIComponent;var c=\"/gen_204?atyp=i&ei=\"+b(google.kEI);google.kEXPI&&(c+=\"&jexpid=\"+b(google.kEXPI));c+=\"&srcpg=\"+b(google.sn)+\"&jsr=\"+b(t.jsr)+\\n\"&bver=\"+b(t.bv);t.dpf&&(c+=\"&dpf=\"+b(t.dpf));var f=a.lineNumber;f!==void 0&&(c+=\"&line=\"+f);var h=a.fileName;h&&(h.indexOf(\"-extension:/\")>0&&(e=3),c+=\"&script=\"+b(h),f&&h===window.location.href&&(f=document.documentElement.outerHTML.split(\"\\\\n\")[f],c+=\"&cad=\"+b(f?f.substring(0,300):\"No script found.\")));google.ple&&google.ple===1&&(e=2);c+=\"&jsel=\"+e;for(var u in d)c+=\"&\",c+=b(u),c+=\"=\",c+=b(d[u]);c=c+\"&emsg=\"+b(a.name+\": \"+a.message);c=c+\"&jsst=\"+b(a.stack||\"N/A\");c.length>=12288&&(c=c.substr(0,12288));a=c;m||google.log(0,\"\",a);return a};window.onerror=function(a,b,d,m,e){r!==a&&(a=e instanceof Error?e:Error(a),d===void 0||\"lineNumber\"in a||(a.lineNumber=d),b===void 0||\"fileName\"in a||(a.fileName=b),google.ml(a,!1,void 0,!1,a.name===\"SyntaxError\"||a.message.substring(0,11)===\"SyntaxError\"||a.message.indexOf(\"Script error\")!==-1?3:0));r=null;p&&q>=l&&(window.onerror=null)};})();(function(){var c=[],e=0;window.ping=function(b){b.indexOf(\"&zx\")==-1&&(b+=\"&zx=\"+Date.now());var a=new Image,d=e++;c[d]=a;a.onerror=a.onload=a.onabort=function(){delete c[d]};a.src=b};}).call(this);</script><style>a{color:#1a0dab;text-decoration:none;tap-highlight-color:rgba(0,0,0,.10)}a:visited{color:#4b11a8}a:hover{text-decoration:underline}img{border:0}html{font-family:arial,sans-serif;font-size:14px;line-height:20px;text-size-adjust:100%;color:#3c4043;word-wrap:break-word;background-color:#fff}.bz1lBb{background-color:#fff;height:72px;}.KP7LCb{background-color:#fff;padding-left:4px}.BsXmcf{position:absolute;height:1px;left:0;right:0;background-color:#dadce0}.cOl4Id{background-color:#fff}.bRsWnc{overflow:hidden}.N6RWV{height:51px}.Uv67qb{font-size:14px;line-height:20px;font-weight:bold;display:flex}.Uv67qb a,.Uv67qb span{color:#5e5e5e;height:20px;margin:4px 12px 1px;display:block;flex:none;text-align:center;}.OXXup{border-bottom:2px solid #1f1f1f}.Uv67qb .OXXup{font-weight:bold;color:#1f1f1f}a.eZt8xd:visited{color:#5e5e5e}.FElbsf{border-left:1px solid #dadce0}header article{overflow:visible}.Pg70bf{height:39px;display:box;display:flex;display:flex;width:100%}.H0PQec{position:relative;flex:1}.Pg70bf{height:26px}.hlm7Y{height:46px;margin-top:26px;border-radius:25px;width:auto;background:#fff;box-shadow:0px 2px 6px rgba(60,64,67,0.16)}.sbc{display:flex;width:604px}.Pg70bf input{}.x{width:26px;color:#70757a;line-height:40px;font:27px/38px arial, sans-serif;margin-top:3px}#qdClwb{flex:0 0 auto;padding:0;height:33px;margin-top:5px;border-top-right-radius:25px;border-bottom-right-radius:25px;width:48px;background:#fff;border:0;border-left:1px solid #dadce0;background-repeat:no-repeat;background-image:url(data:image/gif;base64,R0lGODlhJAAjAOYAAP////7+//v8//b5//z9//H2//T4/9Xl/uTu/+ry/+zz/+/1/1GX+1aa+1mc+1+f+2ml+3eu/H6y/IK0/IO1/Iq5/JG9/ZG9/JfB/Z3E/Z7F/Z/F/ajL/anL/azN/bjU/rrV/b3X/sHa/sPb/sTc/sbd/svg/tDj/tfn/tzq/t/s/+bw/+ny/+vz//X5//r8/w9x+RV1+Rd2+Rh3+Rl3+Rp3+Rp4+Rt4+Rt5+Rx5+R16+R56+R96+R97+SB7+SF8+SJ8+SJ9+SN9+SR9+SV++SeA+Sh/+SmA+SqB+SuB+iuB+SyC+S2C+jKF+jKG+jSH+jWH+jWI+jqK+jyL+j+N+kSQ+kWR+kaR+keS+kmT+k6W+lOZ+1Sa+1ab+1eb+1ec+1ic+1md+1qd+1ue+1ye+12f+16f+2el+2mm+2un+26p/HSt+3au/IS2/IW3/Ia3/Iq6/JK+/JbB/JfB/JjC/JrD/KLI/anM/arN/b/Z/cHa/d/s/uLu/ufx//3+/////yH5BAUAAH8ALAAAAAAkACMAAAf4gACCg4SFhoeIiYqLjI2Oj5CRkpOUlZaXmAAJeXEUGyUEmYIBGlRENTE7S2UmohM8PVVoaw1OMlMjlwIWQUdvCoIDJV47UCiWKU02c4YFWDRnoZQXNmAuhyJHUXyVZDYViC5ZQCCVWjN4iH5hMXaVEDNyiAtXQyGVdDMPL4cmTE0qKp1Q4gODoRdfZES45MbGEwwGBh0wIwTKiksGIvjowYANHDVTcBSxUofFpQBtpOSgEePGDy4kwsAY0wLTngwS0mTQc82DER1igIkq1AGJDgc1hxLqkCSHgwRKCd1JoqNLn6iDOAjZchWroA8IvIodS7as2bOWAgEAOw==)}.sc{font-size:16px;position:absolute;top:48px;left:0;right:0;box-shadow:0 2px 5px rgba(0,0,0,.2);z-index:2;background-color:#fff}.sc>div{padding:10px 20px}.scs{background-color:#fafafa;}.noHIxc{display:block;font-size:16px;padding:0 0 0 8px;flex:1;height:35px;outline:none;border:none;width:100%;-webkit-tap-highlight-color:rgba(0,0,0,0);overflow:hidden;padding:4px 0 0 20px}.sbc input[type=text]{background:none}html{background-color:#fff}body{padding:0;}body{margin:0 auto 0 156px;max-width:652px;min-width:652px;padding:0 8px}.cOl4Id{letter-spacing:-1px;text-align:center;font:22pt Futura, arial,sans-serif;font-smoothing:antialiased;padding:32px 28px 0 24px;position:absolute;left:0;top:0;height:37px}.cOl4Id span{display:inline-block}.V6gwVd{color:#4285f4}.iWkuvd{color:#ea4335}.cDrQ7{color:#fcc934}.ntlR9{color:#34a853}.tJ3Myc{-webkit-transform:rotate(-20deg);position:relative;left:-1px;display:inline-block}footer{text-align:center;margin-top:18px}footer a,footer a:visited,.smiUbb{color:#70757a}.xeDNfc{margin:0 13px;display:inline-block}#EOlPnc{margin-top:36px}#EOlPnc>div{margin:20px}.Srfpq{color:#70757a}</style></head><body jsmodel=\"hspDDf \"><header id=\"hdr\"><script nonce=\"zXHqJOOUN5Tu9h5MGkYEnQ\">(function(){\\nvar k=this||self,l=function(a){var b=typeof a;return b==\"object\"&&a!=null||b==\"function\"},m=function(a,b){function c(){}c.prototype=b.prototype;a.l=b.prototype;a.prototype=new c;a.prototype.constructor=a;a.s=function(d,e,f){for(var g=Array(arguments.length-2),h=2;h<arguments.length;h++)g[h-2]=arguments[h];return b.prototype[e].apply(d,g)}};var n=Array.prototype.indexOf?function(a,b){return Array.prototype.indexOf.call(a,b,void 0)}:function(a,b){if(typeof a===\"string\")return typeof b!==\"string\"||b.length!=1?-1:a.indexOf(b,0);for(var c=0;c<a.length;c++)if(c in a&&a[c]===b)return c;return-1};var p=function(a){return typeof a.className==\"string\"?a.className:a.getAttribute&&a.getAttribute(\"class\")||\"\"},q=function(a,b){typeof a.className==\"string\"?a.className=b:a.setAttribute&&a.setAttribute(\"class\",b)},r=function(a,b){a.classList?b=a.classList.contains(b):(a=a.classList?a.classList:p(a).match(/\\\\S+/g)||[],b=n(a,b)>=0);return b},v=function(){var a=t,b=u;a.classList?a.classList.remove(b):r(a,b)&&q(a,Array.prototype.filter.call(a.classList?a.classList:p(a).match(/\\\\S+/g)||[],function(c){return c!=\\nb}).join(\" \"))};var w=function(a,b){this.type=a;this.target=b};w.prototype.g=function(){};var x=function(){if(!k.addEventListener||!Object.defineProperty)return!1;var a=!1,b=Object.defineProperty({},\"passive\",{get:function(){a=!0}});try{var c=function(){};k.addEventListener(\"test\",c,b);k.removeEventListener(\"test\",c,b)}catch(d){}return a}();var y=function(a){w.call(this,a?a.type:\"\");this.relatedTarget=this.target=null;this.button=this.screenY=this.screenX=this.clientY=this.clientX=0;this.key=\"\";this.keyCode=0;this.metaKey=this.shiftKey=this.altKey=this.ctrlKey=!1;this.state=null;this.pointerId=0;this.pointerType=\"\";this.i=null;if(a){var b=this.type=a.type,c=a.changedTouches&&a.changedTouches.length?a.changedTouches[0]:null;this.target=a.target||a.srcElement;var d=a.relatedTarget;d||(b==\"mouseover\"?d=a.fromElement:b==\"mouseout\"&&(d=a.toElement));this.relatedTarget=d;c?(this.clientX=c.clientX!==void 0?c.clientX:c.pageX,this.clientY=c.clientY!==void 0?c.clientY:c.pageY,this.screenX=c.screenX||0,this.screenY=c.screenY||0):(this.clientX=a.clientX!==void 0?a.clientX:a.pageX,this.clientY=a.clientY!==void 0?a.clientY:a.pageY,this.screenX=a.screenX||0,this.screenY=a.screenY||0);this.button=a.button;this.keyCode=a.keyCode||0;this.key=a.key||\"\";this.ctrlKey=a.ctrlKey;this.altKey=a.altKey;this.shiftKey=a.shiftKey;this.metaKey=a.metaKey;this.pointerId=\\na.pointerId||0;this.pointerType=a.pointerType;this.state=a.state;this.i=a;a.defaultPrevented&&y.l.g.call(this)}};m(y,w);y.prototype.g=function(){y.l.g.call(this);var a=this.i;a.preventDefault?a.preventDefault():a.returnValue=!1};var z=\"closure_listenable_\"+(Math.random()*1E6|0);var A=0;var B=function(a,b,c,d,e){this.listener=a;this.proxy=null;this.src=b;this.type=c;this.capture=!!d;this.i=e;this.key=++A;this.g=this.j=!1},C=function(a){a.g=!0;a.listener=null;a.proxy=null;a.src=null;a.i=null};var D=function(a){this.src=a;this.g={};this.i=0};D.prototype.add=function(a,b,c,d,e){var f=a.toString();a=this.g[f];a||(a=this.g[f]=[],this.i++);var g;a:{for(g=0;g<a.length;++g){var h=a[g];if(!h.g&&h.listener==b&&h.capture==!!d&&h.i==e)break a}g=-1}g>-1?(b=a[g],c||(b.j=!1)):(b=new B(b,this.src,f,!!d,e),b.j=c,a.push(b));return b};var E=\"closure_lm_\"+(Math.random()*1E6|0),F={},G=0,I=function(a,b,c,d,e){if(d&&d.once)return H(a,b,c,d,e);if(Array.isArray(b)){for(var f=0;f<b.length;f++)I(a,b[f],c,d,e);return null}c=J(c);return a&&a[z]?a.g(b,c,l(d)?!!d.capture:!!d,e):K(a,b,c,!1,d,e)},K=function(a,b,c,d,e,f){if(!b)throw Error(\"a\");var g=l(e)?!!e.capture:!!e,h=L(a);h||(a[E]=h=new D(a));c=h.add(b,c,d,g,f);if(c.proxy)return c;d=M();c.proxy=d;d.src=a;d.listener=c;if(a.addEventListener)x||(e=g),e===void 0&&(e=!1),a.addEventListener(b.toString(),d,e);else if(a.attachEvent)a.attachEvent(N(b.toString()),d);else if(a.addListener&&a.removeListener)a.addListener(d);else throw Error(\"b\");G++;return c},M=function(){var a=O,b=function(c){return a.call(b.src,b.listener,c)};return b},H=function(a,b,c,d,e){if(Array.isArray(b)){for(var f=0;f<b.length;f++)H(a,b[f],c,d,e);return null}c=J(c);return a&&a[z]?a.i(b,c,l(d)?!!d.capture:!!d,e):K(a,b,c,!0,d,e)},P=function(a){if(typeof a!==\"number\"&&a&&!a.g){var b=a.src;if(b&&b[z])b.v(a);else{var c=a.type,d=a.proxy;b.removeEventListener?b.removeEventListener(c,d,a.capture):b.detachEvent?b.detachEvent(N(c),d):b.addListener&&b.removeListener&&b.removeListener(d);G--;if(c=L(b)){d=a.type;if(d in c.g){var e=c.g[d],f=n(e,a),g;(g=f>=0)&&Array.prototype.splice.call(e,f,1);g&&(C(a),c.g[d].length==0&&(delete c.g[d],c.i--))}c.i==0&&(c.src=null,b[E]=null)}else C(a)}}},N=function(a){return a in F?F[a]:F[a]=\"on\"+a},O=function(a,b){if(a.g)a=!0;else{b=new y(b,this);var c=a.listener,d=a.i||a.src;a.j&&P(a);a=c.call(d,b)}return a},L=function(a){a=a[E];return a instanceof D?a:null},Q=\"__closure_events_fn_\"+(Math.random()*1E9>>>0),J=function(a){if(typeof a===\"function\")return a;a[Q]||(a[Q]=function(b){return a.handleEvent(b)});return a[Q]};var R=[9],u,t=document.documentElement,S;function T(){P(S);S=H(t,\"mousedown\",function(){v();U()},{capture:!0})}function U(){P(S);S=I(t,\"keydown\",function(a){if(R.indexOf(a.keyCode)!==-1){a=t;var b=u;if(a.classList)a.classList.add(b);else if(!r(a,b)){var c=p(a);q(a,c+(c.length>0?\" \"+b:b))}T()}})};u=\"zAoYTe\";U();}).call(this);</script><div class=\"cOl4Id\"><a href=\"/?sa=X&amp;ved=0ahUKEwjgr--X0raJAxU6JzQIHTudGugQOwgC\"><span class=\"V6gwVd\">G</span><span class=\"iWkuvd\">o</span><span class=\"cDrQ7\">o</span><span class=\"V6gwVd\">g</span><span class=\"ntlR9\">l</span><span class=\"iWkuvd tJ3Myc\">e</span></a></div><div class=\"bz1lBb\"><form class=\"Pg70bf hlm7Y\" id=\"sf\"><input name=\"sca_esv\" value=\"362529b1f3dde5c1\" type=\"hidden\"><input name=\"ie\" value=\"ISO-8859-1\" type=\"hidden\"><div class=\"H0PQec\"><div class=\"sbc esbc\"><input class=\"noHIxc\" value=\"OWAD122C99JER0030110\" autocapitalize=\"none\" autocomplete=\"off\" name=\"q\" spellcheck=\"false\" type=\"text\"><input name=\"oq\" type=\"hidden\"><input name=\"aqs\" type=\"hidden\"><div class=\"x\">×</div><div class=\"sc\"></div></div></div><button id=\"qdClwb\" type=\"submit\"></button></form></div><noscript><meta content=\"0;url=/search?q=OWAD122C99JER0030110&amp;sca_esv=362529b1f3dde5c1&amp;ie=UTF-8&amp;gbv=1&amp;sei=hm4iZ-DUHrrO0PEPu7rqwA4\" http-equiv=\"refresh\"><style>table,div,span,p{display:none}</style><div style=\"display:block\">Please click <a href=\"/search?q=OWAD122C99JER0030110&amp;sca_esv=362529b1f3dde5c1&amp;ie=UTF-8&amp;gbv=1&amp;sei=hm4iZ-DUHrrO0PEPu7rqwA4\">here</a> if you are not redirected within a few seconds.</div></noscript></header><div id=\"main\"><div><div class=\"KP7LCb\"> <div class=\"bRsWnc\"> <div class=\"N6RWV\"> <div class=\"Pg70bf Uv67qb\"> <span class=\"OXXup\">All</span><a class=\"eZt8xd\" href=\"/search?q=OWAD122C99JER0030110&amp;sca_esv=362529b1f3dde5c1&amp;ie=UTF-8&amp;tbm=isch&amp;source=lnms&amp;sa=X&amp;ved=0ahUKEwjgr--X0raJAxU6JzQIHTudGugQ_AUIBigB\">Images</a><a class=\"eZt8xd\" href=\"/search?q=OWAD122C99JER0030110&amp;sca_esv=362529b1f3dde5c1&amp;ie=UTF-8&amp;tbm=vid&amp;source=lnms&amp;sa=X&amp;ved=0ahUKEwjgr--X0raJAxU6JzQIHTudGugQ_AUIBygC\">Videos</a><a class=\"eZt8xd\" href=\"/url?q=/search%3Fq%3DOWAD122C99JER0030110%26sca_esv%3D362529b1f3dde5c1%26ie%3DUTF-8%26tbm%3Dshop%26source%3Dlnms%26ved%3D1t:200713%26ictx%3D111&amp;opi=89978449&amp;sa=U&amp;ved=0ahUKEwjgr--X0raJAxU6JzQIHTudGugQiaAMCAgoAw&amp;usg=AOvVaw1NMXmz-ZzJ0Pv73HqnYTdV\">Shopping</a>  <a href=\"/url?q=https://maps.google.com/maps%3Fq%3DOWAD122C99JER0030110%26um%3D1%26ie%3DUTF-8%26ved%3D1t:200713%26ictx%3D111&amp;opi=89978449&amp;sa=U&amp;ved=0ahUKEwjgr--X0raJAxU6JzQIHTudGugQiaAMCAkoBA&amp;usg=AOvVaw0S7Qu2CN7bfuaVVzJ1pjIO\">Maps</a>  <a href=\"/search?q=OWAD122C99JER0030110&amp;sca_esv=362529b1f3dde5c1&amp;ie=UTF-8&amp;tbm=nws&amp;source=lnms&amp;sa=X&amp;ved=0ahUKEwjgr--X0raJAxU6JzQIHTudGugQ_AUICigF\">News</a>  <a href=\"/search?q=OWAD122C99JER0030110&amp;sca_esv=362529b1f3dde5c1&amp;ie=UTF-8&amp;tbm=bks&amp;source=lnms&amp;sa=X&amp;ved=0ahUKEwjgr--X0raJAxU6JzQIHTudGugQ_AUICygG\">Books</a>  <div class=\"FElbsf\"><a href=\"/advanced_search\" style=\"white-space:nowrap\" id=\"st-toggle\" role=\"button\">Search tools</a></div> </div> </div> </div> </div><div class=\"Pg70bf wEsjbd Gx5Zad xpd EtOod pkphOe\" style=\"display:none\" id=\"st-card\"><style>.wEsjbd{height:44px;white-space:nowrap}.coPU8c{height:60px;overflow-scrolling:touch;overflow-x:auto;overflow-y:hidden}.Xj2aue{height:44px;overflow:hidden}.RnNGze{margin:11px 16px}.wEsjbd div,.wEsjbd a,.wEsjbd li{outline-width:0;outline:none}</style><div class=\"Xj2aue\"><div class=\"coPU8c\"><div class=\"RnNGze\"><style>.PA9J5{display:inline-block}.RXaOfd,.tbcPJb{display:inline-block;height:22px;position:relative;padding-top:0;padding-bottom:0;padding-right:16px;padding-left:0;line-height:22px;cursor:pointer;text-transform:uppercase;font-size:12px;color:#70757a}.sa1toc{background:#fff;display:none;position:absolute;border:1px solid #dadce0;box-shadow:0 2px 4px rgba(0,0,0,.3);margin:0;white-space:nowrap;z-index:103;line-height:17px;padding-top:5px;padding-bottom:5px;padding-left:0}.PA9J5:hover .sa1toc{display:block}.mGSy8d a:active,.RXaOfd:active{color:#4285f4}</style><div class=\"PA9J5\"><div class=\"RXaOfd\" role=\"button\" tabindex=\"0\"><style>.TWMOUc{display:inline-block;padding-right:14px;white-space:nowrap}.vQYuGf{font-weight:bold}.OmTIzf{border-color:#909090 transparent;border-style:solid;border-width:4px 4px 0 4px;width:0;height:0;margin-left:-10px;top:50%;margin-top:-2px;position:absolute}.RXaOfd:active .OmTIzf{border-color:#4285f4 transparent}</style><div class=\"TWMOUc\">Any time</div><span class=\"OmTIzf\"></span></div><ul class=\"sa1toc ozatM\"><style>.ozatM{font-size:12px;text-transform:uppercase}.ozatM .yNFsl,.ozatM li{list-style-type:none;list-style-position:outside;list-style-image:none}.yNFsl.SkUj4c,.yNFsl a{color:#70757a;text-decoration:none;padding:6px 44px 6px 14px;line-height:17px;display:block}.SkUj4c{background-image:url(//ssl.gstatic.com/ui/v1/menu/checkmark2.png);background-position:right center;background-repeat:no-repeat}.SkUj4c:active{background-color:#f8f9fa}</style><li class=\"yNFsl SkUj4c\"><style>.tbcPJb a{color:#70757a;text-decoration:none}</style>Any time</li><li class=\"yNFsl\"><a href=\"/search?q=OWAD122C99JER0030110&amp;sca_esv=362529b1f3dde5c1&amp;ie=UTF-8&amp;source=lnt&amp;tbs=qdr:h&amp;sa=X&amp;ved=0ahUKEwjgr--X0raJAxU6JzQIHTudGugQpwUIDQ\">Past hour</a></li><li class=\"yNFsl\"><a href=\"/search?q=OWAD122C99JER0030110&amp;sca_esv=362529b1f3dde5c1&amp;ie=UTF-8&amp;source=lnt&amp;tbs=qdr:d&amp;sa=X&amp;ved=0ahUKEwjgr--X0raJAxU6JzQIHTudGugQpwUIDg\">Past 24 hours</a></li><li class=\"yNFsl\"><a href=\"/search?q=OWAD122C99JER0030110&amp;sca_esv=362529b1f3dde5c1&amp;ie=UTF-8&amp;source=lnt&amp;tbs=qdr:w&amp;sa=X&amp;ved=0ahUKEwjgr--X0raJAxU6JzQIHTudGugQpwUIDw\">Past week</a></li><li class=\"yNFsl\"><a href=\"/search?q=OWAD122C99JER0030110&amp;sca_esv=362529b1f3dde5c1&amp;ie=UTF-8&amp;source=lnt&amp;tbs=qdr:m&amp;sa=X&amp;ved=0ahUKEwjgr--X0raJAxU6JzQIHTudGugQpwUIEA\">Past month</a></li><li class=\"yNFsl\"><a href=\"/search?q=OWAD122C99JER0030110&amp;sca_esv=362529b1f3dde5c1&amp;ie=UTF-8&amp;source=lnt&amp;tbs=qdr:y&amp;sa=X&amp;ved=0ahUKEwjgr--X0raJAxU6JzQIHTudGugQpwUIEQ\">Past year</a></li></ul></div><div class=\"PA9J5\"><div class=\"RXaOfd\" role=\"button\" tabindex=\"0\"><div class=\"TWMOUc\">All results</div><span class=\"OmTIzf\"></span></div><ul class=\"sa1toc ozatM\"><li class=\"yNFsl SkUj4c\">All results</li><li class=\"yNFsl\"><a href=\"/search?q=OWAD122C99JER0030110&amp;sca_esv=362529b1f3dde5c1&amp;ie=UTF-8&amp;source=lnt&amp;tbs=li:1&amp;sa=X&amp;ved=0ahUKEwjgr--X0raJAxU6JzQIHTudGugQpwUIEw\">Verbatim</a></li></ul></div></div></div></div><script nonce=\"zXHqJOOUN5Tu9h5MGkYEnQ\">(function(){var a=document.getElementById(\"st-toggle\"),b=document.getElementById(\"st-card\");a&&b&&a.addEventListener(\"click\",function(c){b.style.display=b.style.display?\"\":\"none\";c.preventDefault()},!1);}).call(this);</script></div></div><div class=\"BsXmcf\"></div><style>.Gx5Zad{margin-bottom:30px;margin:0px 0px 8px;}.pkphOe{font-size:14px;line-height:22px;}.EtOod>*:first-child{border-top-left-radius:8px;border-top-right-radius:8px}.EtOod>*:last-child{border-bottom-left-radius:8px;border-bottom-right-radius:8px}.EtOod.avPKgf>*:last-child{border-bottom-left-radius:4px}.rl7ilb{display:block;clear:both}.egMi0{margin-bottom:-23px}.kCrYT{padding:16px 14px 12px}a.fdYsqf{color:#4b11a8}.sCuL3{position:absolute;width:100%;top:0;left:0;padding-top:1px;margin-bottom:-1px}.j039Wc{padding-top:28px;margin-bottom:-1px}.DnJfK{position:relative}.zBAuLc{line-height:normal;margin:0;padding:0}.BNeawe{white-space:pre-line;word-wrap:break-word}.vvjwJb{color:#1a0dab;font-size:20px;line-height:26px}a:visited .vvjwJb,.vvjwJb a:visited{color:#4b11a8}.vvjwJb.HrGdeb{color:#fff}a:visited .vvjwJb.HrGdeb,.vvjwJb.HrGdeb a:visited{color:rgba(255,255,255,.70)}.UPmit{font-size:14px;line-height:22px}.UPmit.HrGdeb{color:rgba(255,255,255,.70)}.UPmit.AP7Wnd{color:#202124}.lRVwie{text-overflow:ellipsis;white-space:nowrap;overflow:hidden}.Ap5OSd{padding-bottom:12px}.s3v9rd{font-size:14px;line-height:22px}.s3v9rd.HrGdeb{color:#fff}.s3v9rd.AP7Wnd{color:#202124}.mSx1Ee{padding-left:48px;margin:0}.v9i61e{padding-bottom:8px}.r0bn4c.tr0dw{color:rgba(255,255,255,.70)}.r0bn4c.rQMQod{color:#70757a}.tP9Zud{display:inline-block;}.QzarWc{color:#3c4043}.oqSTJd{color:#70757a}.Hk2yDb,.Hk2yDb span{background-repeat:repeat-x;background-size:14px,14px;height:14px;width:70px}.Hk2yDb{display:inline-block;font-size:0;line-height:0;position:relative;top:1px}.Hk2yDb span{display:block}.Hk2yDb.KsR1A{background-image:url(data:image/png;base64,iVBORw0KGgoAAAANSUhEUgAAACgAAAAoBAMAAAB+0KVeAAAAD1BMVEVMaXEAAAAAAAAAAAAAAACF6eB8AAAABXRSTlMAID8OM2w9R7oAAACdSURBVHgBvdGBCcIwEEbhq+kAaXEA+5oBYuoAmnb/mQT5gcMDCoB+AIEA9y7EfmrIFl1uFrXVol4sSFBjB3LsQCzNsMQOlNjhq5S26Qrwmjbdp6PjlKMq4SiXwNOAhrOadDeymoyAPP1zfEUGJJvTNdFOLxFzElLPQqNb0/8F+x39iDTYzR56ucws7pBePtnU/aKomrpbM5sM1f7pDdrTIIXMnb07AAAAAElFTkSuQmCC)}.Hk2yDb.KsR1A span{background-image:url(data:image/png;base64,iVBORw0KGgoAAAANSUhEUgAAACgAAAAoBAMAAAB+0KVeAAAAGFBMVEVMaXH0tAD0tAD0tAD0tAD0tAD0tAD0tAB7hoq7AAAACHRSTlMAP6Ib/oXVZJ3/vYgAAADHSURBVHgBnNE1A4JgGARgmtHW0dxtZ+OA0dbRdrX/v+RLmkc/9H3MH2HjEcgVIrA1iMCZEoF7NWwycA6hBKxDmAZ6IawA/aDx0FMLoGjgKIAdA3d0WM89SkfYOZaWl5SOdwSiGe0EMW4/jkIP5vdeU2t2k14sUGugKJ6GKGdfG0aoE/+l509I7y/4azfiL7/l4IDIU4rmHwv0zZUH94AaZ421f4DO1ofVCFmgbGwbQNwzahtrJ4sRoUQvva8JuRo9vcA8RyMAAIXWR1O6HNlyAAAAAElFTkSuQmCC)}.cAuxJf{font-size:20px;font-weight:bold;line-height:26px;color:#1f1f1f;margin:0}.tAd8D{font-size:14px;line-height:20px}.tAd8D.HrGdeb{color:rgba(255,255,255,.70)}.tAd8D.AP7Wnd{color:#70757a}.Xb5VRe{color:#1a0dab}a:visited .Xb5VRe{color:#4b11a8}.Xb5VRe.tr0dw{color:#fff}a:visited .Xb5VRe.tr0dw{color:rgba(255,255,255,.70)}.Xdlr0d{overflow-x:auto;-webkit-overflow-scrolling:touch;margin:0 -8px;padding:2px 0 16px 22px;margin-top:-2px;transform:translate3d(0,0,0)}.idg8be{display:table;border-collapse:separate;border-spacing:8px 0;margin:0 -8px;padding-right:14px}.BVG0Nb{display:table-cell;vertical-align:top;overflow:hidden}.pijXPc{overflow:hidden;border-radius:16px;background-color:#f7f8f9;font-size:18px}.OxTOff{overflow:hidden;border-radius:8px;background-color:#f7f8f9}.WddBJd{display:block;margin:0 auto;border-radius:8px}.RJI4s{vertical-align:middle}.mHhylf{display:table-cell;vertical-align:middle}.WZ5GJf{align-items:center;padding:0 20px;min-width:112px}.qN9Ked,.DXk5Me{margin:0 auto;color:#001d35}.DXk5Me{cursor:pointer;margin-bottom:12px}.Dk7jOe{display:block;margin:0 auto}.Qi9Fd{border:0;border-radius:999px;display:block;height:56px;justify-content:center;width:56px;z-index:0;background:#f7f8f9;}.Qi9Fd:focus{outline:none}.Qi9Fd .hWHuJ{display:block;margin:0 auto}.MmS8p span{mask-image:url(data:image/png;base64,iVBORw0KGgoAAAANSUhEUgAAADAAAAAwCAQAAAD9CzEMAAAAXUlEQVR4Ae3NPQqAMBQE4b2WPxcTLFaPHA8QkVcbCPqKwHzbzwpAt0NWolNVNe9if/KZF5MKF1xwwUWoH+bMg5gHP7B+N6sMnF/It/IX+Tcr+ZYtMx+cmQ/uzwO4AfFiCfnWUbTrAAAAAElFTkSuQmCC)}.ji5jpf{text-align:center}.sRN2ub,.OcpZAb{padding-top:16px;padding-bottom:12px}.MlK5cf{padding-left:14px;}.J094Fd,.OcpZAb,.ZXY5Ec,.RQNVx{padding-left:14px;padding-right:14px;}.ZXY5Ec{padding-bottom:12px}.RQNVx{padding-top:12px}.nMymef{display:flex}.G5eFlf{flex:1;display:block}.nMymef span{text-align:center}.EYqSq{margin:6px 4px 9px 0;border-radius:100%;display:inline-block;height:10px;vertical-align:middle;width:10px}.dfB0uf{color:#3c4043;font-weight:bold}.IffyKc{word-wrap:break-word}</style><div></div><div><div class=\"Gx5Zad xpd EtOod pkphOe\"><div class=\"egMi0 kCrYT\"><a href=\"/url?q=https://www.off---white.com/en-us/shopping/off-white-white-off-stamp-second-skin-l-s-turtleneck-23348161%3Fsrsltid%3DAfmBOoqJ4x-d3Ur7hbKcHqDQxkXgPfL2cNNaaBlkKKkT46GWoswe3e3T&amp;sa=U&amp;ved=2ahUKEwjgr--X0raJAxU6JzQIHTudGugQFnoECAIQAg&amp;usg=AOvVaw13RRjuSWfJz2fqmejYdO9h\" data-ved=\"2ahUKEwjgr--X0raJAxU6JzQIHTudGugQFnoECAIQAg\"><div class=\"DnJfK\"><div class=\"j039Wc\"><h3 class=\"zBAuLc l97dzf\"><div class=\"BNeawe vvjwJb AP7Wnd\">white off stamp second skin l/s turtleneck</div></h3></div><div class=\"sCuL3\"><div class=\"BNeawe UPmit AP7Wnd lRVwie\">www.off---white.com &#8250; ... &#8250; Woman &#8250; Clothing &#8250; T-Shirts &amp; Tops &#8250; Tops</div></div></div></a></div><div class=\"kCrYT\"><div><div class=\"BNeawe s3v9rd AP7Wnd\"><div><div class=\"v9i61e\"><div class=\"BNeawe s3v9rd AP7Wnd\"><span class=\"r0bn4c rQMQod\">$495.00</span> <span class=\"r0bn4c rQMQod\">Free delivery</span> <span class=\"r0bn4c rQMQod\">In stock</span></div></div><div><div class=\"BNeawe s3v9rd AP7Wnd\">Made in Italy. Product ID: OWAD122C99JER0030110. Product Details. Colors: WHITE BLACK. Sizes (IT):. 36. 38. 40. 42. 44. 46. Size Help. Size Help.</div></div></div></div></div></div></div></div><div><div class=\"Gx5Zad xpd EtOod pkphOe\"><div class=\"egMi0 kCrYT\"><a href=\"/url?q=https://www.farfetch.com/shopping/women/off-white-logo-print-second-skin-top-item-23348161.aspx&amp;sa=U&amp;ved=2ahUKEwjgr--X0raJAxU6JzQIHTudGugQFnoECAkQAg&amp;usg=AOvVaw1K8H8nHw_Cieiz3-GYuLNT\" data-ved=\"2ahUKEwjgr--X0raJAxU6JzQIHTudGugQFnoECAkQAg\"><div class=\"DnJfK\"><div class=\"j039Wc\"><h3 class=\"zBAuLc l97dzf\"><div class=\"BNeawe vvjwJb AP7Wnd\">Off-White logo-print second-skin Top - Farfetch</div></h3></div><div class=\"sCuL3\"><div class=\"BNeawe UPmit AP7Wnd lRVwie\">www.farfetch.com &#8250; ... &#8250; Off-White &#8250; Clothing &#8250; T-Shirts &amp; Jersey Shirts</div></div></div></a></div><div class=\"kCrYT\"><div><div class=\"BNeawe s3v9rd AP7Wnd\"><div><div class=\"v9i61e\"><div class=\"BNeawe s3v9rd AP7Wnd\"><span class=\"r0bn4c rQMQod\">$276.00 to $495.00</span> <span class=\"r0bn4c rQMQod\">Free delivery</span> <span class=\"r0bn4c rQMQod\">In stock</span></div></div><div><div class=\"BNeawe s3v9rd AP7Wnd\">Highlights · white · stretch-jersey · lightweight construction · high neck · long sleeves · logo print at the chest · straight hem · pull-on style\\xa0...</div></div></div></div></div></div></div></div><div><div class=\"Gx5Zad xpd EtOod pkphOe\"><div class=\"egMi0 kCrYT\"><a href=\"/url?q=https://www.farfetch.com/az/shopping/women/off-white-logo-print-second-skin-top-item-23348161.aspx&amp;sa=U&amp;ved=2ahUKEwjgr--X0raJAxU6JzQIHTudGugQFnoECAUQAg&amp;usg=AOvVaw3Ep9EqMOh1OTbojA9IF_va\" data-ved=\"2ahUKEwjgr--X0raJAxU6JzQIHTudGugQFnoECAUQAg\"><div class=\"DnJfK\"><div class=\"j039Wc\"><h3 class=\"zBAuLc l97dzf\"><div class=\"BNeawe vvjwJb AP7Wnd\">Off-White logo-print second-skin Top | White | FARFETCH AZ</div></h3></div><div class=\"sCuL3\"><div class=\"BNeawe UPmit AP7Wnd lRVwie\">www.farfetch.com &#8250; Clothing &#8250; Tops &#8250; T-Shirts &amp; Jersey Shirts</div></div></div></a></div><div class=\"kCrYT\"><div><div class=\"BNeawe s3v9rd AP7Wnd\"><div><div class=\"v9i61e\"><div class=\"BNeawe s3v9rd AP7Wnd\"><span class=\"r0bn4c rQMQod\">$493.00</span> <span class=\"r0bn4c rQMQod\">10&#8211;11 day delivery</span> <span class=\"r0bn4c rQMQod\">In stock</span></div></div><div><div class=\"BNeawe s3v9rd AP7Wnd\">Highlights · white · stretch-jersey · lightweight construction · high neck · long sleeves · logo print at the chest · straight hem · pull-on style\\xa0...</div></div></div></div></div></div></div></div><div><div class=\"Gx5Zad xpd EtOod pkphOe\"><div class=\"egMi0 kCrYT\"><a href=\"/url?q=https://www.italist.com/us/women/clothing/topwear/second-skin-long-sleeve-turtleneck-top/14399662/14567353/off-white/%3Fsrsltid%3DAfmBOoqLBjyZHgLHHkoB497hl0MTJ1dZA6P4KEZHVgiwdtO8W3YddGP2&amp;sa=U&amp;ved=2ahUKEwjgr--X0raJAxU6JzQIHTudGugQFnoECAgQAg&amp;usg=AOvVaw2ZDB5JYQDGplyC43D-Th2S\" data-ved=\"2ahUKEwjgr--X0raJAxU6JzQIHTudGugQFnoECAgQAg\"><div class=\"DnJfK\"><div class=\"j039Wc\"><h3 class=\"zBAuLc l97dzf\"><div class=\"BNeawe vvjwJb AP7Wnd\">Off-White Second Skin Long Sleeve Turtleneck Top - Italist</div></h3></div><div class=\"sCuL3\"><div class=\"BNeawe UPmit AP7Wnd lRVwie\">www.italist.com &#8250; Home &#8250; Women &#8250; Clothing &#8250; Topwear &#8250; Off-White</div></div></div></a></div><div class=\"kCrYT\"><div><div class=\"BNeawe s3v9rd AP7Wnd\"><div><div class=\"v9i61e\"><div class=\"BNeawe s3v9rd AP7Wnd\"><span class=\"r0bn4c rQMQod\">Rating</span> <span class=\"r0bn4c rQMQod tP9Zud\"><span> </span><span aria-hidden=\"true\" class=\"oqSTJd\">5.0</span><span> </span><div class=\"Hk2yDb KsR1A\" aria-label=\"Rated 5.0 out of 5\" role=\"img\"><span style=\"width:70px\"></span></div><span> </span><span>(1)</span><span> </span></span> <span class=\"r0bn4c rQMQod\"> · </span><span class=\"r0bn4c rQMQod\">$422.00</span> <span class=\"r0bn4c rQMQod\"> · </span><span class=\"r0bn4c rQMQod\">Free delivery</span></div></div><div><div class=\"BNeawe s3v9rd AP7Wnd\">The model is 177 cm tall and wears a size IT 38. Composition: 95%VI, 4%EA. Made in Italy. Color: WHITE BLACK (White). Model number: OWAD122C99JER0030110. About\\xa0...</div></div></div></div></div></div></div></div><div><div class=\"Gx5Zad xpd EtOod pkphOe\"><div class=\"egMi0 kCrYT\"><a href=\"/url?q=https://www.pinterest.com/pin/799881583883470742/&amp;sa=U&amp;ved=2ahUKEwjgr--X0raJAxU6JzQIHTudGugQFnoECAoQAg&amp;usg=AOvVaw2xAjFpZp5XCNtynw7sXbE8\" data-ved=\"2ahUKEwjgr--X0raJAxU6JzQIHTudGugQFnoECAoQAg\"><div class=\"DnJfK\"><div class=\"j039Wc\"><h3 class=\"zBAuLc l97dzf\"><div class=\"BNeawe vvjwJb AP7Wnd\">Off-White Sweater - IT 38 - Pinterest</div></h3></div><div class=\"sCuL3\"><div class=\"BNeawe UPmit AP7Wnd lRVwie\">www.pinterest.com &#8250; Explore &#8250; Women\\'s Fashion</div></div></div></a></div><div class=\"kCrYT\"><div><div class=\"BNeawe s3v9rd AP7Wnd\"><div><div><div class=\"BNeawe s3v9rd AP7Wnd\">-Raised neck-contrasting logo on the front-long sleeves-tight fit -straight hemGender: WomenMaterial: VISCOSE | 95% VISCOSE 5% ELASTANEColor: WHITEMade in:\\xa0...</div></div></div></div></div></div></div></div><div><div class=\"Gx5Zad xpd EtOod pkphOe\"><div class=\"egMi0 kCrYT\"><a href=\"/url?q=https://www.italist.com/en-kw/women/clothing/topwear/topwear-in-white-viscose/14523977/14691668/off-white/%3Fsrsltid%3DAfmBOopo3E0y1TkTXCBerxpnj0kZJ6NZX6ZkNPzy93LTERi6AgMqRcZY&amp;sa=U&amp;ved=2ahUKEwjgr--X0raJAxU6JzQIHTudGugQFnoECAQQAg&amp;usg=AOvVaw2-LQBWDngNkwSeRZhC0-Sv\" data-ved=\"2ahUKEwjgr--X0raJAxU6JzQIHTudGugQFnoECAQQAg\"><div class=\"DnJfK\"><div class=\"j039Wc\"><h3 class=\"zBAuLc l97dzf\"><div class=\"BNeawe vvjwJb AP7Wnd\">Off-White Topwear In White Viscose | italist</div></h3></div><div class=\"sCuL3\"><div class=\"BNeawe UPmit AP7Wnd lRVwie\">www.italist.com &#8250; Home &#8250; Women &#8250; Clothing &#8250; Topwear &#8250; Off-White</div></div></div></a></div><div class=\"kCrYT\"><div><div class=\"BNeawe s3v9rd AP7Wnd\"><div><div class=\"v9i61e\"><div class=\"BNeawe s3v9rd AP7Wnd\"><span class=\"r0bn4c rQMQod\">&#8364;353.54</span> <span class=\"r0bn4c rQMQod\">Free delivery</span> <span class=\"r0bn4c rQMQod\">In stock</span></div></div><div><div class=\"BNeawe s3v9rd AP7Wnd\">Model number: OWAD122C99JER0030110. About the designer. Off-White is an Italian fashion brand founded by Virgil Abloh. The men\\'s and women\\'s collections\\xa0...</div></div></div></div></div></div></div></div><div><div class=\"Gx5Zad xpd EtOod pkphOe\"><div class=\"egMi0 kCrYT\"><a href=\"/url?q=https://www.reversible.com/shopping/women/item/off-white-off-stamp-sec-skin-l-s-turtle-white-a-bl-176464479%3Fsrsltid%3DAfmBOop9DWr10D4ZOiM09qTFucgk-F1UADe77Rq1nJ4r-B2vpuK66dfd&amp;sa=U&amp;ved=2ahUKEwjgr--X0raJAxU6JzQIHTudGugQFnoECAcQAg&amp;usg=AOvVaw2UkHHllT-ViAlxeAJS1gtG\" data-ved=\"2ahUKEwjgr--X0raJAxU6JzQIHTudGugQFnoECAcQAg\"><div class=\"DnJfK\"><div class=\"j039Wc\"><h3 class=\"zBAuLc l97dzf\"><div class=\"BNeawe vvjwJb AP7Wnd\">Off-White Off Stamp Sec Skin L/s Turtle | REVERSIBLE</div></h3></div><div class=\"sCuL3\"><div class=\"BNeawe UPmit AP7Wnd lRVwie\">www.reversible.com &#8250; Women &#8250; Off-White &#8250; Clothing &#8250; Tops</div></div></div></a></div><div class=\"kCrYT\"><div><div class=\"BNeawe s3v9rd AP7Wnd\"><div><div class=\"v9i61e\"><div class=\"BNeawe s3v9rd AP7Wnd\"><span class=\"r0bn4c rQMQod\">Free delivery</span></div></div><div><div class=\"BNeawe s3v9rd AP7Wnd\">Description. This long-sleeved turtle neck top features a small embroidered stencil logo and is crafted from ribbed cotton with elastane for a close fit.</div></div></div></div></div></div></div></div><div><div class=\"Gx5Zad xpd EtOod pkphOe\"><div class=\"egMi0 kCrYT\"><a href=\"/url?q=https://id.pinterest.com/pin/799881583880148746/&amp;sa=U&amp;ved=2ahUKEwjgr--X0raJAxU6JzQIHTudGugQFnoECAMQAg&amp;usg=AOvVaw36kWZ6iWknz196Vn8QieH0\" data-ved=\"2ahUKEwjgr--X0raJAxU6JzQIHTudGugQFnoECAMQAg\"><div class=\"DnJfK\"><div class=\"j039Wc\"><h3 class=\"zBAuLc l97dzf\"><div class=\"BNeawe vvjwJb AP7Wnd\">Off-White OFF-WHITE WHITE VISCOSE TURTLENECK SWEATER ...</div></h3></div><div class=\"sCuL3\"><div class=\"BNeawe UPmit AP7Wnd lRVwie\">id.pinterest.com &#8250; Jelajahi &#8250; Model Pakaian Wanita</div></div></div></a></div><div class=\"kCrYT\"><div><div class=\"BNeawe s3v9rd AP7Wnd\"><div><div><div class=\"BNeawe s3v9rd AP7Wnd\">... . Gender: Women. Material: 95% viscose, 5% elastane. Color: WHITE. Made in: IT. Product ID: OWAD122C99JER0030110.</div></div></div></div></div></div></div></div><div><div class=\"Gx5Zad xpd EtOod pkphOe\"><div class=\"egMi0 kCrYT\"><a href=\"/url?q=https://www.buyma.com/item/110262358/%3Fsrsltid%3DAfmBOoqNwPSvdiAFeRIIoUwwePt62tujFs7kkzC9HJOQ6ZvcN9D9enEq&amp;sa=U&amp;ved=2ahUKEwjgr--X0raJAxU6JzQIHTudGugQFnoECAYQAg&amp;usg=AOvVaw1QrBxH0lFrrcwtk-ANYfey\" data-ved=\"2ahUKEwjgr--X0raJAxU6JzQIHTudGugQFnoECAYQAg\"><div class=\"DnJfK\"><div class=\"j039Wc\"><h3 class=\"zBAuLc l97dzf\"><div class=\"BNeawe vvjwJb AP7Wnd\">OFF WHITE OFF STAMP SEC SKIN &#12475;&#12540;&#12479;&#12540; - BUYMA</div></h3></div><div class=\"sCuL3\"><div class=\"BNeawe UPmit AP7Wnd lRVwie\">www.buyma.com &#8250; item</div></div></div></a></div><div class=\"kCrYT\"><div><div class=\"BNeawe s3v9rd AP7Wnd\"><div><div><div class=\"BNeawe s3v9rd AP7Wnd\">Off-White&#65288;&#12458;&#12501;&#12507;&#12527;&#12452;&#12488;&#65289; x &#12491;&#12483;&#12488;&#12539;&#12475;&#12540;&#12479;&#12540;&#65288;&#12524;&#12487;&#12451;&#12540;&#12473;&#65289;. &#12502;&#12521;&#12531;&#12489;&#22411;&#30058; OWAD122C99JER0030110. &#36023;&#20184;&#22320; &#12452;&#12479;&#12522;&#12450; &#12502;&#12521;&#12531;&#12489;&#27491;&#35215;&#21462;&#12426;&#25201;&#12356;&#24215;. &#30330;&#36865;&#22320;.</div></div></div></div></div></div></div></div><div><div class=\"Gx5Zad xpd EtOod pkphOe\"><div class=\"kCrYT\"><span class=\"cAuxJf\"><div class=\"BNeawe\"><span class=\"BNeawe\"><a href=\"https://www.google.com/search?sca_esv=362529b1f3dde5c1&amp;ie=UTF-8&amp;ei=hm4iZ-DUHrrO0PEPu7rqwA4&amp;q=OWAD122C99JER0030110&amp;tbm=isch&amp;sa=X&amp;ved=2ahUKEwjgr--X0raJAxU6JzQIHTudGugQsAR6BAgLEAE\" data-ved=\"2ahUKEwjgr--X0raJAxU6JzQIHTudGugQsAR6BAgLEAE\"><span><span class=\"FCUp0c rQMQod\">Images</span></span></a></span></div></span><div class=\"BNeawe tAd8D AP7Wnd\"><span class=\"BNeawe\"><a href=\"https://www.google.com/search?sca_esv=362529b1f3dde5c1&amp;ie=UTF-8&amp;ei=hm4iZ-DUHrrO0PEPu7rqwA4&amp;q=OWAD122C99JER0030110&amp;tbm=isch&amp;sa=X&amp;ved=2ahUKEwjgr--X0raJAxU6JzQIHTudGugQ7Al6BAgLEAI\" data-ved=\"2ahUKEwjgr--X0raJAxU6JzQIHTudGugQ7Al6BAgLEAI\"><span class=\"tAd8D AP7Wnd\"><span class=\"rQMQod Xb5VRe\">View all</span></span></a></span></div></div><div><div><div><div class=\"Xdlr0d\"><div class=\"idg8be\"><a class=\"BVG0Nb OxTOff\" href=\"https://www.google.com/imgres?imgurl=https://images.thebestshops.com/product_images/original/SL13172-051_01-47eaa4.jpg&amp;imgrefurl=https://www.thebs.com/gb/turtleneck-off-white-510840&amp;h=1600&amp;w=1200&amp;tbnid=74pFsn7YyJgdeM&amp;q=OWAD122C99JER0030110&amp;tbnh=150&amp;tbnw=113&amp;usg=AI4_-kSkNOtTy36vcffcoRc4TKFurNH_8g&amp;vet=1&amp;docid=7U6wI0bvlt6MXM&amp;itg=1&amp;sa=X&amp;ved=2ahUKEwjgr--X0raJAxU6JzQIHTudGugQ9QF6BAgLEAQ\" data-ved=\"2ahUKEwjgr--X0raJAxU6JzQIHTudGugQ9QF6BAgLEAQ\"><div><img class=\"WddBJd\" style=\"max-width:none;height:128px;max-height:128px\" alt=\"Turtlenecks &amp; Polo necks Off-White - Turtleneck - OWAD122C99JER0030110\" src=\"data:image/gif;base64,R0lGODlhAQABAIAAAP///////yH5BAEKAAEALAAAAAABAAEAAAICTAEAOw==\" id=\"dimg_1\" data-deferred=\"1\"></div></a><a class=\"BVG0Nb OxTOff\" href=\"https://www.google.com/imgres?imgurl=https://tshop.r10s.jp/ciaoitalia/cabinet/10531913/duomo1.jpg?fitin%3D720%253A720&amp;imgrefurl=https://item.rakuten.co.jp/ciaoitalia/r0102766714/&amp;h=720&amp;w=525&amp;tbnid=FEwkuuInUiaB9M&amp;q=OWAD122C99JER0030110&amp;tbnh=140&amp;tbnw=102&amp;usg=AI4_-kSRLhQOOxSpGAG3SPPrwX30O-cj4A&amp;vet=1&amp;docid=rRMVH-T4udjkLM&amp;itg=1&amp;sa=X&amp;ved=2ahUKEwjgr--X0raJAxU6JzQIHTudGugQ9QF6BAgLEAY\" data-ved=\"2ahUKEwjgr--X0raJAxU6JzQIHTudGugQ9QF6BAgLEAY\"><div><img class=\"WddBJd\" style=\"max-width:none;height:128px;max-height:128px\" alt=\"&#27005;&#22825;&#24066;&#22580;&#12305;&#12458;&#12501;&#12507;&#12527;&#12452;&#12488; / Off-White Funnel-Neck T-Shirt With Off ...\" src=\"data:image/gif;base64,R0lGODlhAQABAIAAAP///////yH5BAEKAAEALAAAAAABAAEAAAICTAEAOw==\" id=\"dimg_3\" data-deferred=\"1\"></div></a><a class=\"BVG0Nb OxTOff\" href=\"https://www.google.com/imgres?imgurl=https://cdn-images.italist.com/image/upload/t_medium_mobile_dpr_2_q_auto_v_2,f_auto/a854eab0a2732e24fb4ad903c57a0606.jpg&amp;imgrefurl=https://www.italist.com/us/women/clothing/topwear/second-skin-long-sleeve-turtleneck-top/14399662/14567353/off-white/&amp;h=1100&amp;w=930&amp;tbnid=RXEnsON5AMyAdM&amp;q=OWAD122C99JER0030110&amp;tbnh=150&amp;tbnw=127&amp;usg=AI4_-kTZ_ptkJ4cGDWLgis-Uy1WC5pE-Xg&amp;vet=1&amp;docid=jHTn7WeEY1duSM&amp;itg=1&amp;sa=X&amp;ved=2ahUKEwjgr--X0raJAxU6JzQIHTudGugQ9QF6BAgLEAg\" data-ved=\"2ahUKEwjgr--X0raJAxU6JzQIHTudGugQ9QF6BAgLEAg\"><div><img class=\"WddBJd\" style=\"max-width:none;height:128px;max-height:128px\" alt=\"Off-White Second Skin Long Sleeve Turtleneck Top | italist, ALWAYS ...\" src=\"data:image/gif;base64,R0lGODlhAQABAIAAAP///////yH5BAEKAAEALAAAAAABAAEAAAICTAEAOw==\" id=\"dimg_5\" data-deferred=\"1\"></div></a><a class=\"BVG0Nb OxTOff\" href=\"https://www.google.com/imgres?imgurl=https://images.thebestshops.com/product_images/medium/SL13102-073_01-b927d2.jpg&amp;imgrefurl=https://www.thebs.com/gb/turtleneck-off-white-510840&amp;h=400&amp;w=300&amp;tbnid=S_hQJnTg7luAZM&amp;q=OWAD122C99JER0030110&amp;tbnh=124&amp;tbnw=93&amp;usg=AI4_-kQ81PH4gcVfDXYSM6_6i0VsL2jT4g&amp;vet=1&amp;docid=7U6wI0bvlt6MXM&amp;itg=1&amp;sa=X&amp;ved=2ahUKEwjgr--X0raJAxU6JzQIHTudGugQ9QF6BAgLEAo\" data-ved=\"2ahUKEwjgr--X0raJAxU6JzQIHTudGugQ9QF6BAgLEAo\"><div><img class=\"WddBJd\" style=\"max-width:none;height:128px;max-height:128px\" alt=\"Turtlenecks &amp; Polo necks Off-White - Turtleneck - OWAD122C99JER0030110\" src=\"data:image/gif;base64,R0lGODlhAQABAIAAAP///////yH5BAEKAAEALAAAAAABAAEAAAICTAEAOw==\" id=\"dimg_7\" data-deferred=\"1\"></div></a><a class=\"BVG0Nb OxTOff\" href=\"https://www.google.com/imgres?imgurl=https://cdn-images.italist.com/image/upload/t_medium_mobile_dpr_2_q_auto_v_2,f_auto/c04ded5fbb1d64f8cdffeffe0d2132fe.jpg&amp;imgrefurl=https://www.italist.com/en-kw/women/clothing/topwear/topwear-in-white-viscose/14523977/14691668/off-white/&amp;h=1100&amp;w=930&amp;tbnid=e_UVZxEhNOFKUM&amp;q=OWAD122C99JER0030110&amp;tbnh=150&amp;tbnw=127&amp;usg=AI4_-kSZxUe-V_B3sRUugEv1lE9r2AWdKw&amp;vet=1&amp;docid=_mV-1sRYI8lmIM&amp;itg=1&amp;sa=X&amp;ved=2ahUKEwjgr--X0raJAxU6JzQIHTudGugQ9QF6BAgLEAw\" data-ved=\"2ahUKEwjgr--X0raJAxU6JzQIHTudGugQ9QF6BAgLEAw\"><div><img class=\"WddBJd\" style=\"max-width:none;height:128px;max-height:128px\" alt=\"Off-White Topwear In White Viscose | italist\" src=\"data:image/gif;base64,R0lGODlhAQABAIAAAP///////yH5BAEKAAEALAAAAAABAAEAAAICTAEAOw==\" id=\"dimg_9\" data-deferred=\"1\"></div></a><a class=\"BVG0Nb OxTOff\" href=\"https://www.google.com/imgres?imgurl=https://cdn-images.farfetch-contents.com/23/34/81/61/23348161_53745537_1000.jpg&amp;imgrefurl=https://www.farfetch.com/shopping/women/off-white-logo-print-second-skin-top-item-23348161.aspx&amp;h=1334&amp;w=1000&amp;tbnid=ZBmjLYLVFxpT-M&amp;q=OWAD122C99JER0030110&amp;tbnh=150&amp;tbnw=112&amp;usg=AI4_-kSA7CPvap0UItWzQcdfn-gnnYS-rg&amp;vet=1&amp;docid=7eX4uEHyysGfbM&amp;itg=1&amp;sa=X&amp;ved=2ahUKEwjgr--X0raJAxU6JzQIHTudGugQ9QF6BAgLEA4\" data-ved=\"2ahUKEwjgr--X0raJAxU6JzQIHTudGugQ9QF6BAgLEA4\"><div><img class=\"WddBJd\" style=\"max-width:none;height:128px;max-height:128px\" alt=\"Off-White logo-print second-skin Top | White | FARFETCH\" src=\"data:image/gif;base64,R0lGODlhAQABAIAAAP///////yH5BAEKAAEALAAAAAABAAEAAAICTAEAOw==\" id=\"dimg_11\" data-deferred=\"1\"></div></a><a class=\"BVG0Nb OxTOff\" href=\"https://www.google.com/imgres?imgurl=https://cdn-images.farfetch-contents.com/off-white-white-off-stamp-second-skin-l-s-turtleneck_23348161_54078367_1000.jpg&amp;imgrefurl=https://www.off---white.com/en-gr/shopping/off-white-white-off-stamp-second-skin-l-s-turtleneck-23348161&amp;h=1334&amp;w=1000&amp;tbnid=oPBwlrEAf7Mf1M&amp;q=OWAD122C99JER0030110&amp;tbnh=150&amp;tbnw=112&amp;usg=AI4_-kRVMkTRTQe05aKZafIOLDZWpAD15g&amp;vet=1&amp;docid=E9j5M_RO4Bj_vM&amp;itg=1&amp;sa=X&amp;ved=2ahUKEwjgr--X0raJAxU6JzQIHTudGugQ9QF6BAgLEBA\" data-ved=\"2ahUKEwjgr--X0raJAxU6JzQIHTudGugQ9QF6BAgLEBA\"><div><img class=\"WddBJd\" style=\"max-width:none;height:128px;max-height:128px\" alt=\"WHITE OFF STAMP SECOND SKIN L/S TURTLENECK in white | Off-White ...\" src=\"data:image/gif;base64,R0lGODlhAQABAIAAAP///////yH5BAEKAAEALAAAAAABAAEAAAICTAEAOw==\" id=\"dimg_13\" data-deferred=\"1\"></div></a><a class=\"BVG0Nb OxTOff\" href=\"https://www.google.com/imgres?imgurl=https://cdnp.sanmar.com/medias/sys_master/images/h2b/h85/15670813720606/1200W_6575_Blacktop-2-OE700BlacktopModelBack3/1200W-6575-Blacktop-2-OE700BlacktopModelBack3.jpg&amp;imgrefurl=https://catalog.companycasuals.com/p/6575_Blacktop&amp;h=1800&amp;w=1200&amp;tbnid=U1SLEzSrly96wM&amp;q=OWAD122C99JER0030110&amp;tbnh=150&amp;tbnw=100&amp;usg=AI4_-kQ1o5z9fB6PjvtI4yLfW9EK8ItoUA&amp;vet=1&amp;docid=ou71agvSCkdXEM&amp;sa=X&amp;ved=2ahUKEwjgr--X0raJAxU6JzQIHTudGugQ9QF6BAgLEBI\" data-ved=\"2ahUKEwjgr--X0raJAxU6JzQIHTudGugQ9QF6BAgLEBI\"><div><img class=\"WddBJd\" style=\"max-width:none;height:128px;max-height:128px\" alt=\"OGIO&lt;SUP&gt;®&lt;/SUP&gt; Fulcrum Full-Zip | Product | Company Casuals\" src=\"data:image/gif;base64,R0lGODlhAQABAIAAAP///////yH5BAEKAAEALAAAAAABAAEAAAICTAEAOw==\" id=\"dimg_15\" data-deferred=\"1\"></div></a><a class=\"BVG0Nb OxTOff\" href=\"https://www.google.com/imgres?imgurl=https://cdnp.sanmar.com/medias/sys_master/images/he9/h8b/15670813917214/1200W_6575_Blacktop-4-OE700BlacktopModelSide3/1200W-6575-Blacktop-4-OE700BlacktopModelSide3.jpg&amp;imgrefurl=https://catalog.companycasuals.com/p/6575_Blacktop&amp;h=1800&amp;w=1200&amp;tbnid=DR78rZPRDr1t3M&amp;q=OWAD122C99JER0030110&amp;tbnh=150&amp;tbnw=100&amp;usg=AI4_-kQ49qpjpUxXFR-vP4zVp4MQ3tbNHw&amp;vet=1&amp;docid=ou71agvSCkdXEM&amp;sa=X&amp;ved=2ahUKEwjgr--X0raJAxU6JzQIHTudGugQ9QF6BAgLEBQ\" data-ved=\"2ahUKEwjgr--X0raJAxU6JzQIHTudGugQ9QF6BAgLEBQ\"><div><img class=\"WddBJd\" style=\"max-width:none;height:128px;max-height:128px\" alt=\"OGIO&lt;SUP&gt;®&lt;/SUP&gt; Fulcrum Full-Zip | Product | Company Casuals\" src=\"data:image/gif;base64,R0lGODlhAQABAIAAAP///////yH5BAEKAAEALAAAAAABAAEAAAICTAEAOw==\" id=\"dimg_17\" data-deferred=\"1\"></div></a><div class=\"mHhylf\"><div class=\"WZ5GJf\"><a class=\"qN9Ked\" href=\"https://www.google.com/search?sca_esv=362529b1f3dde5c1&amp;ie=UTF-8&amp;ei=hm4iZ-DUHrrO0PEPu7rqwA4&amp;q=OWAD122C99JER0030110&amp;tbm=isch&amp;sa=X&amp;ved=2ahUKEwjgr--X0raJAxU6JzQIHTudGugQ7Al6BAgLEBU\" data-ved=\"2ahUKEwjgr--X0raJAxU6JzQIHTudGugQ7Al6BAgLEBU\"><button class=\"DXk5Me Qi9Fd\" tabindex=\"-1\"><span class=\"hWHuJ\"><span class=\"Dk7jOe WqQeqc MmS8p\"><span></span></span></span></button><div class=\"BNeawe ji5jpf s3v9rd AP7Wnd\">View all</div></a></div></div></div></div></div></div></div></div></div><footer> <div>  <div class=\"Gx5Zad xpd EtOod pkphOe OcpZAb\"><div class=\"nMymef Va3FIb lVm3ye\"><a class=\"nBDE1b G5eFlf\" href=\"/search?q=OWAD122C99JER0030110&amp;sca_esv=362529b1f3dde5c1&amp;ie=UTF-8&amp;ei=hm4iZ-DUHrrO0PEPu7rqwA4&amp;start=10&amp;sa=N\" aria-label=\"Next page\">Next &gt;</a></div></div> </div>  <div id=\"EOlPnc\"><div class=\"Srfpq\"><div><span class=\"EYqSq unknown_loc\"></span><span class=\"dfB0uf\">Oregon</span></div><span>From your IP address</span><span>&nbsp;-&nbsp;</span><a class=\"IffyKc\" href=\"/url?q=https://support.google.com/websearch%3Fp%3Dws_settings_location%26hl%3Den&amp;opi=89978449&amp;sa=U&amp;ved=0ahUKEwjgr--X0raJAxU6JzQIHTudGugQty4IUQ&amp;usg=AOvVaw1AKl5FnszYcMZT3K8J6-vb\" aria-label=\"Learn more about this location\" tabindex=\"0\">Learn more</a></div><div><a href=\"/url?q=https://accounts.google.com/ServiceLogin%3Fcontinue%3Dhttps://www.google.com/search%253Fq%253DOWAD122C99JER0030110%26hl%3Den&amp;opi=89978449&amp;sa=U&amp;ved=0ahUKEwjgr--X0raJAxU6JzQIHTudGugQxs8CCFI&amp;usg=AOvVaw3QTW55CBgo8fmIBPJQDgaQ\">Sign in</a></div><div><a class=\"xeDNfc\" href=\"https://www.google.com/preferences?hl=en&amp;fg=1&amp;sa=X&amp;ved=0ahUKEwjgr--X0raJAxU6JzQIHTudGugQ5fUCCFM\">Settings</a><a class=\"xeDNfc\" href=\"https://policies.google.com/privacy?hl=en&amp;fg=1\">Privacy</a><a class=\"xeDNfc\" href=\"https://policies.google.com/terms?hl=en&amp;fg=1\">Terms</a><a class=\"xeDNfc\" href=\"/setprefs?hl=en&amp;prev=https://www.google.com/search?q%3DOWAD122C99JER0030110%26pccc%3D1&amp;sig=0_c11_g2HEjNpsLT6EWpLH2oFGrrw%3D&amp;cs=2&amp;sa=X&amp;ved=0ahUKEwjgr--X0raJAxU6JzQIHTudGugQjcAJCFQ\">Dark theme: Off</a></div></div> </footer><script nonce=\"zXHqJOOUN5Tu9h5MGkYEnQ\">(function(){var hl=\\'en\\';(function(){var g=function(a){var b=0;return function(){return b<a.length?{done:!1,value:a[b++]}:{done:!0}}},k=typeof Object.defineProperties==\"function\"?Object.defineProperty:function(a,b,c){if(a==Array.prototype||a==Object.prototype)return a;a[b]=c.value;return a},l=function(a){a=[\"object\"==typeof globalThis&&globalThis,a,\"object\"==typeof window&&window,\"object\"==typeof self&&self,\"object\"==typeof global&&global];for(var b=0;b<a.length;++b){var c=a[b];if(c&&c.Math==Math)return c}throw Error(\"a\");},m=l(this),n=function(a,b){if(b)a:{var c=m;a=a.split(\".\");for(var d=0;d<a.length-1;d++){var e=a[d];if(!(e in c))break a;c=c[e]}a=a[a.length-1];d=c[a];b=b(d);b!=d&&b!=null&&k(c,a,{configurable:!0,writable:!0,value:b})}};n(\"Symbol\",function(a){if(a)return a;var b=function(h,f){this.g=h;k(this,\"description\",{configurable:!0,writable:!0,value:f})};b.prototype.toString=function(){return this.g};var c=\"jscomp_symbol_\"+(Math.random()*1E9>>>0)+\"_\",d=0,e=function(h){if(this instanceof e)throw new TypeError(\"Symbol is not a constructor\");return new b(c+(h||\"\")+\"_\"+d++,h)};return e});n(\"Symbol.iterator\",function(a){if(a)return a;a=Symbol(\"Symbol.iterator\");for(var b=\"Array Int8Array Uint8Array Uint8ClampedArray Int16Array Uint16Array Int32Array Uint32Array Float32Array Float64Array\".split(\" \"),c=0;c<b.length;c++){var d=m[b[c]];typeof d===\"function\"&&typeof d.prototype[a]!=\"function\"&&k(d.prototype,a,{configurable:!0,writable:!0,value:function(){return p(g(this))}})}return a});var p=function(a){a={next:a};a[Symbol.iterator]=function(){return this};return a},r=function(a){return q(a,a)},q=function(a,b){a.raw=b;Object.freeze&&(Object.freeze(a),Object.freeze(b));return a},t=function(){for(var a=Number(this),b=[],c=a;c<arguments.length;c++)b[c-a]=arguments[c];return b};n(\"globalThis\",function(a){return a||m});var u=function(a,b){a instanceof String&&(a+=\"\");var c=0,d=!1,e={next:function(){if(!d&&c<a.length){var h=c++;return{value:b(h,a[h]),done:!1}}d=!0;return{done:!0,value:void 0}}};e[Symbol.iterator]=function(){return e};return e};n(\"Array.prototype.entries\",function(a){return a?a:function(){return u(this,function(b,c){return[b,c]})}});n(\"Object.entries\",function(a){return a?a:function(b){var c=[],d;for(d in b)Object.prototype.hasOwnProperty.call(b,d)&&c.push([d,b[d]]);return c}});\\nvar v=globalThis.trustedTypes,x;function y(){var a=null;if(!v)return a;try{var b=function(c){return c};a=v.createPolicy(\"goog#html\",{createHTML:b,createScript:b,createScriptURL:b})}catch(c){}return a}function z(){x===void 0&&(x=y());return x};var A=function(a){this.g=a};A.prototype.toString=function(){return this.g+\"\"};function B(a){var b=z();return new A(b?b.createScriptURL(a):a)}function C(a){if(a instanceof A)return a.g;throw Error(\"e\");};var D=function(a){this.g=a};D.prototype.toString=function(){return this.g+\"\"};function E(a,b){if(a.nodeType===1&&/^(script|style)$/i.test(a.tagName))throw Error(\"e\");if(b instanceof D)b=b.g;else throw Error(\"e\");a.innerHTML=b};function F(a){var b=t.apply(1,arguments);if(b.length===0)return B(a[0]);for(var c=a[0],d=0;d<b.length;d++)c+=encodeURIComponent(b[d])+a[d+1];return B(c)}function G(a,b,c,d){function e(f,w){f!=null&&(Array.isArray(f)?f.forEach(function(aa){return e(aa,w)}):(b+=h+encodeURIComponent(w)+\"=\"+encodeURIComponent(f),h=\"&\"))}var h=b.length?\"&\":\"?\";d.constructor===Object&&(d=Object.entries(d));Array.isArray(d)?d.forEach(function(f){return e(f[1],f[0])}):d.forEach(e);return B(a+b+c)};function ba(a){a=a===null?\"null\":a===void 0?\"undefined\":a;var b=z();return new D(b?b.createHTML(a):a)};\\nvar ca=r([\"/complete/search\"]),H=document.querySelector(\".l\"),I=document.querySelector(\"#sf\"),J=I.querySelector(\".sbc\"),K=I.querySelector(\"[type=text]\"),L=I.querySelector(\"[type=submit]\"),M=I.querySelector(\".sc\"),N=I.querySelector(\".x\"),O=K.value,P=[],Q=-1,R=O,S,T,U;O||(N&&(N.style.display=\"none\"),V(!1));function V(a){if(J.classList.contains(\"esbc\")){var b=J.classList.contains(\"chsbc\"),c=J.classList.contains(\"rtlsbc\");a&&(M.style.display=\"block\",b?(I.style.borderRadius=\"20px 20px 0 0\",M.style.borderBottom=\"1px solid #DFE1E5\",L.style.borderRadius=c?\"20px 0 0 0\":\"0 20px 0 0\"):J.style.borderRadius=c?\"0 8px 0 0\":\"8px 0 0 0\");a||(M.style.display=\"none\",b?(I.style.borderRadius=\"20px\",M.style.borderBottom=\"none\",L.style.borderRadius=c?\"20px 0 0 20px\":\"0 20px 20px 0\"):J.style.borderRadius=c?\"0 8px 8px 0\":\"8px 0 0 8px\")}}function W(){I.querySelector(\"[name=oq]\").value=R;I.querySelector(\"[name=aqs]\").value=\"heirloom-srp.\"+(Q>=0?Q:\"\")+\".\"+(P.length>0?\"0l\"+P.length:\"\")}\\nfunction X(){S=null;if(T){var a={client:\"heirloom-srp\",hl:hl,json:\"t\",callback:\"hS\",q:T};typeof ds!==\"undefined\"&&ds&&(a.ds=ds);var b=document;var c=\"SCRIPT\";b.contentType===\"application/xhtml+xml\"&&(c=c.toLowerCase());c=b.createElement(c);b=F(ca);var d=C(b).toString();var e=d.split(/[?#]/),h=/[?]/.test(d)?\"?\"+e[1]:\"\";b=e[0];d=/[#]/.test(d)?\"#\"+(h?e[2]:e[1]):\"\";a=G(b,h,d,a);c.src=C(a);var f;a=c.ownerDocument&&c.ownerDocument.defaultView||window;a=a===void 0?document:a;var w;a=(w=(f=\"document\"in a?a.document:a).querySelector)==null?void 0:w.call(f,\"script[nonce]\");(f=a==null?\"\":a.nonce||a.getAttribute(\"nonce\")||\"\")&&c.setAttribute(\"nonce\",f);document.body.appendChild(c);T=null;S=setTimeout(X,500)}}function Y(){for(;M.firstChild;)M.removeChild(M.firstChild);P=[];Q=-1;V(!1)}function Z(){var a=M.querySelector(\".scs\");a&&(a.className=\"\");Q>=0?(a=M.childNodes[Q],a.className=\"scs\",O=a.textContent):O=R;K.value=O}K.addEventListener(\"focus\",function(){H&&(H.style.display=\"none\")},!1);K.addEventListener(\"blur\",function(){Y();H&&(H.style.display=\"\")},!1);K.addEventListener(\"keyup\",function(a){O=K.value;U=!1;a.which===13?W():a.which===27?(Y(),H&&(H.style.display=\"\"),O=R,K.value=O):a.which===40?(Q++,Q>=P.length&&(Q=-1),Z()):a.which===38?(Q--,Q<-1&&(Q=P.length-1),Z()):(a=O)?(N&&(N.style.display=\"\"),T=a,S||X(),R=a):(N&&(N.style.display=\"none\"),V(!1),Y(),R=\"\",U=!0)},!1);L.addEventListener(\"click\",W,!1);N.addEventListener(\"click\",function(){K.value=\"\";N.style.display=\"none\";V(!1)},!1);J.addEventListener(\"click\",function(){K.focus()},!1);window.hS=function(a){if(!U){Y();a[1].length===0&&V(!1);for(var b=0;b<a[1].length;b++){var c=a[1][b][0],d=document.createElement(\"div\");E(d,ba(c));d.addEventListener(\"mousedown\",function(e){e.preventDefault();return!1},!1);c=c.replace(/<\\\\/?b>/g,\"\");d.addEventListener(\"click\",function(e){return function(){Q=e;W();Z();Y();I.submit()}}(b),!1);d.addEventListener(\"mouseover\",function(e){return function(){Q!==e&&(Q=e,Z())}}(b),!1);M.appendChild(d);V(!0);P.push(c)}}};}).call(this);})();(function(){function b(a){for(a=a.target||a.srcElement;a&&a.nodeName!==\"A\";)a=a.parentElement;a&&(a.href||\"\").match(/\\\\/search.*[?&]tbm=isch/)&&(a.href+=\"&biw=\"+document.documentElement.clientWidth,a.href+=\"&bih=\"+document.documentElement.clientHeight)}document.addEventListener(\"click\",b,!1);document.addEventListener(\"touchStart\",b,!1);}).call(this);</script></div><!-- cctlcm 5 cctlcm --><textarea class=\"csi\" name=\"csi\" style=\"display:none\"></textarea><script nonce=\"zXHqJOOUN5Tu9h5MGkYEnQ\">(function(){var e=\\'hm4iZ-DUHrrO0PEPu7rqwA4\\';var sn=\\'web\\';var timl=false;(function(){function D(a){if(!a||E(a))return 0;if(!a.getBoundingClientRect)return 1;var c=function(b){return b.getBoundingClientRect()};return F(a,c)?0:K(a,c)}function F(a,c){var b;a:{for(b=a;b&&b!==null;b=b.parentElement)if(b.style.overflow===\"hidden\"||b.tagName===\"G-EXPANDABLE-CONTENT\"&&getComputedStyle(b).getPropertyValue(\"overflow\")===\"hidden\")break a;b=null}if(!b)return!1;a=c(a);c=c(b);return a.bottom<c.top||a.top>=c.bottom||a.right<c.left||a.left>=c.right}\\nfunction E(a){return a.style.display===\"none\"?!0:document.defaultView&&document.defaultView.getComputedStyle?(a=document.defaultView.getComputedStyle(a),!!a&&(a.visibility===\"hidden\"||a.height===\"0px\"&&a.width===\"0px\")):!1}\\nfunction K(a,c){var b=c(a);a=b.left+window.pageXOffset;c=b.top+window.pageYOffset;var f=b.width;b=b.height;var g=0;if(b<=0&&f<=0)return g;var u=window.innerHeight||document.documentElement.clientHeight;c+b<0?g=2:c>=u&&(g=4);if(a+f<0||a>=(window.innerWidth||document.documentElement.clientWidth))g|=8;g||(g=1,c+b>u&&(g|=4));return g};\\nvar L=(this||self).JSON.parse;var M=e,N=sn,O=typeof de===\"undefined\"?!0:de!==!1,P=location,Q=[];function R(a,c,b){a=\"/gen_204?atyp=csi&s=\"+N+\"&t=\"+a+(\"&lite=1&ei=\"+M+\"&conn=\"+(window.navigator&&window.navigator.connection?window.navigator.connection.type:-1)+c);c=\"&rt=\";for(var f in b)a+=\"\"+c+f+\".\"+b[f],c=\",\";return a}function S(a){a={prt:a};window.wsrt&&(a.wsrt=window.wsrt);return a}function T(a){window.ping?window.ping(a):(new Image).src=a}\\n(function(){for(var a=(new Date).getTime()-window.start,c=S(a),b=0,f=0,g=0,u=document.getElementsByTagName(\"img\"),v=O?\"&biw=\"+window.innerWidth+\"&bih=\"+window.innerHeight:\"\",G=function(){v+=\"&ima=\"+g;c.aft=b;T(R(\"aft\",v,c))},z=0,U=function(d,l,p){var m=d.src;d.onload=function(){p&&m&&m===d.src||(f=(new Date).getTime()-window.start,l&&++z===g&&(b=f,G()),d.onload=null)}},V=0,h=void 0;h=u[V++];){var w=D(h),t=!!(w&1);t&&++g;var q=h.hasAttribute(\"data-ilite\"),x=h.hasAttribute(\"data-deferred\"),H=h.hasAttribute(\"data-src\")||\\nh.hasAttribute(\"data-lzysrc\"),A=!x&&!q&&H;Q.push([w,x||q,A,h.id,q&&H]);q=(w=h.complete&&!x&&!(t&&A))&&Number(h.getAttribute(\"data-iml\"))||0;w&&q?(t&&++z,q&&(h=q-window.start,t&&(b=Math.max(b,h)),f=Math.max(f,h))):U(h,t,x||A)}b||(b=a);f||(f=b);z===g&&G();google.rglh&&google.rglh();window.addEventListener(\"load\",function(){window.setTimeout(function(){c.ol=(new Date).getTime()-window.start;timl&&(c.iml=f);var d=window.performance&&window.performance.timing;if(d){c.rqst=d.responseEnd-d.requestStart;c.rspt=d.responseEnd-d.responseStart;a:{if(d=(d=P.search.match(RegExp(\"[?&]sei=([^&#]*)\")))&&d[1]){b:{try{var l=window.sessionStorage.getItem(\"sg_pns;;\"+d);if(l){var p=l.indexOf(\"_\");var m=p<0?null:L(l.substr(p+1))}else m=null;var n=m;break b}catch(W){}n=null}if(n){n=window.performance.timing.navigationStart-Number(n);try{window.sessionStorage.removeItem(\"sg_pns;;\"+d)}catch(W){}d=n;break a}}d=void 0}d&&d>0&&(c.sgl=d)}for(var I=p=m=l=n=d=0,X=0,k;k=Q[X++];){var r=k[0],B=k[1],J=k[2],y=k[3];k=k[4]||google.ldi&&\\ny&&google.ldi[y];y=r==0;var Y=r&8,C=r&1;r=!C&&r&4;C&&(B&&!k||++l,J&&++I);B&&(C&&k&&++d,r&&!k&&++n);y||Y?J||++p:B||++m}v+=\"&ime=\"+l+\"&imel=\"+I+(\"&imex=\"+m+\"&imeh=\"+p)+(\"&imea=\"+d+\"&imeb=\"+n);T(R(\"all\",v,c))},0)},!1)})();}).call(this);})();(function(){window.google=window.google||{};window.google.ishk=[];function a(){return window.scrollY+window.document.documentElement.clientHeight>=Math.max(document.body.scrollHeight,document.body.offsetHeight)}function b(){a()&&window.google.ishk.length===0&&(window.google.bs=!0,window.removeEventListener(\"scroll\",b))}a()?window.google.bs=!0:(window.google.bs=!1,window.addEventListener(\"scroll\",b));}).call(this);</script><style>.l97dzf{font-weight:400}</style><script nonce=\"zXHqJOOUN5Tu9h5MGkYEnQ\">window._setImagesSrc=function(k,e,p){function l(b){b.onerror=function(){b.style.display=\"none\"};b.setAttribute(\"data-deferred\",\"2\");e.substring(0,5)!==\"data:\"&&b.setAttribute(\"data-defe\",\"1\");b.src=e;var g;((g=google.c)==null?0:g.di)&&b.decode()}function m(b,g){google.iir=google.iir||{};google.iir[b]=g}for(var c={},h=0;h<k.length;c={g:void 0},++h){var f=k[h];c.g=document.getElementById(f)||document.querySelector(\\'img[data-iid=\"\\'+f+\\'\"]\\');if(c.g){var a=void 0,d=void 0;if((d=google.c)==null?0:d.setup)a=\\ngoogle.c.setup(c.g);var n=void 0;d=((n=google.c)==null?void 0:n.wh)>1&&a!=null&&a&1;a=void 0;((a=google.c)==null?void 0:a.doiu)!==1||d?(a=void 0,((a=google.c)==null?void 0:a.doiu)!==2||p||d?(a=void 0,((a=google.c)==null?void 0:a.doiu)!==3||d?l(c.g):(google.doid=google.doid||{},google.doid[f]=e)):m(f,e)):google.caft(function(b){return function(){l(b.g)}}(c))}else m(f,e)}};typeof window.google===\"undefined\"&&(window.google={});</script><script nonce=\"zXHqJOOUN5Tu9h5MGkYEnQ\">(function(){var s=\\'data:image/jpeg;base64,/9j/4AAQSkZJRgABAQAAAQABAAD/2wCEAAkGBwgHBgkIBwgKCgkLDRYPDQwMDRsUFRAWIB0iIiAdHx8kKDQsJCYxJx8fLT0tMTU3Ojo6Iys/RD84QzQ5OjcBCgoKDQwNGg8PGjclHyU3Nzc3Nzc3Nzc3Nzc3Nzc3Nzc3Nzc3Nzc3Nzc3Nzc3Nzc3Nzc3Nzc3Nzc3Nzc3Nzc3N//AABEIAH8AXwMBIgACEQEDEQH/xAAaAAADAQEBAQAAAAAAAAAAAAAAAQMEAgUH/8QALRAAAgECAwUIAwEBAAAAAAAAAAECAxEEITESMlFhcRMiM0FigZGhIyRCUhT/xAAVAQEBAAAAAAAAAAAAAAAAAAAAAf/EABURAQEAAAAAAAAAAAAAAAAAAAAB/9oADAMBAAIRAxEAPwD7iAAAAAABx2sP9x+SeLlak4relkY40na97MD0VUg9JRfudHm7HVm6jPbguK1AoAAAAAAAAACbSV27IhPEXygvdnGKneqo+UVmTRA29p3ebGCJYilWqJKhX7Hi1BSv8hVmEW4u8XZnNKMo01GpPbktZWSv8HQRaNZf1kVTTV1mjGVw0t6PuhBoAAKAAADz596tUfqt8ZCi+80/II53lxdxVY7MVV89rZILIZOnK6KEAJjuJtFHF8ylB2rR53Rxs2tLPvXOou1SD5gbAACgOaj2acnwTOiWJ8GXPIDHFWSO8Sv00/Vc5RbEL9RLoQZKMjQnkRpxSLJEUNk5t+RSwmkEdtNYenfW+ZxfR8C8lfDLkR1RRtQHNN3hHodFASxPhpcWipDFaRXMCNi2JX4VFcUSjnJItiHovcgyWaO0xtCUbkDuGo9kaQFoq9C3JkbFqWcGiK0LRoo+HE7J0H+P3KFAZ8U+9BdTQZcT4sVwQCp51I9Tqq71HyCj4iOJO8m+ZAAhBciugEARWg+80caNrgOk/wAiCW/LqUUw+61zKkcP/RYoDJXd69uETWY6ueIlySQFKG/7D7D1fQsPvSfQ0EEew9X0L/n9X0XAoh2Hq+h9h6vosAElRs09rTkcVfEZoIVvEXQAob0i5ChvvoXADBiKkKeIltS1s/o3icYvVJ9UBHBtSpuad02XEkkrJJLkMAAAAAAAAz4qSjKDk7J3NAmk9UmBnw04yqPZknkaRKKWiS6DA//Z\\';var i=[\\'dimg_1\\'];_setImagesSrc(i,s);})();</script><script nonce=\"zXHqJOOUN5Tu9h5MGkYEnQ\">(function(){var s=\\'data:image/jpeg;base64,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\\\\x3d\\';var i=[\\'dimg_3\\'];_setImagesSrc(i,s);})();</script><script nonce=\"zXHqJOOUN5Tu9h5MGkYEnQ\">(function(){var s=\\'data:image/jpeg;base64,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\\\\x3d\\\\x3d\\';var i=[\\'dimg_5\\'];_setImagesSrc(i,s);})();</script><script nonce=\"zXHqJOOUN5Tu9h5MGkYEnQ\">(function(){var s=\\'data:image/jpeg;base64,/9j/4AAQSkZJRgABAQAAAQABAAD/2wCEAAkGBwgHBgkIBwgKCgkLDRYPDQwMDRsUFRAWIB0iIiAdHx8kKDQsJCYxJx8fLT0tMTU3Ojo6Iys/RD84QzQ5OjcBCgoKDQwNGg8PGjclHyU3Nzc3Nzc3Nzc3Nzc3Nzc3Nzc3Nzc3Nzc3Nzc3Nzc3Nzc3Nzc3Nzc3Nzc3Nzc3Nzc3N//AABEIAH8AXwMBIgACEQEDEQH/xAAaAAACAwEBAAAAAAAAAAAAAAAAAgEDBAUH/8QAMhAAAgECAwUFBgcAAAAAAAAAAAECAxESMWEEITJBcRNCUVKRIiNicqHBJDM0Y4Kx0f/EABcBAQEBAQAAAAAAAAAAAAAAAAABAgP/xAAaEQEBAQEAAwAAAAAAAAAAAAAAARFBEiEx/9oADAMBAAIRAxEAPwD3EAAAAAACvtafnj6jVOCXRnMV1kS3Fk10o1YSdlJXHOVT/Oh8yOqJdLMAABUAAAAAAACSqwhxSXQz7RJynhTdkVRglyJq4uq18cXGCstTNheRaojYTLXpmcWsjTT2y26rF/MhZRK3BXE2Fyt9OrTqcE09LjnKnBPkX7FVlGfZyk2nlfkWVmxuAANIAAAMdTfUerZAtR2SlrcinVhVTwPLNeBjraxZjC2ZIREitljQrQFTIov38XqiajUVdkU9yi9Ux1XUAANsAHkBDyAxTV4GfYk4qo/NO603JW9V9TQ+GSEoxtSi/GUjlntvi9ARyC5tALIYSRBh2iTlXhDkvaf9f6aXuwopqx9pS1sWmZ9W/HUAAOrAIlwvoSLPhfQDHUybRFL9NTfxMaW+BFOy2aMeeJv6nPrfE3GKx1cqBiMZlbASsvw6f7n2DJalrV9jXzlMsidXjqLIkhZIk6MAWfBLoxhanBLoBinNQptvkRGKW4WvHFSktCKMbwjjzwq753Od+t8W8xirDOO5NNahep5fqNDsRkPtPBEYXnL0GmJx2oVIt5WkvUTOIOl2katt2GDdlzF7i6DqOtHhRJEeFdCToyBZq8Wl4DABzqm+lNaM0PZ5KTcWrFE1eckvMdAxJrVrHKnUXdYjjV8kvQ3gXxPJz8FR9yXoT2NV9xm8B4nky0NnnDG5tb1ayMT4Ukdc5EEu3gvj+5L6J7dZZEggNsgAADn399/P7nQIsvAkkmLaAACoAAAA5MIy7eHsy4/DU6wEs1dAABUf/9k\\\\x3d\\';var i=[\\'dimg_7\\'];_setImagesSrc(i,s);})();</script><script nonce=\"zXHqJOOUN5Tu9h5MGkYEnQ\">(function(){var s=\\'data:image/jpeg;base64,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\\\\x3d\\\\x3d\\';var i=[\\'dimg_9\\'];_setImagesSrc(i,s);})();</script><script nonce=\"zXHqJOOUN5Tu9h5MGkYEnQ\">(function(){var s=\\'data:image/jpeg;base64,/9j/4AAQSkZJRgABAQAAAQABAAD/2wCEAAkGBwgHBgkIBwgKCgkLDRYPDQwMDRsUFRAWIB0iIiAdHx8kKDQsJCYxJx8fLT0tMTU3Ojo6Iys/RD84QzQ5OjcBCgoKDQwNGg8PGjclHyU3Nzc3Nzc3Nzc3Nzc3Nzc3Nzc3Nzc3Nzc3Nzc3Nzc3Nzc3Nzc3Nzc3Nzc3Nzc3Nzc3N//AABEIAH8AXwMBIgACEQEDEQH/xAAcAAACAwEBAQEAAAAAAAAAAAABAgADBAUGBwj/xAA2EAABAwIDBAcGBgMAAAAAAAABAAIDBBEFEiExQVGBBhMiMlJxoSNCYZGx0QckMzRikhRDcv/EABgBAQEBAQEAAAAAAAAAAAAAAAABBAID/8QAGhEBAQEBAQEBAAAAAAAAAAAAAAECETFREv/aAAwDAQACEQMRAD8A+0KIqIFsvl/4uUM7cRo8QtemfD1N+DwXOtzB9CvqVl5/GcIfjkWJw1Za6LJko2DQMkyntn439PNc6nY6xrl6+QYdW9Xma49krn4lVvGKdZFHBJGLXMh2fAD7qmbPE4tcC1wNnNO4jckpYpKh7nh0WYbnLNnHG67tk4okqnvxNsj4IWML7nKdjd+mzkt1XOxzskbrjZtWDFKaSFwc4Ra6gNKlC0vlF9ytx3jn93PZXu/wxop5+mFPNEB1NDRPfKSCdZTlaBroeweV19kXm+heDx4RgdNOIgyqqGtdUO3uBJyg+Qd9V6VaZ4xW9oKIqWVQVEVEAWKpjrGtqRSCPNKz2bnOtkdxItzW5RB8l6Z9Bq8vkxCicypOVvXMa3K9zgO08DYb7dOO9eAigDJHdY98Thw0K/SDSHZjuJO1cLHOimF4uS+WnY2U++1upXnc/HrnfPXwGpjzzgNkfI7dmN17b8P+jT5sZpnYjT/l+84PflJNuzpt28bL1UXQGlpZc7HE8gPWy9DhGGQ0FRA2NlruuSN5srJxNb747ccRbFHAWdhlhe+hA2K9FRdvMFEVEEUWSSvizZIfaO4g6DmqjWTg2yxn5oOgqXytIs13Nc97ppTd5JHhGxASlpsboN7S21r25I+z8TfnZZOuNu7dAS34hRWh3VeJn9lmkIL2uY4EtN7BNnHiKmYcUGqOric4MecjyNA7S/ktC5b2tkaWuAI4FVsbLFpDUSsHhPaHqqjsKLmCepA/XBP8mC30V8VY46TxFv8AJhzD7oMghYw2AtbROGq6VuYh494a+amVRSsFlH6hHYlJQLYcEAAiV5/EsFxSqqpX0uNS0sUjw4huYkDNFoNbDRjxoPf133Dv2FtigAWHDKOopDUf5FZJUNe/2Qe4nIwDQa77318luQNopa6AKIQDKo2PObDRMo45WkbygsYbtLeYR3JQLIRydY023GyAOKQlR5sUmZAbopLogoGUS3RugKhOiF1AUDMeC4Dii43c47tyyx6VYF9oNlqIQWKuDuvOnfO5NdVUjv1wT/s0+QQLKdUl1ZI3Uqo2BQMCjdKCiEBupdRAlBLpmlVixTAgb0GereI6mmO8ygDmCug9cWrkdPitDEwXa15e48LNNvr6LsuKCJaeMOicTfWQ6hMdielFqSM8XE+pQUOgkv37hL1PFbXJCEGYR2Ryq0hKgXIgYwrAogzSQF3dNjxWd1LJY5pXW+a6Kqk2IKqOlbHHHNe7nPOp8rfdaSnj/Zw+f3SO2oCe6U9OfykQ+ASv0aU1N+1i/wCQiLHJE7gkRSuSJ3JEERQRQBVy91W7lROSW2B26bEGsaU8Q4AfRVv2q2QWyj4qpyD/2Q\\\\x3d\\\\x3d\\';var i=[\\'dimg_11\\'];_setImagesSrc(i,s);})();</script><script nonce=\"zXHqJOOUN5Tu9h5MGkYEnQ\">(function(){var s=\\'data:image/jpeg;base64,/9j/4AAQSkZJRgABAQAAAQABAAD/2wCEAAkGBwgHBgkIBwgKCgkLDRYPDQwMDRsUFRAWIB0iIiAdHx8kKDQsJCYxJx8fLT0tMTU3Ojo6Iys/RD84QzQ5OjcBCgoKDQwNGg8PGjclHyU3Nzc3Nzc3Nzc3Nzc3Nzc3Nzc3Nzc3Nzc3Nzc3Nzc3Nzc3Nzc3Nzc3Nzc3Nzc3Nzc3N//AABEIAH8AXwMBIgACEQEDEQH/xAAcAAEAAgMBAQEAAAAAAAAAAAAABgcDBQgEAgH/xAA3EAABAwIEAwUGBAcBAAAAAAABAAIDBBEFBgchEjFBFFFxgcETIiMykaFhkrLCJDRDUmJysRX/xAAXAQEBAQEAAAAAAAAAAAAAAAAAAQID/8QAGhEBAQEBAAMAAAAAAAAAAAAAAAERAhIhQf/aAAwDAQACEQMRAD8AvFERAREQERQHGMQ7RnvsVXiraWlghayGmcbdokfuSO8jYLPVyNc8+VxPkUQyJiAqJcRpY8TbiNMyQS007NwGuG7AfwP6gperzdmp1MuCIiqCIiAiIgIiICgUeHy1mcMXnbE10ML2BjpGXLJLAksJ62tfyU1neRIG3sLXKxObcbOLT3i1/uufc104vj7aTLUTqTHcSpXU7IWBkckTY2cLQ0je1hz4gb+ClC8Y23ub969ELi5lzzBV4mTE7u3WRERbYEREBERAREQeSpbxyFoNiWW+6+IncTAT1WaVwEt+4WWJo4dlmtx+kX+l1np/kPisLTufxBWeD5PNIlZERFpkREQEREBERBX+qebq3KtJRS4ZHSyT1FQ5pFQ1zgGNbvsHA8yOqhNHrNiYa8V2G0TnBji10IeAXW2BBcbC/M3Nu4r36+N4m4RK17S1sk7CAdwTwn0KqKORkbnGSJkjS1zbPJABIIB2I3BN/JWSYttiyXazY2ZoyMPwyOIOHtA5sjjw9bHiFvorzo3h8QcORsR9Fx+5jpGFjBd7hYAdSV17hzHR07GO+ZrWg+Nksw160RFEEREBERAREQVLrpgz/wDxqfEo3/CiqQHxnoX7XHnZQTTzKrcxVeLHts1K+gpuON0TWni4w9pBv0sCPNXPqxAyfT/Fw9t+CNsg8WvaQoNoTEHHMdS7ZphgZbykJ/6r8LdVjlbDJMbxjDaKI8L6uYNG/IWuTfwBXVWHUzqaDhkIL3G7rch4Ln7RGBs+csOJbfs9LLLfpe3CP1LoxSrvrBEREEREBERAREQRDVqURafYv/mxkf5ntCjOgcLX4FjEjgPfrRERboI2n9xUn1Xi9tkDFx/Yxkn5XtPotFoLC5mVa+U/1cSeR4COMehQQfRf+Dz+KWwcBBUQBxG/uuaf2roNULpTSlmqldE4fyzq36iQN9Sr6QEREBERAREQEREGiz1TmqyZjkI5uoZreIaT6LQ6LxBmRYngACWpndyPR5b5/KpBneT2WTsbfx8FqCb3u73CovoZI5+SC1wcAyslDbuuLENdsOgu47d9z1QazIlAYNXM0OJYfZiV12N4d5XseLjvt9efVWsqg08qxJq9mZpkl9/tNhI65PDM0de62w6DZW+gIiICIiAiIgIiINRmzCH49l2vwqOUROqY+APPIbg726G1j4rU6bZVqso4HNQVlUyoklqDN8O/Cy7WtsL/AOt/NS1EFe5d09qcJz/W5klxCOWGaSeRkbWuDviuJIPSwv8AYclYSIgIiICIiD//2Q\\\\x3d\\\\x3d\\';var i=[\\'dimg_13\\'];_setImagesSrc(i,s);})();</script><script nonce=\"zXHqJOOUN5Tu9h5MGkYEnQ\">(function(){var s=\\'data:image/jpeg;base64,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\\\\x3d\\';var i=[\\'dimg_15\\'];_setImagesSrc(i,s);})();</script><script nonce=\"zXHqJOOUN5Tu9h5MGkYEnQ\">(function(){var s=\\'data:image/jpeg;base64,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\\';var i=[\\'dimg_17\\'];_setImagesSrc(i,s);})();</script><script nonce=\"zXHqJOOUN5Tu9h5MGkYEnQ\">(function(){var e=\\'hm4iZ-DUHrrO0PEPu7rqwA4\\';(function(){var a=e;if((window.performance&&window.performance.navigation&&window.performance.navigation.type)===2){var b=\"\",c=[],d=window.google!==void 0&&window.google.kOPI!==void 0&&window.google.kOPI!==0?window.google.kOPI:null;d!=null&&c.push([\"opi\",d.toString()]);for(var f=0;f<c.length;f++){if(f===0||f>0)b+=\"&\";b+=c[f][0]+\"=\"+c[f][1]}window.ping(\"/gen_204?ct=backbutton&ei=\"+a+b)};}).call(this);})();(function(){function b(){for(var a=google.drc.shift();a;)a(),a=google.drc.shift()};google.drc=[function(){google.tick&&google.tick(\"load\",\"dcl\")}];google.dclc=function(a){google.drc.length?google.drc.push(a):a()};window.addEventListener?(document.addEventListener(\"DOMContentLoaded\",b,!1),window.addEventListener(\"load\",b,!1)):window.attachEvent&&window.attachEvent(\"onload\",b);}).call(this);(function(){var b=function(a){var c=0;return function(){return c<a.length?{done:!1,value:a[c++]}:{done:!0}}};\\nvar e=this||self;var g,h;a:{for(var k=[\"CLOSURE_FLAGS\"],l=e,n=0;n<k.length;n++)if(l=l[k[n]],l==null){h=null;break a}h=l}var p=h&&h[610401301];g=p!=null?p:!1;var q,r=e.navigator;q=r?r.userAgentData||null:null;function t(a){return g?q?q.brands.some(function(c){return(c=c.brand)&&c.indexOf(a)!=-1}):!1:!1}function u(a){var c;a:{if(c=e.navigator)if(c=c.userAgent)break a;c=\"\"}return c.indexOf(a)!=-1};function v(){return g?!!q&&q.brands.length>0:!1}function w(){return u(\"Safari\")&&!(x()||(v()?0:u(\"Coast\"))||(v()?0:u(\"Opera\"))||(v()?0:u(\"Edge\"))||(v()?t(\"Microsoft Edge\"):u(\"Edg/\"))||(v()?t(\"Opera\"):u(\"OPR\"))||u(\"Firefox\")||u(\"FxiOS\")||u(\"Silk\")||u(\"Android\"))}function x(){return v()?t(\"Chromium\"):(u(\"Chrome\")||u(\"CriOS\"))&&!(v()?0:u(\"Edge\"))||u(\"Silk\")}function y(){return u(\"Android\")&&!(x()||u(\"Firefox\")||u(\"FxiOS\")||(v()?0:u(\"Opera\"))||u(\"Silk\"))};var z=v()?!1:u(\"Trident\")||u(\"MSIE\");y();x();w();var A=!z&&!w(),D=function(a){if(/-[a-z]/.test(\"ved\"))return null;if(A&&a.dataset){if(y()&&!(\"ved\"in a.dataset))return null;a=a.dataset.ved;return a===void 0?null:a}return a.getAttribute(\"data-\"+\"ved\".replace(/([A-Z])/g,\"-$1\").toLowerCase())};var E=[],F=null;function G(a){a=a.target;var c=performance.now(),f=[],H=f.concat,d=E;if(!(d instanceof Array)){var m=typeof Symbol!=\"undefined\"&&Symbol.iterator&&d[Symbol.iterator];if(m)d=m.call(d);else if(typeof d.length==\"number\")d={next:b(d)};else throw Error(\"b`\"+String(d));for(var B=[];!(m=d.next()).done;)B.push(m.value);d=B}E=H.call(f,d,[c]);if(a&&a instanceof HTMLElement)if(a===F){if(c=E.length>=4)c=(E[E.length-1]-E[E.length-4])/1E3<5;if(c){c=google.getEI(a);a.hasAttribute(\"data-ved\")?f=a?D(a)||\"\":\"\":f=(f=\\na.closest(\"[data-ved]\"))?D(f)||\"\":\"\";f=f||\"\";if(a.hasAttribute(\"jsname\"))a=a.getAttribute(\"jsname\");else{var C;a=(C=a.closest(\"[jsname]\"))==null?void 0:C.getAttribute(\"jsname\")}google.log(\"rcm\",\"&ei=\"+c+\"&tgtved=\"+f+\"&jsname=\"+(a||\"\"))}}else F=a,E=[c]}window.document.addEventListener(\"DOMContentLoaded\",function(){document.body.addEventListener(\"click\",G)});}).call(this);var w=function(a){var b=0;return function(){return b<a.length?{done:!1,value:a[b++]}:{done:!0}}};window.jsl=window.jsl||{};window.jsl.dh=function(a,b,m){try{var h=document.getElementById(a),e;if(!h&&((e=google.stvsc)==null?0:e.dds)){e=[];var f=e.concat,c=google.stvsc.dds;if(c instanceof Array)var n=c;else{var p=typeof Symbol!=\"undefined\"&&Symbol.iterator&&c[Symbol.iterator];if(p)var g=p.call(c);else if(typeof c.length==\"number\")g={next:w(c)};else throw Error(String(c)+\" is not an iterable or ArrayLike\");c=g;var q;for(g=[];!(q=c.next()).done;)g.push(q.value);n=g}var r=f.call(e,n);for(f=0;f<r.length&&!(h=r[f].getElementById(a));f++);}if(h)h.innerHTML=b,m&&m();else{var d={id:a,script:String(!!m),milestone:String(google.jslm||0)};google.jsla&&(d.async=google.jsla);var t=a.indexOf(\"_\"),k=t>0?a.substring(0,t):\"\",u=document.createElement(\"div\");u.innerHTML=b;var l=u.children[0];if(l&&(d.tag=l.tagName,d[\"class\"]=String(l.className||null),d.name=String(l.getAttribute(\"jsname\")),k)){a=[];var v=document.querySelectorAll(\\'[id^=\"\\'+k+\\'_\"]\\');for(b=0;b<v.length;++b)a.push(v[b].id);d.ids=a.join(\",\")}google.ml(Error(k?\"Missing ID with prefix \"+\\nk:\"Missing ID\"),!1,d)}}catch(x){google.ml(x,!0,{\"jsl.dh\":!0})}};(function(){var x=false;google.jslm=x?2:1;})();(function(){(function(){google.csct={};google.csct.ps=\\'AOvVaw0m_BOnn92KpcX63x38XOd9\\\\x26ust\\\\x3d1730396166527391\\';})();})();(function(){(function(){google.csct.rd=true;})();})();if (!google.stvsc){google.drty && google.drty(undefined,true);}\\n</script></body></html>'"
            ],
            "application/vnd.google.colaboratory.intrinsic+json": {
              "type": "string"
            }
          },
          "metadata": {},
          "execution_count": 16
        }
      ]
    },
    {
      "cell_type": "code",
      "source": [
        "len(response.text)"
      ],
      "metadata": {
        "colab": {
          "base_uri": "https://localhost:8080/"
        },
        "id": "1v6nFuqYXkAp",
        "outputId": "f5de67cd-e022-4b3a-e85d-47c24c2c4f5a"
      },
      "execution_count": null,
      "outputs": [
        {
          "output_type": "execute_result",
          "data": {
            "text/plain": [
              "83502"
            ]
          },
          "metadata": {},
          "execution_count": 6
        }
      ]
    },
    {
      "cell_type": "code",
      "source": [
        "\n",
        "html_content = response.text"
      ],
      "metadata": {
        "id": "Qbyo8wVhYF3W"
      },
      "execution_count": null,
      "outputs": []
    },
    {
      "cell_type": "code",
      "source": [
        "from bs4 import BeautifulSoup\n",
        "import requests\n",
        "from urllib.parse import urlparse, parse_qs\n",
        "\n",
        "# Assuming 'html_content' contains the HTML document\n",
        "soup = BeautifulSoup(html_content, 'html.parser')\n",
        "\n",
        "# Initialize list to hold results\n",
        "results = []\n",
        "\n",
        "# Loop through search results items\n",
        "for index, result in enumerate(soup.select('.xpd')):\n",
        "    title = result.select_one('.vvjwJb')  # Selects title\n",
        "    url_tag = result.select_one('a[href]')  # Selects the anchor tag containing the URL if it has an href attribute\n",
        "    url = url_tag['href'] if url_tag else None  # Extracts the URL if available\n",
        "\n",
        "    # Properly parse the URL to handle redirect URLs\n",
        "    if url:\n",
        "        parsed_url = urlparse(url)\n",
        "        if '/url' in parsed_url.path:\n",
        "            query_params = parse_qs(parsed_url.query)\n",
        "            url = query_params.get('q', [None])[0]  # Extracts 'q' parameter which contains the actual URL\n",
        "\n",
        "    snippet = result.select_one('.s3v9rd').get_text() if result.select_one('.s3v9rd') else None  # Selects snippet text\n",
        "    source = urlparse(url).netloc if url else None  # Extracts source domain\n",
        "\n",
        "    # Append structured result as dictionary\n",
        "    results.append({\n",
        "        \"index\": index,\n",
        "        \"title\": title.get_text() if title else \"No title\",\n",
        "        \"url\": url,\n",
        "        \"snippet\": snippet,\n",
        "        \"source\": source\n",
        "    })\n",
        "\n",
        "# Print results\n",
        "for result in results:\n",
        "    print(result)\n"
      ],
      "metadata": {
        "colab": {
          "base_uri": "https://localhost:8080/"
        },
        "id": "hUUdzFxUYEmX",
        "outputId": "f06cbb27-ee90-4476-8d53-55421fb6610e"
      },
      "execution_count": null,
      "outputs": [
        {
          "output_type": "stream",
          "name": "stdout",
          "text": [
            "{'index': 0, 'title': 'No title', 'url': '/search?q=OWAD122C99JER0030110&sca_esv=362529b1f3dde5c1&ie=UTF-8&source=lnt&tbs=qdr:h&sa=X&ved=0ahUKEwjgr--X0raJAxU6JzQIHTudGugQpwUIDQ', 'snippet': None, 'source': ''}\n",
            "{'index': 1, 'title': 'white off stamp second skin l/s turtleneck', 'url': 'https://www.off---white.com/en-us/shopping/off-white-white-off-stamp-second-skin-l-s-turtleneck-23348161?srsltid=AfmBOoqJ4x-d3Ur7hbKcHqDQxkXgPfL2cNNaaBlkKKkT46GWoswe3e3T', 'snippet': '$495.00 Free delivery In stockMade in Italy. Product ID: OWAD122C99JER0030110. Product Details. Colors: WHITE BLACK. Sizes (IT):. 36. 38. 40. 42. 44. 46. Size Help. Size Help.', 'source': 'www.off---white.com'}\n",
            "{'index': 2, 'title': 'Off-White logo-print second-skin Top - Farfetch', 'url': 'https://www.farfetch.com/shopping/women/off-white-logo-print-second-skin-top-item-23348161.aspx', 'snippet': '$276.00 to $495.00 Free delivery In stockHighlights · white · stretch-jersey · lightweight construction · high neck · long sleeves · logo print at the chest · straight hem · pull-on style\\xa0...', 'source': 'www.farfetch.com'}\n",
            "{'index': 3, 'title': 'Off-White logo-print second-skin Top | White | FARFETCH AZ', 'url': 'https://www.farfetch.com/az/shopping/women/off-white-logo-print-second-skin-top-item-23348161.aspx', 'snippet': '$493.00 10–11 day delivery In stockHighlights · white · stretch-jersey · lightweight construction · high neck · long sleeves · logo print at the chest · straight hem · pull-on style\\xa0...', 'source': 'www.farfetch.com'}\n",
            "{'index': 4, 'title': 'Off-White Second Skin Long Sleeve Turtleneck Top - Italist', 'url': 'https://www.italist.com/us/women/clothing/topwear/second-skin-long-sleeve-turtleneck-top/14399662/14567353/off-white/?srsltid=AfmBOoqLBjyZHgLHHkoB497hl0MTJ1dZA6P4KEZHVgiwdtO8W3YddGP2', 'snippet': 'Rating  5.0  (1)   · $422.00  · Free deliveryThe model is 177 cm tall and wears a size IT 38. Composition: 95%VI, 4%EA. Made in Italy. Color: WHITE BLACK (White). Model number: OWAD122C99JER0030110. About\\xa0...', 'source': 'www.italist.com'}\n",
            "{'index': 5, 'title': 'Off-White Sweater - IT 38 - Pinterest', 'url': 'https://www.pinterest.com/pin/799881583883470742/', 'snippet': '-Raised neck-contrasting logo on the front-long sleeves-tight fit -straight hemGender: WomenMaterial: VISCOSE | 95% VISCOSE 5% ELASTANEColor: WHITEMade in:\\xa0...', 'source': 'www.pinterest.com'}\n",
            "{'index': 6, 'title': 'Off-White Topwear In White Viscose | italist', 'url': 'https://www.italist.com/en-kw/women/clothing/topwear/topwear-in-white-viscose/14523977/14691668/off-white/?srsltid=AfmBOopo3E0y1TkTXCBerxpnj0kZJ6NZX6ZkNPzy93LTERi6AgMqRcZY', 'snippet': \"€353.54 Free delivery In stockModel number: OWAD122C99JER0030110. About the designer. Off-White is an Italian fashion brand founded by Virgil Abloh. The men's and women's collections\\xa0...\", 'source': 'www.italist.com'}\n",
            "{'index': 7, 'title': 'Off-White Off Stamp Sec Skin L/s Turtle | REVERSIBLE', 'url': 'https://www.reversible.com/shopping/women/item/off-white-off-stamp-sec-skin-l-s-turtle-white-a-bl-176464479?srsltid=AfmBOop9DWr10D4ZOiM09qTFucgk-F1UADe77Rq1nJ4r-B2vpuK66dfd', 'snippet': 'Free deliveryDescription. This long-sleeved turtle neck top features a small embroidered stencil logo and is crafted from ribbed cotton with elastane for a close fit.', 'source': 'www.reversible.com'}\n",
            "{'index': 8, 'title': 'Off-White OFF-WHITE WHITE VISCOSE TURTLENECK SWEATER ...', 'url': 'https://id.pinterest.com/pin/799881583880148746/', 'snippet': '... . Gender: Women. Material: 95% viscose, 5% elastane. Color: WHITE. Made in: IT. Product ID: OWAD122C99JER0030110.', 'source': 'id.pinterest.com'}\n",
            "{'index': 9, 'title': 'OFF WHITE OFF STAMP SEC SKIN セーター - BUYMA', 'url': 'https://www.buyma.com/item/110262358/?srsltid=AfmBOoqNwPSvdiAFeRIIoUwwePt62tujFs7kkzC9HJOQ6ZvcN9D9enEq', 'snippet': 'Off-White（オフホワイト） x ニット・セーター（レディース）. ブランド型番 OWAD122C99JER0030110. 買付地 イタリア ブランド正規取り扱い店. 発送地.', 'source': 'www.buyma.com'}\n",
            "{'index': 10, 'title': 'No title', 'url': 'https://www.google.com/search?sca_esv=362529b1f3dde5c1&ie=UTF-8&ei=hm4iZ-DUHrrO0PEPu7rqwA4&q=OWAD122C99JER0030110&tbm=isch&sa=X&ved=2ahUKEwjgr--X0raJAxU6JzQIHTudGugQsAR6BAgLEAE', 'snippet': 'View all', 'source': 'www.google.com'}\n",
            "{'index': 11, 'title': 'No title', 'url': '/search?q=OWAD122C99JER0030110&sca_esv=362529b1f3dde5c1&ie=UTF-8&ei=hm4iZ-DUHrrO0PEPu7rqwA4&start=10&sa=N', 'snippet': None, 'source': ''}\n"
          ]
        }
      ]
    },
    {
      "cell_type": "code",
      "source": [
        "# Group by source\n",
        "buckets = {}\n",
        "for item in results:\n",
        "    source = item['source']\n",
        "    if source not in buckets:\n",
        "        buckets[source] = []\n",
        "    buckets[source].append(item)\n",
        "\n",
        "# Retrieve \"off-white\" bucket\n",
        "off_white_bucket = buckets.get('www.off---white.com', [])\n",
        "off_white_bucket"
      ],
      "metadata": {
        "colab": {
          "base_uri": "https://localhost:8080/"
        },
        "id": "v7lXzZBpcX-L",
        "outputId": "6d39e161-031b-4d66-a325-28e34299bf86"
      },
      "execution_count": null,
      "outputs": [
        {
          "output_type": "execute_result",
          "data": {
            "text/plain": [
              "[{'index': 1,\n",
              "  'title': 'white off stamp second skin l/s turtleneck',\n",
              "  'url': 'https://www.off---white.com/en-us/shopping/off-white-white-off-stamp-second-skin-l-s-turtleneck-23348161?srsltid=AfmBOoqJ4x-d3Ur7hbKcHqDQxkXgPfL2cNNaaBlkKKkT46GWoswe3e3T',\n",
              "  'snippet': '$495.00 Free delivery In stockMade in Italy. Product ID: OWAD122C99JER0030110. Product Details. Colors: WHITE BLACK. Sizes (IT):. 36. 38. 40. 42. 44. 46. Size Help. Size Help.',\n",
              "  'source': 'www.off---white.com'}]"
            ]
          },
          "metadata": {},
          "execution_count": 19
        }
      ]
    },
    {
      "cell_type": "code",
      "source": [
        "matching_entries = [item for item in off_white_bucket if item['snippet'] and query in item['snippet']]\n",
        "matching_entries"
      ],
      "metadata": {
        "colab": {
          "base_uri": "https://localhost:8080/"
        },
        "id": "QYTPAvXeciOx",
        "outputId": "844d77a3-0c2e-49d2-d97d-52e3ebb7622b"
      },
      "execution_count": null,
      "outputs": [
        {
          "output_type": "execute_result",
          "data": {
            "text/plain": [
              "[{'index': 1,\n",
              "  'title': 'white off stamp second skin l/s turtleneck',\n",
              "  'url': 'https://www.off---white.com/en-us/shopping/off-white-white-off-stamp-second-skin-l-s-turtleneck-23348161?srsltid=AfmBOoqJ4x-d3Ur7hbKcHqDQxkXgPfL2cNNaaBlkKKkT46GWoswe3e3T',\n",
              "  'snippet': '$495.00 Free delivery In stockMade in Italy. Product ID: OWAD122C99JER0030110. Product Details. Colors: WHITE BLACK. Sizes (IT):. 36. 38. 40. 42. 44. 46. Size Help. Size Help.',\n",
              "  'source': 'www.off---white.com'}]"
            ]
          },
          "metadata": {},
          "execution_count": 20
        }
      ]
    },
    {
      "cell_type": "code",
      "source": [
        "p_response = requests.get(matching_entries[0]['url'],headers=headers)\n",
        "p_response.text"
      ],
      "metadata": {
        "colab": {
          "base_uri": "https://localhost:8080/",
          "height": 105
        },
        "id": "EW6ngk5TV6eV",
        "outputId": "fdb0d73f-bc6e-4004-cae8-a3c5a24263c4"
      },
      "execution_count": null,
      "outputs": [
        {
          "output_type": "execute_result",
          "data": {
            "text/plain": [
              "'<!DOCTYPE html>\\n<!--[if lt IE 7]> <html class=\"no-js ie6 oldie\" lang=\"en-US\"> <![endif]-->\\n<!--[if IE 7]>    <html class=\"no-js ie7 oldie\" lang=\"en-US\"> <![endif]-->\\n<!--[if IE 8]>    <html class=\"no-js ie8 oldie\" lang=\"en-US\"> <![endif]-->\\n<!--[if gt IE 8]><!--> <html class=\"no-js\" lang=\"en-US\"> <!--<![endif]-->\\n<head>\\n<title>Attention Required! | Cloudflare</title>\\n<meta charset=\"UTF-8\" />\\n<meta http-equiv=\"Content-Type\" content=\"text/html; charset=UTF-8\" />\\n<meta http-equiv=\"X-UA-Compatible\" content=\"IE=Edge\" />\\n<meta name=\"robots\" content=\"noindex, nofollow\" />\\n<meta name=\"viewport\" content=\"width=device-width,initial-scale=1\" />\\n<link rel=\"stylesheet\" id=\"cf_styles-css\" href=\"/cdn-cgi/styles/cf.errors.css\" />\\n<!--[if lt IE 9]><link rel=\"stylesheet\" id=\\'cf_styles-ie-css\\' href=\"/cdn-cgi/styles/cf.errors.ie.css\" /><![endif]-->\\n<style>body{margin:0;padding:0}</style>\\n\\n\\n<!--[if gte IE 10]><!-->\\n<script>\\n  if (!navigator.cookieEnabled) {\\n    window.addEventListener(\\'DOMContentLoaded\\', function () {\\n      var cookieEl = document.getElementById(\\'cookie-alert\\');\\n      cookieEl.style.display = \\'block\\';\\n    })\\n  }\\n</script>\\n<!--<![endif]-->\\n\\n\\n</head>\\n<body>\\n  <div id=\"cf-wrapper\">\\n    <div class=\"cf-alert cf-alert-error cf-cookie-error\" id=\"cookie-alert\" data-translate=\"enable_cookies\">Please enable cookies.</div>\\n    <div id=\"cf-error-details\" class=\"cf-error-details-wrapper\">\\n      <div class=\"cf-wrapper cf-header cf-error-overview\">\\n        <h1 data-translate=\"block_headline\">Sorry, you have been blocked</h1>\\n        <h2 class=\"cf-subheadline\"><span data-translate=\"unable_to_access\">You are unable to access</span> farfetchplatform.com</h2>\\n      </div><!-- /.header -->\\n\\n      <div class=\"cf-section cf-highlight\">\\n        <div class=\"cf-wrapper\">\\n          <div class=\"cf-screenshot-container cf-screenshot-full\">\\n            \\n              <span class=\"cf-no-screenshot error\"></span>\\n            \\n          </div>\\n        </div>\\n      </div><!-- /.captcha-container -->\\n\\n      <div class=\"cf-section cf-wrapper\">\\n        <div class=\"cf-columns two\">\\n          <div class=\"cf-column\">\\n            <h2 data-translate=\"blocked_why_headline\">Why have I been blocked?</h2>\\n\\n            <p data-translate=\"blocked_why_detail\">This website is using a security service to protect itself from online attacks. The action you just performed triggered the security solution. There are several actions that could trigger this block including submitting a certain word or phrase, a SQL command or malformed data.</p>\\n          </div>\\n\\n          <div class=\"cf-column\">\\n            <h2 data-translate=\"blocked_resolve_headline\">What can I do to resolve this?</h2>\\n\\n            <p data-translate=\"blocked_resolve_detail\">You can email the site owner to let them know you were blocked. Please include what you were doing when this page came up and the Cloudflare Ray ID found at the bottom of this page.</p>\\n          </div>\\n        </div>\\n      </div><!-- /.section -->\\n\\n      <div class=\"cf-error-footer cf-wrapper w-240 lg:w-full py-10 sm:py-4 sm:px-8 mx-auto text-center sm:text-left border-solid border-0 border-t border-gray-300\">\\n  <p class=\"text-13\">\\n    <span class=\"cf-footer-item sm:block sm:mb-1\">Cloudflare Ray ID: <strong class=\"font-semibold\">8dad2aa86db7b98b</strong></span>\\n    <span class=\"cf-footer-separator sm:hidden\">&bull;</span>\\n    <span id=\"cf-footer-item-ip\" class=\"cf-footer-item hidden sm:block sm:mb-1\">\\n      Your IP:\\n      <button type=\"button\" id=\"cf-footer-ip-reveal\" class=\"cf-footer-ip-reveal-btn\">Click to reveal</button>\\n      <span class=\"hidden\" id=\"cf-footer-ip\">35.199.145.126</span>\\n      <span class=\"cf-footer-separator sm:hidden\">&bull;</span>\\n    </span>\\n    <span class=\"cf-footer-item sm:block sm:mb-1\"><span>Performance &amp; security by</span> <a rel=\"noopener noreferrer\" href=\"https://www.cloudflare.com/5xx-error-landing\" id=\"brand_link\" target=\"_blank\">Cloudflare</a></span>\\n    \\n  </p>\\n  <script>(function(){function d(){var b=a.getElementById(\"cf-footer-item-ip\"),c=a.getElementById(\"cf-footer-ip-reveal\");b&&\"classList\"in b&&(b.classList.remove(\"hidden\"),c.addEventListener(\"click\",function(){c.classList.add(\"hidden\");a.getElementById(\"cf-footer-ip\").classList.remove(\"hidden\")}))}var a=document;document.addEventListener&&a.addEventListener(\"DOMContentLoaded\",d)})();</script>\\n</div><!-- /.error-footer -->\\n\\n\\n    </div><!-- /#cf-error-details -->\\n  </div><!-- /#cf-wrapper -->\\n\\n  <script>\\n  window._cf_translation = {};\\n  \\n  \\n</script>\\n\\n<script>(function(){function c(){var b=a.contentDocument||a.contentWindow.document;if(b){var d=b.createElement(\\'script\\');d.innerHTML=\"window.__CF$cv$params={r:\\'8dad2aa86db7b98b\\',t:\\'MTczMDMwOTc3Ni4wMDAwMDA=\\'};var a=document.createElement(\\'script\\');a.nonce=\\'\\';a.src=\\'/cdn-cgi/challenge-platform/scripts/jsd/main.js\\';document.getElementsByTagName(\\'head\\')[0].appendChild(a);\";b.getElementsByTagName(\\'head\\')[0].appendChild(d)}}if(document.body){var a=document.createElement(\\'iframe\\');a.height=1;a.width=1;a.style.position=\\'absolute\\';a.style.top=0;a.style.left=0;a.style.border=\\'none\\';a.style.visibility=\\'hidden\\';document.body.appendChild(a);if(\\'loading\\'!==document.readyState)c();else if(window.addEventListener)document.addEventListener(\\'DOMContentLoaded\\',c);else{var e=document.onreadystatechange||function(){};document.onreadystatechange=function(b){e(b);\\'loading\\'!==document.readyState&&(document.onreadystatechange=e,c())}}}})();</script></body>\\n</html>\\n'"
            ],
            "application/vnd.google.colaboratory.intrinsic+json": {
              "type": "string"
            }
          },
          "metadata": {},
          "execution_count": 21
        }
      ]
    },
    {
      "cell_type": "code",
      "source": [
        "soup = BeautifulSoup(p_response.text, 'html.parser')\n",
        "\n",
        "# Example to find product ID and MSRP\n",
        "product_id = soup.find('span', class_='product-id').get_text().split(': ')[1]\n",
        "msrp = soup.find('span', class_='msrp').get_text().split(': ')[1]\n",
        "description = soup.find('div', class_='description').p.get_text()\n",
        "\n",
        "print(f\"Product ID: {product_id}\")\n",
        "print(f\"MSRP: {msrp}\")\n",
        "print(f\"Description: {description}\")"
      ],
      "metadata": {
        "colab": {
          "base_uri": "https://localhost:8080/",
          "height": 211
        },
        "id": "S5-pbat0XFeE",
        "outputId": "c292fb8a-f0ce-40d6-8cd6-9baf8bd1462b"
      },
      "execution_count": null,
      "outputs": [
        {
          "output_type": "error",
          "ename": "AttributeError",
          "evalue": "'NoneType' object has no attribute 'get_text'",
          "traceback": [
            "\u001b[0;31m---------------------------------------------------------------------------\u001b[0m",
            "\u001b[0;31mAttributeError\u001b[0m                            Traceback (most recent call last)",
            "\u001b[0;32m<ipython-input-16-8eac50e625ba>\u001b[0m in \u001b[0;36m<cell line: 4>\u001b[0;34m()\u001b[0m\n\u001b[1;32m      2\u001b[0m \u001b[0;34m\u001b[0m\u001b[0m\n\u001b[1;32m      3\u001b[0m \u001b[0;31m# Example to find product ID and MSRP\u001b[0m\u001b[0;34m\u001b[0m\u001b[0;34m\u001b[0m\u001b[0m\n\u001b[0;32m----> 4\u001b[0;31m \u001b[0mproduct_id\u001b[0m \u001b[0;34m=\u001b[0m \u001b[0msoup\u001b[0m\u001b[0;34m.\u001b[0m\u001b[0mfind\u001b[0m\u001b[0;34m(\u001b[0m\u001b[0;34m'span'\u001b[0m\u001b[0;34m,\u001b[0m \u001b[0mclass_\u001b[0m\u001b[0;34m=\u001b[0m\u001b[0;34m'product-id'\u001b[0m\u001b[0;34m)\u001b[0m\u001b[0;34m.\u001b[0m\u001b[0mget_text\u001b[0m\u001b[0;34m(\u001b[0m\u001b[0;34m)\u001b[0m\u001b[0;34m.\u001b[0m\u001b[0msplit\u001b[0m\u001b[0;34m(\u001b[0m\u001b[0;34m': '\u001b[0m\u001b[0;34m)\u001b[0m\u001b[0;34m[\u001b[0m\u001b[0;36m1\u001b[0m\u001b[0;34m]\u001b[0m\u001b[0;34m\u001b[0m\u001b[0;34m\u001b[0m\u001b[0m\n\u001b[0m\u001b[1;32m      5\u001b[0m \u001b[0mmsrp\u001b[0m \u001b[0;34m=\u001b[0m \u001b[0msoup\u001b[0m\u001b[0;34m.\u001b[0m\u001b[0mfind\u001b[0m\u001b[0;34m(\u001b[0m\u001b[0;34m'span'\u001b[0m\u001b[0;34m,\u001b[0m \u001b[0mclass_\u001b[0m\u001b[0;34m=\u001b[0m\u001b[0;34m'msrp'\u001b[0m\u001b[0;34m)\u001b[0m\u001b[0;34m.\u001b[0m\u001b[0mget_text\u001b[0m\u001b[0;34m(\u001b[0m\u001b[0;34m)\u001b[0m\u001b[0;34m.\u001b[0m\u001b[0msplit\u001b[0m\u001b[0;34m(\u001b[0m\u001b[0;34m': '\u001b[0m\u001b[0;34m)\u001b[0m\u001b[0;34m[\u001b[0m\u001b[0;36m1\u001b[0m\u001b[0;34m]\u001b[0m\u001b[0;34m\u001b[0m\u001b[0;34m\u001b[0m\u001b[0m\n\u001b[1;32m      6\u001b[0m \u001b[0mdescription\u001b[0m \u001b[0;34m=\u001b[0m \u001b[0msoup\u001b[0m\u001b[0;34m.\u001b[0m\u001b[0mfind\u001b[0m\u001b[0;34m(\u001b[0m\u001b[0;34m'div'\u001b[0m\u001b[0;34m,\u001b[0m \u001b[0mclass_\u001b[0m\u001b[0;34m=\u001b[0m\u001b[0;34m'description'\u001b[0m\u001b[0;34m)\u001b[0m\u001b[0;34m.\u001b[0m\u001b[0mp\u001b[0m\u001b[0;34m.\u001b[0m\u001b[0mget_text\u001b[0m\u001b[0;34m(\u001b[0m\u001b[0;34m)\u001b[0m\u001b[0;34m\u001b[0m\u001b[0;34m\u001b[0m\u001b[0m\n",
            "\u001b[0;31mAttributeError\u001b[0m: 'NoneType' object has no attribute 'get_text'"
          ]
        }
      ]
    },
    {
      "cell_type": "code",
      "source": [
        "search_ids = [\"BTM-00020\", \"GF20B013\", \"GS21O031\", \"BTM-00046\", \"BTM-00031\", \"TOP-00064\", \"GF21T092\", \"TOP-00110\", \"TOP-00074\", \"BTM-00022\", \"TOP-00020\", \"TOP-00118\", \"TOP-00108\", \"BTM-00051\", \"BTM-00045\", \"BTM-00050\", \"BTM-00006\", \"TOP-00116\", \"GF21T079\", \"BTM-00033\", \"1S24S024\", \"ATL-00004\", \"GF20B023\", \"BTM-00004\", \"ATL-00021\", \"BTM-00011\", \"BTM-00009\", \"BTM-00013\", \"BTM-00012\", \"BTM-00017\", \"BTM-00016\", \"BTM-00015\", \"BTM-00014\", \"BTM-00043\", \"BTM-00035\", \"BTM-00018\", \"GS21T054\", \"GS21B037\", \"GF21K077\", \"JKT-00026\", \"JKT-00011\", \"GF21D091\", \"GF20T010\", \"JKT-00005\", \"JKT-00004\", \"GS21T055\", \"SKT-00001\", \"TOP-00035\", \"TOP-00034\", \"TOP-00033\", \"SKT-00005\", \"TOP-00023\", \"TOP-00017\", \"TOP-00016\", \"SKT-00014\", \"SKT-00013\", \"SKT-00011\", \"SKT-00012\", \"SKT-00007\", \"TOP-00032\", \"TOP-00026\", \"TOP-00052\", \"TOP-00050\", \"TOP-00059\", \"TOP-00058\", \"TOP-00053\", \"TOP-00071\", \"TOP-00067\", \"TOP-00094\", \"TOP-00077\", \"TOP-00111\", \"TOP-00109\", \"TOP-00096\", \"TOP-00041\", \"TOP-00042\", \"TOP-00114\", \"TOP-00115\", \"TOP-00049\", \"TOP-00047\", \"TOP-00120\", \"3F23T171\", \"1F23T156\", \"TOP-00102\", \"1F23T165\", \"1F23T127\", \"1F23W126\", \"2F23W176\", \"2F23W177\", \"3F23W173\", \"BTM-00041\", \"1F23T157\", \"3F23T174\", \"1F23T183\", \"1F23J063\", \"1F23B069\", \"3F23J042\", \"1F23J036\", \"1F23B066\", \"3F23T168\", \"1F23T144\", \"1F23S019\", \"1F23T150\", \"1F23B073\", \"3F23B082\", \"BTM-00054\", \"3F23T166\", \"1F23T130\", \"3F23T169\", \"1F23T147\", \"TOP-00122\", \"OTW-00020\", \"TOP-00106\", \"2F23T198\", \"JKT-00027\", \"BTM-00039\", \"BTM-00038\", \"TOP-00107\", \"1F23T133\", \"2F23J051\", \"OTW-00021\", \"1F23B075\", \"3F23T139\", \"1F23T125\", \"1F23B072\", \"1F23D063\", \"OTW-00022\", \"JKT-00034\", \"1F23T134\", \"1F23J059\", \"3F23B064\", \"1F23B058\", \"1F23T146\", \"3F23B083\", \"1F23B077\", \"1F23B098\", \"1F23T137\", \"1F23T151\", \"JKT-00029\", \"BTM-00029\", \"TOP-00101\", \"1F23T160\", \"3F23D058\", \"1F23D052\", \"3F23B079\", \"1F23B068\", \"TOP-00098\", \"1F23T162\", \"2S24B095\", \"2S24B098\", \"2S24T196\", \"2S24J065\", \"2S24O025\", \"2S24J064\", \"1S24T273\", \"1S24T225\", \"1S24T229\", \"1F23T154\", \"2S24T193\", \"2S24T186\", \"3S24B111\", \"1S24B110\", \"1S24T231\", \"3S24T232\", \"3S24J078\", \"1S24J077\", \"1S24J079\", \"2S24B120\", \"2S24J081\", \"2S24B086\", \"2S24B112\", \"2S24T189\", \"2S24T234\", \"3S24B118\", \"1S24B113\", \"3S24T223\", \"1S24T209\", \"1S24B097\", \"2S24T226\", \"2S24B087\", \"1F24T240\", \"1S24T227\", \"3S24T199\", \"1S24T195\", \"3S24T202\", \"1S24T194\", \"3S24B101\", \"1S24B090\", \"1S24T228\", \"1S24W224\", \"1S24W180\", \"3S24T276\", \"\"]"
      ],
      "metadata": {
        "id": "h5L9A3o6Y36M"
      },
      "execution_count": null,
      "outputs": []
    },
    {
      "cell_type": "code",
      "source": [
        "search_ids = ['689304360258','689304321075']"
      ],
      "metadata": {
        "id": "xcrjcgU6JFT2"
      },
      "execution_count": null,
      "outputs": []
    },
    {
      "cell_type": "code",
      "source": [
        "search_ids = [\"BTM-00013\", \"BTM-00012\", \"BTM-00016\", \"BTM-00015\", \"SKT-00014\",]"
      ],
      "metadata": {
        "id": "UJURIjjraywS"
      },
      "execution_count": null,
      "outputs": []
    },
    {
      "cell_type": "code",
      "source": [
        "search_ids = [\"1F23B058 KNOCKOUT PINK\", \"1F23B058 MIDNIGHT\", \"1F23B066 BLACK\", \"1F23B066 VALENTINE RED\", \"1F23B068 PLAID\", \"1F23B069 BLACK-IVORY COLORBLOCK\", \"1F23B072 BLACK\", \"1F23B072 CASSIS\", \"1F23B073 BLACK\", \"1F23B073 SOFT PINK\", \"1F23B075 BRONZE METALLIC\", \"1F23B077 NAVY\", \"1F23B098 ACID LIME\", \"1F23D034 MIDNIGHT\", \"1F23D042 BLACK - WHITE COLORBLOCK\", \"1F23D047 BLACK\", \"1F23D052 BLACK\", \"1F23D052 VALENTINE RED\", \"1F23D063 BERRY\", \"1F23J036 NAVY\", \"1F23J044 ACID LIME\", \"1F23J044 BLACK BEAUTY\", \"1F23J044 SUNSET GRADIENT\", \"1F23J047 PLAID\", \"1F23J050 BLACK BEAUTY\", \"1F23J059 BLACK\", \"1F23J059 IVORY\", \"1F23J059 SOFT PINK\", \"1F23J060 RED CHEETAH\", \"1F23J063 ACID LIME\", \"1F23J080 BLACK BEAUTY\", \"1F23J131 BLACK BEAUTY\", \"1F23J131 VALENTINE RED\", \"1F23O024 ORANGE\", \"1F23S019 BLACK\", \"1F23T125 KNOCKOUT PINK\", \"1F23T125 MIDNIGHT\", \"1F23T127 ACID LIME\", \"1F23T127 SNOW WHITE\", \"1F23T130 BLACK\", \"1F23T130 VALENTINE RED\", \"1F23T130 WHITE\", \"1F23T133 SNOW WHITE\", \"1F23T134 BLACK\", \"1F23T134 CASSIS\", \"1F23T137 GOLD FOIL\", \"1F23T144 BLACK\", \"1F23T144 CAMEL\", \"1F23T146 BLACK BEAUTY\", \"1F23T147 BLACK BEAUTY\", \"1F23T150 BLACK\", \"1F23T151 BLACK\", \"1F23T154 BRIGHT WHITE\", \"1F23T154 OPEN AIR\", \"1F23T156 SNOW WHITE\", \"1F23T157 BLACK\", \"1F23T157 VALENTINE RED\", \"1F23T158 SEQUIN BRONZE\", \"1F23T160 BLACK METALLIC\", \"1F23T162 SNOW WHITE\", \"1F23T165 BLACK BEAUTY\", \"1F23T183 ACID LIME\", \"1F23W126 BLACK\", \"1F23W126 METALLIC SILVER\", \"1F24J089 GOLD\", \"1F24J089 SILVER\", \"1F24T240 BLACK BEAUTY\", \"1S23J037 BLACK BEAUTY\", \"1S23J037 SOHO STONE\", \"1S24B090 OPEN AIR\", \"1S24B090 ORANGE\", \"1S24B097 INDIGO\", \"1S24B110 SNOW WHITE\", \"1S24B113 BLACK & WHITE STRIPE\", \"1S24D077 BLACK & WHITE\", \"1S24D078 SAFFRON\", \"1S24D079 BLACK BEAUTY\", \"1S24D079 GREY MELANGE\", \"1S24D080 BLACK BEAUTY\", \"1S24D080 ROSE\", \"1S24D080 SLATE GREY\", \"1S24D080 TIE DYE\", \"1S24J067 PEACOCK\", \"1S24J067 SAFFRON\", \"1S24J077 SNOW WHITE\", \"1S24J079 RAINBOW SPILL\", \"1S24J114 BLACK\", \"1S24S024 BBL\", \"1S24T194 BLACK BEAUTY\", \"1S24T195 BRIGHT WHITE\", \"1S24T209 BLACK & WHITE STRIPE\", \"1S24T225 BLACK BEAUTY\", \"1S24T225 BRIGHT WHITE\", \"1S24T225 SAFFRON\", \"1S24T227 BLACK & WHITE STRIPE\", \"1S24T227 BLACK BEAUTY\", \"1S24T228 BEIGE GLITTER\", \"1S24T229 BLACK BEAUTY\", \"1S24T231 TOFFEE GLITTER\", \"1S24T273 BLACK BEAUTY\", \"1S24W180 BLACK BEAUTY\", \"1S24W224 BLACK BEAUTY\", \"2F23J051 BLACK\", \"2F23T198 BLACK-SLATE\", \"2F23T198 BLACK-WHITE\", \"2F23W176 BLACK SWOOSH\", \"2F23W177 BW COMPASS\", \"2S24B086 CANTEEN\", \"2S24B086 FEATHER GREY\", \"2S24B087 CHERRY TOMATO\", \"2S24B087 FEATHER GREY\", \"2S24B095 BRISTOL BLUE\", \"2S24B095 CANTEEN\", \"2S24B095 FLORAL\", \"2S24B098 BLACK PLUM\", \"2S24B098 CANTEEN\", \"2S24B112 QUIET GREY\", \"2S24B120 GREY & YELLOW PRINT\", \"2S24J064 NIGHT OWL\", \"2S24J065 CANTEEN\", \"2S24J081 FLORAL PRINT\", \"2S24O025 FEATHER GREY COLORBLOCK\", \"2S24T186 CANTEEN\", \"2S24T189 BRIGHT WHITE\", \"2S24T189 CANTEEN\", \"2S24T189 CHERRY TOMATO\", \"2S24T189 SKYRIDE\", \"2S24T193 WHITE\", \"2S24T196 BLACK PLUM\", \"2S24T196 CANTEEN\", \"2S24T226 TIE DYE\", \"2S24T234 BRIGHT WHITE\", \"3F23B064 KNOCKOUT PINK\", \"3F23B064 MIDNIGHT\", \"3F23B079 PLAID\", \"3F23B082 BLACK STRIPE\", \"3F23B083 NAVY\", \"3F23D055 BLACK - WHITE COLORBLOCK\", \"3F23D058 BLACK\", \"3F23D058 VALENTINE RED\", \"3F23J042 NAVY\", \"3F23J053 ACID LIME\", \"3F23J053 BLACK BEAUTY\", \"3F23J053 SUNSET GRADIENT\", \"3F23J055 PLAID\", \"3F23J057 SEQUIN BRONZE\", \"3F23J071 RED CHEETAH\", \"3F23T139 KNOCKOUT PINK\", \"3F23T139 MIDNIGHT\", \"3F23T166 BLACK\", \"3F23T166 VALENTINE RED\", \"3F23T166 WHITE\", \"3F23T168 BLACK\", \"3F23T168 CAMEL\", \"3F23T169 BLACK BEAUTY\", \"3F23T171 SNOW WHITE\", \"3F23T174 BLACK BEAUTY\", \"3F23W173 BLACK\", \"3F23W173 METALLIC SILVER\", \"3F24J091 GOLD\", \"3F24J091 SILVER\", \"3S24B101 OPEN AIR\", \"3S24B101 ORANGE\", \"3S24B111 SNOW WHITE\", \"3S24B118 BLACK & WHITE STRIPE\", \"3S24D071 SAFFRON\", \"3S24J068 PEACOCK\", \"3S24J068 SAFFRON\", \"3S24J073 BLACK BEAUTY\", \"3S24J078 SNOW WHITE\", \"3S24T199 BRIGHT WHITE\", \"3S24T202 BLACK BEAUTY\", \"3S24T223 BLACK & WHITE STRIPE\", \"3S24T232 BLACK BEAUTY\", \"3S24T232 BRIGHT WHITE\", \"3S24T232 SAFFRON\", \"3S24T276 BLACK BEAUTY\", \"ATL-00004 BLK\", \"ATL-00006 BLK\", \"ATL-00021 OLT\", \"BTM-00004 BLK\", \"BTM-00006 BLACK BEAUTY\", \"BTM-00006 Midnight\", \"BTM-00006 PORT\", \"BTM-00006 White\", \"BTM-00009 SGY\", \"BTM-00011 BBL\", \"BTM-00011 FRG\", \"BTM-00012 BBL\", \"BTM-00013 BBL\", \"BTM-00014 BLK\", \"BTM-00015 BBL\", \"BTM-00016 BBL\", \"BTM-00017 BBL\", \"BTM-00017 FRG\", \"BTM-00018 BBL\", \"BTM-00020 GREENE ST\", \"BTM-00022 BLACK BEAUTY\", \"BTM-00029 KNOCKOUT PINK\", \"BTM-00029 MIDNIGHT CB\", \"BTM-00029 PORT CB\", \"BTM-00031 BLACK BEAUTY\", \"BTM-00031 CHELSEA BL\", \"BTM-00033 BLACK BEAUTY\", \"BTM-00033 NEW KHAKI\", \"BTM-00035 MID\", \"BTM-00035 WHT\", \"BTM-00038 BLACK\", \"BTM-00038 BORDEAUX\", \"BTM-00038 NAVY\", \"BTM-00039 BLACK\", \"BTM-00039 BORDEAUX\", \"BTM-00039 NAVY\", \"BTM-00041 BLACK\", \"BTM-00041 GREY\", \"BTM-00041 NAVY\", \"BTM-00043 BBL\", \"BTM-00043 NER\", \"BTM-00045 BLACK BEAUTY\", \"BTM-00045 PORT\", \"BTM-00046 BLACK BEAUTY\", \"BTM-00046 CHELSEA BL\", \"BTM-00050 CHICORY COFFEE\", \"BTM-00050 NEON SOLE\", \"BTM-00051 CHICORY COFFEE\", \"BTM-00051 NEON SOLE\", \"BTM-00054 BLACK STRIPE\", \"DRS-00003 BLK\", \"DRS-00003 PKL\", \"DRS-00004 BLK\", \"DRS-00004 RDE\", \"DRS-00006 SDS\", \"DRS-00011 WHT\", \"DRS-00012 BBL\", \"DRS-00012 FBL\", \"DRS-00013 BBL\", \"DRS-00018 BBL\", \"DRS-00019 BBL\", \"DRS-00021 GREENE ST\", \"DRS-00023 BCB\", \"DRS-00023 LWH\", \"DRS-00024 BCB\", \"DRS-00026 BLACK BEAUTY\", \"DRS-00026 BOLD VIOLE\", \"DRS-00026 CHELSEA BL\", \"DRS-00026 PARADISE P\", \"DRS-00029 WEN\", \"DRS-00031 BLACK BEAUTY\", \"DRS-00031 BOLD VIOLE\", \"DRS-00031 CHELSEA BL\", \"DRS-00031 PARADISE P\", \"DRS-00032 BBL\", \"DRS-00033 BCB\", \"DRS-00033 LWH\", \"GF20B013 Black\", \"GF20B023 BLK\", \"GF20O015 BLK\", \"GF20O015 GPL\", \"GF20T010 BLK\", \"GF20T010 SWW\", \"GF21D091 GRY\", \"GF21D091 MID\", \"GF21D108 MID\", \"GF21K077 MER\", \"GF21K077 MID\", \"GF21T079 Silver\", \"GF21T092 Black\", \"GF21T092 Dark Heather Grey\", \"GF21T092 Midnight\", \"GF21T092 White\", \"GS21B037 BLK\", \"GS21O030 BLK\", \"GS21O031 Black\", \"GS21O052 Black\", \"GS21O052 White\", \"GS21T054 BLK\", \"GS21T055 BLK\", \"JKT-00004 BLK\", \"JKT-00004 PKL\", \"JKT-00005 BLK\", \"JKT-00006 MID\", \"JKT-00011 BBL\", \"JKT-00016 PORT\", \"JKT-00016 Royal Blue\", \"JKT-00016 White\", \"JKT-00020 GREENE ST\", \"JKT-00021 BLACK BEAUTY\", \"JKT-00021 CHELSEA BL\", \"JKT-00026 BBL\", \"JKT-00026 NER\", \"JKT-00027 BLACK\", \"JKT-00027 BORDEAUX\", \"JKT-00027 NAVY\", \"JKT-00029 KNOCKOUT PINK\", \"JKT-00029 MIDNIGHT CB\", \"JKT-00029 PORT CB\", \"JKT-00034 BLACK IRIDESCENT\", \"OTW-00003 SDS\", \"OTW-00004 ENH\", \"OTW-00008 BBL\", \"OTW-00008 FBL\", \"OTW-00008 WRM\", \"OTW-00009 CCG\", \"OTW-00012 FBL\", \"OTW-00012 WRM\", \"OTW-00020 BLACK\", \"OTW-00021 BLACK\", \"OTW-00022 PINK HB\", \"OTW-00022 WHITE HB\", \"SKT-00001 MID\", \"SKT-00005 PKL\", \"SKT-00007 BBL\", \"SKT-00011 BRRY\", \"SKT-00012 BBL\", \"SKT-00013 BBL\", \"SKT-00013 LWH\", \"SKT-00013 WHT\", \"SKT-00014 BBL\", \"TOP-00016 BLK\", \"TOP-00017 MID\", \"TOP-00020 Midnight\", \"TOP-00020 White\", \"TOP-00023 LCM\", \"TOP-00026 MID\", \"TOP-00032 BBL\", \"TOP-00033 CCG\", \"TOP-00033 WRM\", \"TOP-00034 CCG\", \"TOP-00034 WRM\", \"TOP-00035 ATY\", \"TOP-00035 BBL\", \"TOP-00035 WRM\", \"TOP-00041 BBL\", \"TOP-00042 BBL\", \"TOP-00047 BBL\", \"TOP-00049 BBL\", \"TOP-00049 WHT\", \"TOP-00050 CHRL\", \"TOP-00050 WCRM\", \"TOP-00052 BBL\", \"TOP-00053 BBL\", \"TOP-00053 DCML\", \"TOP-00058 BRRY\", \"TOP-00059 BRRY\", \"TOP-00064 BLACK BEAUTY\", \"TOP-00064 LILAC WHISPER\", \"TOP-00064 White\", \"TOP-00067 BBL\", \"TOP-00067 SOS\", \"TOP-00071 BBL\", \"TOP-00071 BDV\", \"TOP-00071 CAB\", \"TOP-00071 WHT\", \"TOP-00074 BLACK BEAUTY\", \"TOP-00074 GREENE ST\", \"TOP-00074 SOHO STONE\", \"TOP-00077 BBL\", \"TOP-00077 LWH\", \"TOP-00077 WHT\", \"TOP-00094 MID\", \"TOP-00094 NES\", \"TOP-00096 BBL\", \"TOP-00096 NER\", \"TOP-00098 BLACK\", \"TOP-00098 PORT\", \"TOP-00098 SLATE\", \"TOP-00101 BLACK\", \"TOP-00102 ACID LIME\", \"TOP-00102 BLACK\", \"TOP-00102 FIERY RED\", \"TOP-00102 KNOCKOUT PINK\", \"TOP-00102 WHITE\", \"TOP-00106 BLACK-WHITE\", \"TOP-00107 BLACK\", \"TOP-00107 FIERY RED\", \"TOP-00107 GRADIENT\", \"TOP-00107 QUIET HARBOR\", \"TOP-00107 WHITE HOUNDSTOOTH\", \"TOP-00108 NEON SOLE\", \"TOP-00108 White\", \"TOP-00109 BBL\", \"TOP-00109 BDV\", \"TOP-00109 CAB\", \"TOP-00109 WHT\", \"TOP-00110 BLACK BEAUTY\", \"TOP-00110 GREENE ST\", \"TOP-00110 SOHO STONE\", \"TOP-00111 MID\", \"TOP-00111 NES\", \"TOP-00114 MID\", \"TOP-00114 WHT\", \"TOP-00115 BBL\", \"TOP-00115 LWH\", \"TOP-00115 WHT\", \"TOP-00116 BLACK BEAUTY\", \"TOP-00116 LILAC WHISPER\", \"TOP-00116 Midnight\", \"TOP-00116 NEON SOLE\", \"TOP-00116 White\", \"TOP-00118 NEON SOLE\", \"TOP-00118 White\", \"TOP-00120 BBL\", \"TOP-00120 BRRY\", \"TOP-00122 BLACK\"]"
      ],
      "metadata": {
        "id": "pG0Y-p9LwHza"
      },
      "execution_count": null,
      "outputs": []
    },
    {
      "cell_type": "code",
      "source": [
        "import random\n",
        "import time,os,re\n",
        "import pandas as pd\n",
        "from selenium import webdriver\n",
        "from selenium.webdriver.chrome.service import Service\n",
        "from selenium.webdriver.chrome.options import Options\n",
        "from selenium.webdriver.common.by import By\n",
        "from selenium.webdriver.support.ui import WebDriverWait\n",
        "from selenium.webdriver.support import expected_conditions as EC\n",
        "from selenium.webdriver.common.action_chains import ActionChains\n",
        "from bs4 import BeautifulSoup\n",
        "from urllib.parse import urlparse, parse_qs\n",
        "import csv\n",
        "import subprocess\n",
        "\n",
        "\n",
        "def initialize_driver():\n",
        "    \"\"\"Initialize and return a configured Selenium WebDriver instance.\"\"\"\n",
        "    agents = ['Mozilla/5.0 (Windows NT 10.0; Win64; x64) AppleWebKit/537.36 (KHTML, like Gecko) Chrome/129.0.0.0 Safari/537.3',\n",
        "              'Mozilla/5.0 (Macintosh; Intel Mac OS X 10_15_7) AppleWebKit/537.36 (KHTML, like Gecko) Chrome/102.0.0.0 Safari/537.3',\n",
        "              'Mozilla/5.0 (Windows NT 10.0; Win64; x64) AppleWebKit/537.36 (KHTML, like Gecko) Chrome/109.0.0.0 Safari/537.3',\n",
        "              'Mozilla/5.0 (Windows NT 10.0; Win64; x64) AppleWebKit/537.36 (KHTML, like Gecko) Chrome/128.0.0.0 Safari/537.3',\n",
        "              'Mozilla/5.0 (Windows NT 10.0; Win64; x64) AppleWebKit/537.36 (KHTML, like Gecko) Chrome/129.0.0.0 Safari/537.36 OpenWave/93.4.3888.3']\n",
        "\n",
        "    chrome_options = Options()\n",
        "    # chrome_options.add_argument(\"user-agent=Mozilla/5.0 (Windows NT 10.0; Win64; x64) AppleWebKit/537.36 (KHTML, like Gecko) Chrome/118.0.0.0 Safari/537.36\")\n",
        "    chrome_options.add_argument(\"--headless\")\n",
        "    chrome_options.add_argument(\"--disable-blink-features=AutomationControlled\")\n",
        "    chrome_options.add_argument(\"--no-sandbox\")\n",
        "    chrome_options.add_argument(\"--disable-dev-shm-usage\")\n",
        "    chrome_options.add_experimental_option(\"excludeSwitches\", [\"enable-automation\"])\n",
        "    chrome_options.add_experimental_option('useAutomationExtension', False)\n",
        "    chrome_options.page_load_strategy = 'eager'\n",
        "\n",
        "    service = Service()  # Replace with the path to your chromedriver if needed\n",
        "    driver = webdriver.Chrome(service=service, options=chrome_options)\n",
        "    driver.set_page_load_timeout(60)\n",
        "    # Additional anti-bot techniques\n",
        "    random_agent = random.choice(agents)\n",
        "    print(random_agent)\n",
        "    driver.execute_cdp_cmd('Network.setUserAgentOverride', {\n",
        "        \"userAgent\": str(random_agent),\n",
        "        \"platform\": \"Windows\"})\n",
        "    driver.execute_script(\"Object.defineProperty(navigator, 'webdriver', {get: () => undefined})\")\n",
        "#\n",
        "    params = {\n",
        "        \"latitude\": 40.7127,\n",
        "        \"longitude\": -74.0059,\n",
        "        \"accuracy\": 100\n",
        "    }\n",
        "\n",
        "    driver.execute_cdp_cmd(\"Page.setGeolocationOverride\", params)\n",
        "\n",
        "    return driver\n",
        "def save_to_csv(file_path, data):\n",
        "    with open(file_path, mode='w', newline='', encoding='utf-8') as file:\n",
        "        writer = csv.writer(file)\n",
        "        # Write the header\n",
        "        writer.writerow(['query','Product ID', 'Name', 'Description', 'SKU', 'Color', 'Category', 'Brand', 'Price', 'Currency', 'Condition', 'Availability', 'Seller', 'URL', 'Images'])\n",
        "        # Write data rows\n",
        "        for row in data:\n",
        "            writer.writerow(row)\n",
        "def mimic_browser_activity(driver):\n",
        "    \"\"\"Simulate human-like browser activity.\"\"\"\n",
        "    # Simulate human-like scrolling\n",
        "    driver.execute_script(\"window.scrollTo(0, document.body.scrollHeight);\")\n",
        "    time.sleep(random.uniform(2, 4))\n",
        "\n",
        "    # Random interaction with non-essential elements\n",
        "    try:\n",
        "        clickable_element = WebDriverWait(driver, 5).until(\n",
        "            EC.element_to_be_clickable((By.CSS_SELECTOR, \"a, button\"))\n",
        "        )\n",
        "        clickable_element.click()\n",
        "        time.sleep(random.uniform(1, 3))\n",
        "    except Exception:\n",
        "        pass  # Ignore if no clickable element is found\n",
        "\n",
        "def process_page(data_for_csv, driver, id, search_url, csv_file_path):\n",
        "    \"\"\"Process a single product page and save the results to a CSV file.\"\"\"\n",
        "    try:\n",
        "        driver.delete_all_cookies()\n",
        "        print(\"Search Url- \", search_url)\n",
        "\n",
        "        # Attempt to load the page and extract data up to 3 times\n",
        "        count = 0\n",
        "        delay = 15  # Initial delay of 15 seconds\n",
        "        max_attempts = 5  # Maximum number of attempts\n",
        "\n",
        "        while count < max_attempts:\n",
        "            driver.get(search_url)\n",
        "            # Simulate human-like behavior to avoid detection\n",
        "            # mimic_browser_activity(driver)\n",
        "\n",
        "            # Extract product schema and process if available\n",
        "            product_schemas = extract_product_schema(driver.page_source)\n",
        "            if product_schemas:\n",
        "                for product in product_schemas:\n",
        "                    images = ', '.join(product['image'])\n",
        "                    offers = product['offers']\n",
        "                    return [\n",
        "                        str(id),\n",
        "                        product['productID'],\n",
        "                        product['name'],\n",
        "                        product['description'],\n",
        "                        product['sku'],\n",
        "                        product['color'],\n",
        "                        product['category'],\n",
        "                        product['brand']['name'],\n",
        "                        offers['price'],\n",
        "                        offers['priceCurrency'],\n",
        "                        offers['itemCondition'],\n",
        "                        offers['availability'],\n",
        "                        offers['seller']['name'],\n",
        "                        offers['url'],\n",
        "                        images\n",
        "                    ]\n",
        "            else:\n",
        "            # Increment count after each failed attempt\n",
        "              vpn_connection_cycle()\n",
        "              count += 1\n",
        "              print(f\"Attempt {count}: No valid product schema found.\")\n",
        "\n",
        "            if count >= 3:\n",
        "                # After 3 unsuccessful attempts, start adding delay\n",
        "                print(f\"Waiting for {delay} seconds before the next attempt...\")\n",
        "                time.sleep(delay)\n",
        "                vpn_connection_cycle()\n",
        "                delay += 15  # Increase the delay by 15 seconds for each subsequent attempt\n",
        "\n",
        "        vpn_connection_cycle()\n",
        "        # After max attempts, try a manual parse or log the failure\n",
        "        driver.quit()\n",
        "        driver = initialize_driver()\n",
        "        driver.get(search_url)\n",
        "        driver.get(search_url)\n",
        "        product_details = manual_parse(driver.page_source)\n",
        "        print(product_details)\n",
        "        if product_details:\n",
        "            # Assuming you have a way to handle missing product details\n",
        "            return [\n",
        "                str(id),\n",
        "                product_details.get('productID', 'missing'),\n",
        "                product_details.get('name', 'missing'),\n",
        "                'missing details not schema',\n",
        "                'missing details not schema',\n",
        "                'missing details not schema',\n",
        "                'missing details not schema',\n",
        "                'missing details not schema',\n",
        "                product_details.get('price', 'missing'),\n",
        "                product_details.get('priceCurrency', 'missing'),\n",
        "                'missing details not schema',\n",
        "                'missing details not schema',\n",
        "                'missing details not schema',\n",
        "                search_url,\n",
        "                'missing details not schema',\n",
        "            ]\n",
        "        else:\n",
        "            return None\n",
        "\n",
        "    except Exception as e:\n",
        "        print(e)\n",
        "        # Optionally log the exception or handle differently\n",
        "        return None\n",
        "\n",
        "def process_row(driver, id, search_url, csv_file_path):\n",
        "    \"\"\"Process a single product page and save the results to a CSV file.\"\"\"\n",
        "    try:\n",
        "        driver.delete_all_cookies()\n",
        "        print(\"Search Url- \")\n",
        "        print(search_url)\n",
        "\n",
        "        driver.get(search_url)\n",
        "\n",
        "        return driver.page_source\n",
        "\n",
        "    except Exception as e:\n",
        "        # save_to_csv(csv_file_path, [[id, '', '', '', '', '', search_url, str(e)]])\n",
        "        print(e)\n",
        "        return None\n",
        "import pandas as pd\n",
        "import os\n",
        "def mark_rows_as_processed(csv_path, processed_indices):\n",
        "    # Load the CSV file\n",
        "    df = pd.read_csv(csv_path)\n",
        "\n",
        "    # Update the 'Processed' column for the processed rows\n",
        "    df.loc[processed_indices, 'Processed'] = 1\n",
        "\n",
        "    # Save the updated DataFrame back to CSV\n",
        "    df.to_csv(csv_path, index=False)\n",
        "\n",
        "def setup_csv_from_excel(excel_path, csv_path,output_path):\n",
        "    # Load the Excel file\n",
        "    df_excel = pd.read_excel(excel_path)\n",
        "    print(df_excel.head())\n",
        "\n",
        "    # print(\"Loaded Excel data into list:\", excel_data_list)\n",
        "    # Determine if the CSV needs to be created\n",
        "    if not os.path.exists(csv_path):\n",
        "        # Include 'Processed' column initialized to 0\n",
        "        df_excel['Processed'] = 0\n",
        "        # Save to CSV\n",
        "        df_excel.to_csv(csv_path, index=False)\n",
        "        print(f\"CSV created: {csv_path}\")\n",
        "    else:\n",
        "        # Load the CSV if it exists\n",
        "        print(f\"CSV already exists: {csv_path}\")\n",
        "        df_csv = pd.read_csv(csv_path)\n",
        "        # Ensure it has a 'Processed' column\n",
        "        if 'Processed' not in df_csv.columns:\n",
        "            df_csv['Processed'] = 0\n",
        "            df_csv.to_csv(csv_path, index=False)\n",
        "\n",
        "\n",
        "    if os.path.exists(output_path):\n",
        "        # Load the CSV if it exists\n",
        "        print(f\"CSV already exists: {csv_path}\")\n",
        "        df_csv_out = pd.read_csv(output_path)\n",
        "        df_csv_out = df_csv_out.values.tolist()\n",
        "    else:\n",
        "      df_csv_out = []\n",
        "\n",
        "    return df_csv_out\n",
        "def load_unprocessed_rows(csv_path):\n",
        "    # Load the CSV file\n",
        "    df = pd.read_csv(csv_path)\n",
        "\n",
        "    # Ensure there is a 'Processed' column, add if not present\n",
        "    if 'Processed' not in df.columns:\n",
        "        df['Processed'] = 0  # Initialize all as unprocessed if the column was missing\n",
        "        df.to_csv(csv_path, index=False)  # Save the file with the new column\n",
        "\n",
        "    # Filter out the unprocessed rows\n",
        "    unprocessed_df = df[df['Processed'] == 0]\n",
        "\n",
        "\n",
        "    # Extract values from the first column\n",
        "    # .iloc[:,0] accesses the first column of the DataFrame\n",
        "    first_column_values = unprocessed_df.iloc[:,0].tolist()\n",
        "\n",
        "    return first_column_values\n",
        "\n",
        "def parse_google_results(soup):\n",
        "        results = []\n",
        "        for g in soup.find_all('div', class_='g'):\n",
        "            links = g.find_all('a')\n",
        "            if links and 'href' in links[0].attrs:  # check if 'href' attribute exists\n",
        "                results.append(links[0]['href'])\n",
        "        return results\n",
        "import requests\n",
        "import subprocess\n",
        "import os\n",
        "\n",
        "def check_ip():\n",
        "    # List of IP check services\n",
        "    services = [\n",
        "        'https://api.ipify.org',\n",
        "        'https://ipinfo.io/ip',\n",
        "        'https://api.myip.com'\n",
        "    ]\n",
        "    for service in services:\n",
        "        try:\n",
        "            response = requests.get(service)\n",
        "            if response.status_code == 200:\n",
        "                return response.text.strip()  # Strip to clean any extra whitespace/newlines\n",
        "        except requests.RequestException as e:\n",
        "            print(f\"Failed to fetch IP from {service}: {e}\")\n",
        "\n",
        "    return None  # Return None to indicate failure\n",
        "from bs4 import BeautifulSoup\n",
        "\n",
        "def manual_parse(content):\n",
        "    # Create a BeautifulSoup object\n",
        "    soup = BeautifulSoup(content, 'html.parser')\n",
        "\n",
        "    # Check if the page is a Cloudflare error page\n",
        "    if soup.find('a', href='https://www.cloudflare.com/5xx-error-landing'):\n",
        "        print(\"Cloudflare error detected. Attempting to connect to VPN...\")\n",
        "        vpn_connection_cycle()\n",
        "        return None\n",
        "\n",
        "    # Initialize the result dictionary with defaults for missing data\n",
        "    result = {\n",
        "        \"priceCurrency\": \"Currency Not Found\",\n",
        "        \"price\": \"Price Not Found\",\n",
        "        \"name\": \"Title Not Found\",\n",
        "        \"productID\": \"Product ID Not Found\",\n",
        "        \"images\": []\n",
        "    }\n",
        "\n",
        "    # Extract name\n",
        "    name_tag = soup.find('h1', class_='css-azjk2j')\n",
        "    if name_tag:\n",
        "        result['name'] = name_tag.get_text(strip=True)\n",
        "\n",
        "    # Extract price and currency symbol\n",
        "    price_tag = soup.find('span', class_='css-bks3r1')\n",
        "    if price_tag:\n",
        "        price_text = price_tag.get_text(strip=True)\n",
        "        if price_text.startswith('$'):\n",
        "            result['priceCurrency'] = 'USD'\n",
        "            result['price'] = price_text[1:]  # Remove the dollar sign\n",
        "        else:\n",
        "            # Handle other symbols or use regex to find numbers and isolate the symbol\n",
        "            result['price'] = price_text\n",
        "\n",
        "    # Extract product ID\n",
        "    product_id_tag = soup.find('p', class_='css-izt7py')\n",
        "    if product_id_tag and ':' in product_id_tag.text:\n",
        "        parts = product_id_tag.text.split(': ')\n",
        "        if len(parts) > 1:\n",
        "            result['productID'] = parts[1].strip()\n",
        "\n",
        "    # Extract image URLs\n",
        "    img_tags = soup.select('section img')\n",
        "    image_urls = [img['src'] for img in img_tags]\n",
        "    result['images'] = ', '.join(image_urls)\n",
        "\n",
        "    return result\n",
        "def connect_vpn():\n",
        "    nordvpn_dir = \"C:\\\\Program Files\\\\NordVPN\\\\\"\n",
        "    if os.path.exists(nordvpn_dir):\n",
        "        os.chdir(nordvpn_dir)\n",
        "        command = 'nordvpn -c'\n",
        "        result = subprocess.run(command, shell=True, stdout=subprocess.PIPE, stderr=subprocess.PIPE)\n",
        "        time.sleep(20)\n",
        "        return result.stdout.decode() + \"\\n\" + result.stderr.decode()\n",
        "    else:\n",
        "        return f\"The directory {nordvpn_dir} does not exist. Please check the installation path.\"\n",
        "\n",
        "def vpn_connection_cycle(max_retries=5, cooldown_period=120):\n",
        "    initial_ip = check_ip()\n",
        "    print(\"Current IP Address:\", initial_ip if initial_ip else \"Failed to fetch initial IP.\")\n",
        "    attempt = 0\n",
        "\n",
        "    while attempt < max_retries:\n",
        "        print(f\"Attempt {attempt+1} of {max_retries}: Connecting to VPN...\")\n",
        "        vpn_response = connect_vpn()\n",
        "        print(\"VPN Response:\", vpn_response)\n",
        "        time.sleep(10)  # Wait for the VPN to fully establish the connection\n",
        "        new_ip = check_ip()\n",
        "        print(\"New IP Address after VPN connection:\", new_ip if new_ip else \"Failed to fetch new IP.\")\n",
        "\n",
        "        if new_ip and new_ip != initial_ip:\n",
        "            print(\"IP address changed successfully.\")\n",
        "            break\n",
        "        elif new_ip is None:\n",
        "            print(f\"All IP services failed. Entering cooldown period of {cooldown_period} seconds...\")\n",
        "            time.sleep(cooldown_period)\n",
        "            print(\"Retrying after cooldown...\")\n",
        "\n",
        "        attempt += 1\n",
        "        if attempt == max_retries:\n",
        "            print(\"Failed to change IP after maximum retries.\")\n",
        "            break\n",
        "\n",
        "def find_cloudflare_error_links(html_content):\n",
        "    soup = BeautifulSoup(html_content, 'html.parser')\n",
        "    error_links = soup.find_all('a', href=\"https://www.cloudflare.com/5xx-error-landing\")\n",
        "    return error_links\n",
        "\n",
        "\n",
        "def main():\n",
        "\n",
        "    vpn_connection_cycle()\n",
        "\n",
        "    csv_file_path = \"C:\\\\Users\\\\ICON\\\\Downloads\\\\product_data.csv\"\n",
        "    csv_file_path_working = 'C:\\\\Users\\\\ICON\\\\Downloads\\\\working.csv'\n",
        "    # query = \"OWAD122C99JER0030110\"\n",
        "    file_path = 'C:\\\\Users\\\\ICON\\\\Downloads\\\\OffWhiteRRPsNeeded.xlsx'  # Specify your file path\n",
        "    # column_values = read_excel_to_list(file_path)\n",
        "    excel_data_list = setup_csv_from_excel(file_path, csv_file_path_working,csv_file_path)\n",
        "    print(excel_data_list)\n",
        "    if excel_data_list:\n",
        "      offset = len(excel_data_list)\n",
        "      print(offset)\n",
        "    else:\n",
        "      offset = 0\n",
        "    unprocessed_list  = load_unprocessed_rows(csv_file_path_working)\n",
        "    driver = initialize_driver()\n",
        "    for mainIndex,query in enumerate(unprocessed_list):\n",
        "        mainIndex = mainIndex + offset\n",
        "        search_ids = []\n",
        "        search = f\"https://www.google.com/search?q={query}\"\n",
        "        time.sleep(random.randint(5, 30))\n",
        "        response = process_row(driver, query, search, csv_file_path)\n",
        "\n",
        "        if response is None:\n",
        "\n",
        "          response = process_row(driver, query, search, csv_file_path)\n",
        "          print('gg')\n",
        "\n",
        "\n",
        "        # response = requests.get(search)\n",
        "\n",
        "        soup = BeautifulSoup(response, 'html.parser')\n",
        "\n",
        "        # Initialize list to hold results\n",
        "        results = []\n",
        "        new_results = parse_google_results(soup)\n",
        "        print(new_results)\n",
        "        # Loop through search results items\n",
        "        for index, result in enumerate(new_results):\n",
        "            url = result\n",
        "            # Properly parse the URL to handle redirect URLs\n",
        "            if url:\n",
        "                parsed_url = urlparse(url)\n",
        "                if '/url' in parsed_url.path:\n",
        "                    query_params = parse_qs(parsed_url.query)\n",
        "                    url = query_params.get('q', [None])[0]  # Extracts 'q' parameter which contains the actual URL\n",
        "\n",
        "            # snippet = result.select_one('.s3v9rd').get_text() if result.select_one('.s3v9rd') else None  # Selects snippet text\n",
        "            source = urlparse(url).netloc if url else None  # Extracts source domain\n",
        "\n",
        "\n",
        "            title = None\n",
        "            # Append structured result as dictionary\n",
        "            results.append({\n",
        "                \"index\": index,\n",
        "                \"title\": title.get_text() if title else \"title\",\n",
        "                \"url\": url,\n",
        "                \"snippet\": 'snippet',\n",
        "                \"source\": source\n",
        "            })\n",
        "      # Group by source\n",
        "        buckets = {}\n",
        "        for item in results:\n",
        "            source = item['source']\n",
        "            if source not in buckets:\n",
        "                buckets[source] = []\n",
        "            buckets[source].append(item)\n",
        "\n",
        "        # Retrieve \"off-white\" bucket\n",
        "        off_white_bucket = buckets.get('www.off---white.com', [None])\n",
        "        matching_entries = off_white_bucket\n",
        "        if matching_entries:\n",
        "          if matching_entries[0]:\n",
        "            search_ids = [matching_entries[0]['url']]  # Replace with your actual search IDs\n",
        "        else:\n",
        "          print('gotta try again')\n",
        "\n",
        "        for index, id in enumerate(search_ids):\n",
        "            time.sleep(random.randint(5, 30))\n",
        "            # search = f\"https://www.google.com/search?q={search_ids}\"\n",
        "            print(f\"Processing ID: {query} with URL: {search_ids}\")\n",
        "            if 'en-us' in id:\n",
        "              row = process_page(excel_data_list,driver, query, id, csv_file_path)\n",
        "              if row is None:\n",
        "                  count = 0\n",
        "                  while count < 3:\n",
        "                      vpn_connection_cycle()\n",
        "                      try:\n",
        "                          row = process_page(excel_data_list,driver, query, id, csv_file_path)\n",
        "                          if row:\n",
        "                              break\n",
        "                      except Exception as e:\n",
        "                          count += 1\n",
        "                          print(e)\n",
        "                          time.sleep(5)\n",
        "\n",
        "              excel_data_list.append(row)\n",
        "            else:\n",
        "              updated_id = re.sub(r'/[a-z]{2}-[a-z]{2}', '/en-us', id)\n",
        "              row = process_page(excel_data_list,driver, query, updated_id, csv_file_path)\n",
        "              if row is None:\n",
        "                  count = 0\n",
        "                  while count < 3:\n",
        "                      vpn_connection_cycle()\n",
        "                      try:\n",
        "                          row = process_page(excel_data_list,driver, query, updated_id, csv_file_path)\n",
        "                          if row:\n",
        "                              break\n",
        "                      except Exception as e:\n",
        "                          count += 1\n",
        "                          time.sleep(5)\n",
        "                          print(e)\n",
        "              excel_data_list.append(row)\n",
        "        save_to_csv(csv_file_path, excel_data_list)\n",
        "        mark_rows_as_processed(csv_file_path_working, mainIndex)\n",
        "        # Close the driver\n",
        "\n",
        "    driver.quit()\n",
        "main()\n",
        "\n",
        "# query = \"OWAD122C99JER0030110\"\n",
        "# search = f\"https://www.google.com/search?q={query}\"\n",
        "# response = requests.get(search)"
      ],
      "metadata": {
        "id": "1ipjG4cuipA1",
        "colab": {
          "base_uri": "https://localhost:8080/",
          "height": 1000
        },
        "outputId": "3bd11672-07d7-4c5a-c877-99cd70c940ef"
      },
      "execution_count": null,
      "outputs": [
        {
          "output_type": "stream",
          "name": "stdout",
          "text": [
            "Current IP Address: 185.199.103.254\n",
            "Attempt 1 of 5: Connecting to VPN...\n",
            "VPN Response: \n",
            "\n",
            "New IP Address after VPN connection: 185.187.243.139\n",
            "IP address changed successfully.\n",
            "                Style #  Category                               Description\n",
            "0  OMIA189C99LEA0070140  SNEAKERS  OUT OF OFFICE CALF LEATHER WHITE LIGHT B\n",
            "1  OMIA294G23LEA0011801  SNEAKERS       NIKE AF1 MID LTHR YELLOW - WHITE 10\n",
            "2  OMIA297T24LEA0010110  SNEAKERS          OW_NIKE AF1 MID WHITE - BLACK 10\n",
            "3  OMIA189C99LEA0070110  SNEAKERS  OUT OF OFFICE CALF LEATHER WHITE BLACK 3\n",
            "4  OMIA189C99LEA0120110  SNEAKERS  OUT OF OFFICE ''FOR WALKING'' WHITE BLAC\n",
            "CSV already exists: C:\\Users\\ICON\\Downloads\\working.csv\n",
            "CSV already exists: C:\\Users\\ICON\\Downloads\\working.csv\n",
            "[['OMIA189C99LEA0070140', 20191178, 'WHITE/LIGHT BLUE OUT OF OFFICE in blue  | Off-White™ Official US ', 'Shop white/light blue leather panelled design signature Arrows motif signature Zip Tie tag front lace-up fastening logo-debossed tongue perforated toebox round toe branded heel counter flat rubber sole Due to the dyeing process used, this product must not come into contact with water. ', 'OMIA189C99LEA0070140', 'Blue', 'Out of Office', 'Off-White', 650, 'USD', 'http://schema.org/NewCondition', 'http://schema.org/InStock', 'Off-White', 'https://www.off---white.com/en-us/shopping/off-white-white-light-blue-out-of-office-20191178', 'https://cdn-images.farfetch-contents.com/off-white-white-light-blue-out-of-office_20191178_56418949_322.jpg, https://cdn-images.farfetch-contents.com/off-white-white-light-blue-out-of-office_20191178_56418957_322.jpg, https://cdn-images.farfetch-contents.com/off-white-white-light-blue-out-of-office_20191178_56418946_322.jpg, https://cdn-images.farfetch-contents.com/off-white-white-light-blue-out-of-office_20191178_56418975_322.jpg, https://cdn-images.farfetch-contents.com/off-white-white-light-blue-out-of-office_20191178_56418972_322.jpg, https://cdn-images.farfetch-contents.com/off-white-white-light-blue-out-of-office_20191178_56418977_322.jpg, https://cdn-images.farfetch-contents.com/off-white-white-light-blue-out-of-office_20191178_56418973_322.jpg, https://cdn-images.farfetch-contents.com/off-white-white-light-blue-out-of-office_20191178_56418976_322.jpg, https://cdn-images.farfetch-contents.com/off-white-white-light-blue-out-of-office_20191178_56419012_322.jpg'], ['OMIA294G23LEA0011801', 21979835, 'Nike AF1 Mid White and Varsity Maize c/o Off-White™️ in yellow  | Off-White™ Official US ', 'Shop Air Force 1 Varsity Maize sneakers from Nike X Off-White featuring white, yellow, leather, signature Swoosh logo detail, soft-spike sole, signature Zip Tie tag, logo print to the side, logo-embroidered tongue, branded heel counter, perforated toebox, ankle-length, ankle touch-strap fastening, front toggle fastening, front lace-up fastening, round toe and rubber sole with Max Air cushioning.\\n ', 'OMIA294G23LEA0011801', 'Yellow', 'Other Sneakers', 'Nike X Off-White', 205, 'USD', 'http://schema.org/NewCondition', 'http://schema.org/InStock', 'Off-White', 'https://www.off---white.com/en-us/shopping/nike-x-off-white-nike-af1-mid-white-and-varsity-maize-c-o-off-white-21979835', 'https://cdn-images.farfetch-contents.com/nike-x-off-white-nike-af1-mid-white-and-varsity-maize-c-o-off-white_21979835_51881590_322.jpg, https://cdn-images.farfetch-contents.com/nike-x-off-white-nike-af1-mid-white-and-varsity-maize-c-o-off-white_21979835_51881592_322.jpg, https://cdn-images.farfetch-contents.com/nike-x-off-white-nike-af1-mid-white-and-varsity-maize-c-o-off-white_21979835_51881593_322.jpg, https://cdn-images.farfetch-contents.com/nike-x-off-white-nike-af1-mid-white-and-varsity-maize-c-o-off-white_21979835_51881594_322.jpg, https://cdn-images.farfetch-contents.com/nike-x-off-white-nike-af1-mid-white-and-varsity-maize-c-o-off-white_21979835_51881595_322.jpg, https://cdn-images.farfetch-contents.com/nike-x-off-white-nike-af1-mid-white-and-varsity-maize-c-o-off-white_21979835_51881611_322.jpg, https://cdn-images.farfetch-contents.com/nike-x-off-white-nike-af1-mid-white-and-varsity-maize-c-o-off-white_21979835_51881608_322.jpg, https://cdn-images.farfetch-contents.com/nike-x-off-white-nike-af1-mid-white-and-varsity-maize-c-o-off-white_21979835_51881612_322.jpg, https://cdn-images.farfetch-contents.com/nike-x-off-white-nike-af1-mid-white-and-varsity-maize-c-o-off-white_21979835_51881609_322.jpg, https://cdn-images.farfetch-contents.com/nike-x-off-white-nike-af1-mid-white-and-varsity-maize-c-o-off-white_21979835_51881610_322.jpg'], ['OMIA297T24LEA0010110', 22261659, 'Nike AF1 Mid Grim Reaper c/o Off-White™️ in black  | Off-White™ Official US ', 'Shop white/black/green leather skull print signature Swoosh logo detail signature Zip Tie tag round toe front touch-strap over lace-up fastening drawstring fastening branded insole branded heel counter pull-tab at the heel signature Air Max sole\\n ', 'OMIA297T24LEA0010110', 'Black', 'Other Sneakers', 'Nike X Off-White', 205, 'USD', 'http://schema.org/NewCondition', 'http://schema.org/InStock', 'Off-White', 'https://www.off---white.com/en-us/shopping/nike-x-off-white-nike-af1-mid-grim-reaper-c-o-off-white-22261659', 'https://cdn-images.farfetch-contents.com/nike-x-off-white-nike-af1-mid-grim-reaper-c-o-off-white_22261659_52217458_322.jpg, https://cdn-images.farfetch-contents.com/nike-x-off-white-nike-af1-mid-grim-reaper-c-o-off-white_22261659_52217466_322.jpg, https://cdn-images.farfetch-contents.com/nike-x-off-white-nike-af1-mid-grim-reaper-c-o-off-white_22261659_52217463_322.jpg, https://cdn-images.farfetch-contents.com/nike-x-off-white-nike-af1-mid-grim-reaper-c-o-off-white_22261659_52217457_322.jpg, https://cdn-images.farfetch-contents.com/nike-x-off-white-nike-af1-mid-grim-reaper-c-o-off-white_22261659_52217465_322.jpg, https://cdn-images.farfetch-contents.com/nike-x-off-white-nike-af1-mid-grim-reaper-c-o-off-white_22261659_52217486_322.jpg, https://cdn-images.farfetch-contents.com/nike-x-off-white-nike-af1-mid-grim-reaper-c-o-off-white_22261659_52217481_322.jpg, https://cdn-images.farfetch-contents.com/nike-x-off-white-nike-af1-mid-grim-reaper-c-o-off-white_22261659_52217485_322.jpg, https://cdn-images.farfetch-contents.com/nike-x-off-white-nike-af1-mid-grim-reaper-c-o-off-white_22261659_52217483_322.jpg, https://cdn-images.farfetch-contents.com/nike-x-off-white-nike-af1-mid-grim-reaper-c-o-off-white_22261659_52217487_322.jpg'], ['OMIA189C99LEA0070110', 20141127, 'BLACK/WHITE OUT OF OFFICE in white  | Off-White™ Official US ', 'Shop black/white leather signature Arrows motif signature Zip Tie tag panelled design front lace-up fastening round toe flat rubber sole Due to the dyeing process used, this product must not come into contact with water. ', 'OMIA189C99LEA0070110', 'White', 'Out of Office', 'Off-White', 650, 'USD', 'http://schema.org/NewCondition', 'http://schema.org/InStock', 'Off-White', 'https://www.off---white.com/en-us/shopping/off-white-black-white-out-of-office-20141127', 'https://cdn-images.farfetch-contents.com/off-white-black-white-out-of-office_20141127_56418777_322.jpg, https://cdn-images.farfetch-contents.com/off-white-black-white-out-of-office_20141127_56418786_322.jpg, https://cdn-images.farfetch-contents.com/off-white-black-white-out-of-office_20141127_56418787_322.jpg, https://cdn-images.farfetch-contents.com/off-white-black-white-out-of-office_20141127_56418776_322.jpg, https://cdn-images.farfetch-contents.com/off-white-black-white-out-of-office_20141127_56418788_322.jpg, https://cdn-images.farfetch-contents.com/off-white-black-white-out-of-office_20141127_56418799_322.jpg, https://cdn-images.farfetch-contents.com/off-white-black-white-out-of-office_20141127_56418790_322.jpg, https://cdn-images.farfetch-contents.com/off-white-black-white-out-of-office_20141127_56418798_322.jpg, https://cdn-images.farfetch-contents.com/off-white-black-white-out-of-office_20141127_56418791_322.jpg'], ['OMIA189C99LEA0120110', 23346671, \"WHITE/BLACK OUT OF OFFICE ''FOR WALKING'' in white  | Off-White™ Official US \", 'Shop white calf leather panelled design signature Arrows motif text-printed laces logo tag logo patch at the tongue slogan print to the side branded heel counter round toe perforated toebox front lace-up fastening padded ankle contrast lining mesh lining branded insole flat rubber sole ', 'OMIA189C99LEA0120110', 'White', 'Out of Office', 'Off-White', 650, 'USD', 'http://schema.org/NewCondition', 'http://schema.org/InStock', 'Off-White', 'https://www.off---white.com/en-us/shopping/off-white-white-black-out-of-office-for-walking-23346671', 'https://cdn-images.farfetch-contents.com/off-white-white-black-out-of-office-for-walking_23346671_54077623_322.jpg, https://cdn-images.farfetch-contents.com/off-white-white-black-out-of-office-for-walking_23346671_54077622_322.jpg, https://cdn-images.farfetch-contents.com/off-white-white-black-out-of-office-for-walking_23346671_54077621_322.jpg, https://cdn-images.farfetch-contents.com/off-white-white-black-out-of-office-for-walking_23346671_54077625_322.jpg, https://cdn-images.farfetch-contents.com/off-white-white-black-out-of-office-for-walking_23346671_54077628_322.jpg, https://cdn-images.farfetch-contents.com/off-white-white-black-out-of-office-for-walking_23346671_54077626_322.jpg, https://cdn-images.farfetch-contents.com/off-white-white-black-out-of-office-for-walking_23346671_54077624_322.jpg, https://cdn-images.farfetch-contents.com/off-white-white-black-out-of-office-for-walking_23346671_54077627_322.jpg, https://cdn-images.farfetch-contents.com/off-white-white-black-out-of-office-for-walking_23346671_54077633_322.jpg'], ['OERI126C99PLA0011007', 23876092, 'Virgil Sunglasses in black  | Off-White™ Official US ', 'Shop black acetate square frame grey tinted lenses UV-protective lenses appliqué logo sculpted arms curved tips These glasses come with a protective case. ', 'OERI126C99PLA0011007', 'Black', 'Icon Sunglasses', 'Off-White Eyewear', 325, 'USD', 'http://schema.org/NewCondition', 'http://schema.org/InStock', 'Off-White', 'https://www.off---white.com/en-us/shopping/off-white-eyewear-virgil-sunglasses-23876092', 'https://cdn-images.farfetch-contents.com/off-white-eyewear-virgil-sunglasses_23876092_55009513_322.jpg, https://cdn-images.farfetch-contents.com/off-white-eyewear-virgil-sunglasses_23876092_55009518_322.jpg, https://cdn-images.farfetch-contents.com/off-white-eyewear-virgil-sunglasses_23876092_55009514_322.jpg, https://cdn-images.farfetch-contents.com/off-white-eyewear-virgil-sunglasses_23876092_55009516_322.jpg, https://cdn-images.farfetch-contents.com/off-white-eyewear-virgil-sunglasses_23876092_55009515_322.jpg, https://cdn-images.farfetch-contents.com/off-white-eyewear-virgil-sunglasses_23876092_55009517_322.jpg, https://cdn-images.farfetch-contents.com/off-white-eyewear-virgil-sunglasses_23876092_55009521_322.jpg, https://cdn-images.farfetch-contents.com/off-white-eyewear-virgil-sunglasses_23876092_55009519_322.jpg'], ['OWIA112C99LEA0040120', 23348164, 'TOTAL WHITE 3.0 OFF COURT in white  | Off-White™ Official US ', 'Shop white/neon orange calf leather panelled design ankle-length detachable logo-debossed tag logo patch to the side logo patch at the tongue perforated toebox front lace-up fastening round toe branded insole ridged rubber sole ', 'OWIA112C99LEA0040120', 'White', '3.0 Off Court', 'Off-White', 790, 'USD', 'http://schema.org/NewCondition', 'http://schema.org/InStock', 'Off-White', 'https://www.off---white.com/en-us/shopping/off-white-total-white-3-0-off-court-23348164', 'https://cdn-images.farfetch-contents.com/off-white-total-white-3-0-off-court_23348164_54078405_322.jpg, https://cdn-images.farfetch-contents.com/off-white-total-white-3-0-off-court_23348164_54078402_322.jpg, https://cdn-images.farfetch-contents.com/off-white-total-white-3-0-off-court_23348164_54078394_322.jpg, https://cdn-images.farfetch-contents.com/off-white-total-white-3-0-off-court_23348164_54078397_322.jpg, https://cdn-images.farfetch-contents.com/off-white-total-white-3-0-off-court_23348164_54078395_322.jpg, https://cdn-images.farfetch-contents.com/off-white-total-white-3-0-off-court_23348164_54078408_322.jpg, https://cdn-images.farfetch-contents.com/off-white-total-white-3-0-off-court_23348164_54078406_322.jpg, https://cdn-images.farfetch-contents.com/off-white-total-white-3-0-off-court_23348164_54078409_322.jpg, https://cdn-images.farfetch-contents.com/off-white-total-white-3-0-off-court_23348164_54078407_322.jpg'], ['OWIA112C99LEA0040120', 23348164, 'TOTAL WHITE 3.0 OFF COURT in white  | Off-White™ Official US ', 'Shop white/neon orange calf leather panelled design ankle-length detachable logo-debossed tag logo patch to the side logo patch at the tongue perforated toebox front lace-up fastening round toe branded insole ridged rubber sole ', 'OWIA112C99LEA0040120', 'White', '3.0 Off Court', 'Off-White', 790, 'USD', 'http://schema.org/NewCondition', 'http://schema.org/InStock', 'Off-White', 'https://www.off---white.com/en-us/shopping/off-white-total-white-3-0-off-court-23348164', 'https://cdn-images.farfetch-contents.com/off-white-total-white-3-0-off-court_23348164_54078405_322.jpg, https://cdn-images.farfetch-contents.com/off-white-total-white-3-0-off-court_23348164_54078402_322.jpg, https://cdn-images.farfetch-contents.com/off-white-total-white-3-0-off-court_23348164_54078394_322.jpg, https://cdn-images.farfetch-contents.com/off-white-total-white-3-0-off-court_23348164_54078397_322.jpg, https://cdn-images.farfetch-contents.com/off-white-total-white-3-0-off-court_23348164_54078395_322.jpg, https://cdn-images.farfetch-contents.com/off-white-total-white-3-0-off-court_23348164_54078408_322.jpg, https://cdn-images.farfetch-contents.com/off-white-total-white-3-0-off-court_23348164_54078406_322.jpg, https://cdn-images.farfetch-contents.com/off-white-total-white-3-0-off-court_23348164_54078409_322.jpg, https://cdn-images.farfetch-contents.com/off-white-total-white-3-0-off-court_23348164_54078407_322.jpg'], ['OERI008C99PLA0011007', 17593805, 'VIRGIL SUNGLASSES in black  | Off-White™ Official US ', 'Shop black signature Arrows motif logo plaque at the arm square frame tinted lenses These glasses come with a protective case. ', 'OERI008C99PLA0011007', 'Black', 'Sunglasses', 'Off-White Eyewear', 325, 'USD', 'http://schema.org/NewCondition', 'http://schema.org/InStock', 'Off-White', 'https://www.off---white.com/en-us/shopping/off-white-eyewear-virgil-sunglasses-17593805', 'https://cdn-images.farfetch-contents.com/off-white-eyewear-virgil-sunglasses_17593805_45441604_322.jpg, https://cdn-images.farfetch-contents.com/off-white-eyewear-virgil-sunglasses_17593805_45442460_322.jpg, https://cdn-images.farfetch-contents.com/off-white-eyewear-virgil-sunglasses_17593805_45442457_322.jpg, https://cdn-images.farfetch-contents.com/off-white-eyewear-virgil-sunglasses_17593805_45442459_322.jpg, https://cdn-images.farfetch-contents.com/off-white-eyewear-virgil-sunglasses_17593805_45442458_322.jpg, https://cdn-images.farfetch-contents.com/off-white-eyewear-virgil-sunglasses_17593805_45442461_322.jpg'], ['OERI008C99PLA0011007', 17593805, 'VIRGIL SUNGLASSES in black  | Off-White™ Official US ', 'Shop black signature Arrows motif logo plaque at the arm square frame tinted lenses These glasses come with a protective case. ', 'OERI008C99PLA0011007', 'Black', 'Sunglasses', 'Off-White Eyewear', 325, 'USD', 'http://schema.org/NewCondition', 'http://schema.org/InStock', 'Off-White', 'https://www.off---white.com/en-us/shopping/off-white-eyewear-virgil-sunglasses-17593805', 'https://cdn-images.farfetch-contents.com/off-white-eyewear-virgil-sunglasses_17593805_45441604_322.jpg, https://cdn-images.farfetch-contents.com/off-white-eyewear-virgil-sunglasses_17593805_45442460_322.jpg, https://cdn-images.farfetch-contents.com/off-white-eyewear-virgil-sunglasses_17593805_45442457_322.jpg, https://cdn-images.farfetch-contents.com/off-white-eyewear-virgil-sunglasses_17593805_45442459_322.jpg, https://cdn-images.farfetch-contents.com/off-white-eyewear-virgil-sunglasses_17593805_45442458_322.jpg, https://cdn-images.farfetch-contents.com/off-white-eyewear-virgil-sunglasses_17593805_45442461_322.jpg'], ['OERI008C99PLA0011007', 17593805, 'VIRGIL SUNGLASSES in black  | Off-White™ Official US ', 'Shop black signature Arrows motif logo plaque at the arm square frame tinted lenses These glasses come with a protective case. ', 'OERI008C99PLA0011007', 'Black', 'Sunglasses', 'Off-White Eyewear', 325, 'USD', 'http://schema.org/NewCondition', 'http://schema.org/InStock', 'Off-White', 'https://www.off---white.com/en-us/shopping/off-white-eyewear-virgil-sunglasses-17593805', 'https://cdn-images.farfetch-contents.com/off-white-eyewear-virgil-sunglasses_17593805_45441604_322.jpg, https://cdn-images.farfetch-contents.com/off-white-eyewear-virgil-sunglasses_17593805_45442460_322.jpg, https://cdn-images.farfetch-contents.com/off-white-eyewear-virgil-sunglasses_17593805_45442457_322.jpg, https://cdn-images.farfetch-contents.com/off-white-eyewear-virgil-sunglasses_17593805_45442459_322.jpg, https://cdn-images.farfetch-contents.com/off-white-eyewear-virgil-sunglasses_17593805_45442458_322.jpg, https://cdn-images.farfetch-contents.com/off-white-eyewear-virgil-sunglasses_17593805_45442461_322.jpg'], ['OERI008C99PLA0011007', 17593805, 'VIRGIL SUNGLASSES in black  | Off-White™ Official US ', 'Shop black signature Arrows motif logo plaque at the arm square frame tinted lenses These glasses come with a protective case. ', 'OERI008C99PLA0011007', 'Black', 'Sunglasses', 'Off-White Eyewear', 325, 'USD', 'http://schema.org/NewCondition', 'http://schema.org/InStock', 'Off-White', 'https://www.off---white.com/en-us/shopping/off-white-eyewear-virgil-sunglasses-17593805', 'https://cdn-images.farfetch-contents.com/off-white-eyewear-virgil-sunglasses_17593805_45441604_322.jpg, https://cdn-images.farfetch-contents.com/off-white-eyewear-virgil-sunglasses_17593805_45442460_322.jpg, https://cdn-images.farfetch-contents.com/off-white-eyewear-virgil-sunglasses_17593805_45442457_322.jpg, https://cdn-images.farfetch-contents.com/off-white-eyewear-virgil-sunglasses_17593805_45442459_322.jpg, https://cdn-images.farfetch-contents.com/off-white-eyewear-virgil-sunglasses_17593805_45442458_322.jpg, https://cdn-images.farfetch-contents.com/off-white-eyewear-virgil-sunglasses_17593805_45442461_322.jpg'], ['OERI008C99PLA0011007', 17593805, 'VIRGIL SUNGLASSES in black  | Off-White™ Official US ', 'Shop black signature Arrows motif logo plaque at the arm square frame tinted lenses These glasses come with a protective case. ', 'OERI008C99PLA0011007', 'Black', 'Sunglasses', 'Off-White Eyewear', 325, 'USD', 'http://schema.org/NewCondition', 'http://schema.org/InStock', 'Off-White', 'https://www.off---white.com/en-us/shopping/off-white-eyewear-virgil-sunglasses-17593805', 'https://cdn-images.farfetch-contents.com/off-white-eyewear-virgil-sunglasses_17593805_45441604_322.jpg, https://cdn-images.farfetch-contents.com/off-white-eyewear-virgil-sunglasses_17593805_45442460_322.jpg, https://cdn-images.farfetch-contents.com/off-white-eyewear-virgil-sunglasses_17593805_45442457_322.jpg, https://cdn-images.farfetch-contents.com/off-white-eyewear-virgil-sunglasses_17593805_45442459_322.jpg, https://cdn-images.farfetch-contents.com/off-white-eyewear-virgil-sunglasses_17593805_45442458_322.jpg, https://cdn-images.farfetch-contents.com/off-white-eyewear-virgil-sunglasses_17593805_45442461_322.jpg'], ['OERI008C99PLA0026455', 18486469, 'VIRGIL SUNGLASSES in brown  | Off-White™ Official US ', 'Shop brown square frame tortoiseshell effect green tinted lenses UV-protective lenses signature Arrows motif straight arms curved tips These glasses come with a protective case. ', 'OERI008C99PLA0026455', 'Brown', 'Sunglasses', 'Off-White Eyewear', 325, 'USD', 'http://schema.org/NewCondition', 'http://schema.org/InStock', 'Off-White', 'https://www.off---white.com/en-us/shopping/off-white-eyewear-virgil-sunglasses-18486469', 'https://cdn-images.farfetch-contents.com/off-white-eyewear-virgil-sunglasses_18486469_43368322_322.jpg, https://cdn-images.farfetch-contents.com/off-white-eyewear-virgil-sunglasses_18486469_43367546_322.jpg, https://cdn-images.farfetch-contents.com/off-white-eyewear-virgil-sunglasses_18486469_43368329_322.jpg, https://cdn-images.farfetch-contents.com/off-white-eyewear-virgil-sunglasses_18486469_43368326_322.jpg, https://cdn-images.farfetch-contents.com/off-white-eyewear-virgil-sunglasses_18486469_43368331_322.jpg, https://cdn-images.farfetch-contents.com/off-white-eyewear-virgil-sunglasses_18486469_43368325_322.jpg, https://cdn-images.farfetch-contents.com/off-white-eyewear-virgil-sunglasses_18486469_43368330_322.jpg, https://cdn-images.farfetch-contents.com/off-white-eyewear-virgil-sunglasses_18486469_43368332_322.jpg'], ['OWIA259C99LEA0060161', 20141147, 'Bracciale a catena con logo - Sito Ufficiale Off-White™', 'Acquista Bracciale a catena con logo sul sito ufficiale Off---White.com con spedizioni internazionali.', 'OWIA259C99LEA0060161', 'argento', 'Bracciali', 'Off-White', 650, 'CHF', 'http://schema.org/NewCondition', 'http://schema.org/InStock', 'Off-White', 'https://www.off---white.com/it-ch/shopping/off-white-bracciale-a-catena-con-logo-20191173', 'https://cdn-images.farfetch-contents.com/off-white-white-beige-out-of-office_20141147_54077307_322.jpg, https://cdn-images.farfetch-contents.com/off-white-white-beige-out-of-office_20141147_54077306_322.jpg, https://cdn-images.farfetch-contents.com/off-white-white-beige-out-of-office_20141147_54077308_322.jpg, https://cdn-images.farfetch-contents.com/off-white-white-beige-out-of-office_20141147_54077310_322.jpg, https://cdn-images.farfetch-contents.com/off-white-white-beige-out-of-office_20141147_54077309_322.jpg, https://cdn-images.farfetch-contents.com/off-white-white-beige-out-of-office_20141147_54077312_322.jpg, https://cdn-images.farfetch-contents.com/off-white-white-beige-out-of-office_20141147_54077311_322.jpg, https://cdn-images.farfetch-contents.com/off-white-white-beige-out-of-office_20141147_54077314_322.jpg, https://cdn-images.farfetch-contents.com/off-white-white-beige-out-of-office_20141147_54077313_322.jpg'], ['OWIA259C99LEA0060161', 20141147, 'WHITE/BEIGE OUT OF OFFICE in white  | Off-White™ Official US ', 'Shop white/beige leather signature Arrows motif luggage tag logo-print laces perforated toebox round toe front lace-up fastening logo patch at the tongue branded insole ridged rubber sole Due to the dyeing process used, this product must not come into contact with water. ', 'OWIA259C99LEA0060161', 'White', 'Out of Office', 'Off-White', 650, 'USD', 'http://schema.org/NewCondition', 'http://schema.org/InStock', 'Off-White', 'https://www.off---white.com/en-us/shopping/off-white-white-beige-out-of-office-20141147', 'https://cdn-images.farfetch-contents.com/off-white-white-beige-out-of-office_20141147_54077307_322.jpg, https://cdn-images.farfetch-contents.com/off-white-white-beige-out-of-office_20141147_54077306_322.jpg, https://cdn-images.farfetch-contents.com/off-white-white-beige-out-of-office_20141147_54077308_322.jpg, https://cdn-images.farfetch-contents.com/off-white-white-beige-out-of-office_20141147_54077310_322.jpg, https://cdn-images.farfetch-contents.com/off-white-white-beige-out-of-office_20141147_54077309_322.jpg, https://cdn-images.farfetch-contents.com/off-white-white-beige-out-of-office_20141147_54077312_322.jpg, https://cdn-images.farfetch-contents.com/off-white-white-beige-out-of-office_20141147_54077311_322.jpg, https://cdn-images.farfetch-contents.com/off-white-white-beige-out-of-office_20141147_54077314_322.jpg, https://cdn-images.farfetch-contents.com/off-white-white-beige-out-of-office_20141147_54077313_322.jpg'], ['OMIA189C99LEA0061001', 20141128, 'BLACK/WHITE OUT OF OFFICE in black  | Off-White™ Official US ', 'Shop black/white leather panelled design signature Arrows motif signature Zip Tie tag front lace-up fastening round toe flat rubber sole Due to the dyeing process used, this product must not come into contact with water. ', 'OMIA189C99LEA0061001', 'Black', 'Out of Office', 'Off-White', 650, 'USD', 'http://schema.org/NewCondition', 'http://schema.org/InStock', 'Off-White', 'https://www.off---white.com/en-us/shopping/off-white-black-white-out-of-office-20141128', 'https://cdn-images.farfetch-contents.com/off-white-black-white-out-of-office_20141128_54077292_322.jpg, https://cdn-images.farfetch-contents.com/off-white-black-white-out-of-office_20141128_54077295_322.jpg, https://cdn-images.farfetch-contents.com/off-white-black-white-out-of-office_20141128_54077300_322.jpg, https://cdn-images.farfetch-contents.com/off-white-black-white-out-of-office_20141128_54077302_322.jpg, https://cdn-images.farfetch-contents.com/off-white-black-white-out-of-office_20141128_54077299_322.jpg, https://cdn-images.farfetch-contents.com/off-white-black-white-out-of-office_20141128_54077301_322.jpg, https://cdn-images.farfetch-contents.com/off-white-black-white-out-of-office_20141128_54077304_322.jpg, https://cdn-images.farfetch-contents.com/off-white-black-white-out-of-office_20141128_54077305_322.jpg, https://cdn-images.farfetch-contents.com/off-white-black-white-out-of-office_20141128_54077303_322.jpg'], ['OMIA189F24LEA0054010', 23540615, 'OUT OF OFFICE CALF LEATHER in blue  | Off-White™ Official US ', 'Shop light blue/black/white calf leather smooth grain signature Arrows motif signature Zip Tie tag logo patch at the tongue contrasting laces contrasting branded heel counter round toe perforated toebox front lace-up fastening padded ankle branded insole rubber tread sole ', 'OMIA189F24LEA0054010', 'Blue', 'Out of Office', 'Off-White', 650, 'USD', 'http://schema.org/NewCondition', 'http://schema.org/InStock', 'Off-White', 'https://www.off---white.com/en-us/shopping/off-white-out-of-office-calf-leather-23540615', 'https://cdn-images.farfetch-contents.com/off-white-out-of-office-calf-leather_23540615_54491507_322.jpg, https://cdn-images.farfetch-contents.com/off-white-out-of-office-calf-leather_23540615_54491583_322.jpg, https://cdn-images.farfetch-contents.com/off-white-out-of-office-calf-leather_23540615_54491579_322.jpg, https://cdn-images.farfetch-contents.com/off-white-out-of-office-calf-leather_23540615_54491584_322.jpg, https://cdn-images.farfetch-contents.com/off-white-out-of-office-calf-leather_23540615_54491582_322.jpg, https://cdn-images.farfetch-contents.com/off-white-out-of-office-calf-leather_23540615_54491585_322.jpg, https://cdn-images.farfetch-contents.com/off-white-out-of-office-calf-leather_23540615_54491648_322.jpg, https://cdn-images.farfetch-contents.com/off-white-out-of-office-calf-leather_23540615_54491639_322.jpg, https://cdn-images.farfetch-contents.com/off-white-out-of-office-calf-leather_23540615_54491638_322.jpg'], ['OMIA189C99LEA0061001', 20141128, 'BLACK/WHITE OUT OF OFFICE in black  | Off-White™ Official US ', 'Shop black/white leather panelled design signature Arrows motif signature Zip Tie tag front lace-up fastening round toe flat rubber sole Due to the dyeing process used, this product must not come into contact with water. ', 'OMIA189C99LEA0061001', 'Black', 'Out of Office', 'Off-White', 650, 'USD', 'http://schema.org/NewCondition', 'http://schema.org/InStock', 'Off-White', 'https://www.off---white.com/en-us/shopping/off-white-black-white-out-of-office-20141128', 'https://cdn-images.farfetch-contents.com/off-white-black-white-out-of-office_20141128_54077292_322.jpg, https://cdn-images.farfetch-contents.com/off-white-black-white-out-of-office_20141128_54077295_322.jpg, https://cdn-images.farfetch-contents.com/off-white-black-white-out-of-office_20141128_54077300_322.jpg, https://cdn-images.farfetch-contents.com/off-white-black-white-out-of-office_20141128_54077302_322.jpg, https://cdn-images.farfetch-contents.com/off-white-black-white-out-of-office_20141128_54077299_322.jpg, https://cdn-images.farfetch-contents.com/off-white-black-white-out-of-office_20141128_54077301_322.jpg, https://cdn-images.farfetch-contents.com/off-white-black-white-out-of-office_20141128_54077304_322.jpg, https://cdn-images.farfetch-contents.com/off-white-black-white-out-of-office_20141128_54077305_322.jpg, https://cdn-images.farfetch-contents.com/off-white-black-white-out-of-office_20141128_54077303_322.jpg'], ['OMIA189C99LEA0061001', 20141128, 'WHITE/LIGHT PINK OUT OF OFFICE in pink  | Off-White™ Official US ', 'Shop pink/white leather panelled design signature Zip Tie tag branded heel counter logo patch at the tongue front lace-up fastening perforated toebox round toe flat rubber sole Due to the dyeing process used, this product must not come into contact with water. ', 'OMIA189C99LEA0061001', 'Pink', 'Sneakers', 'Off-White Kids', 490, 'USD', 'http://schema.org/NewCondition', 'http://schema.org/InStock', 'Off-White', 'https://www.off---white.com/en-us/shopping/off-white-kids-white-light-pink-out-of-office-23642614', 'https://cdn-images.farfetch-contents.com/off-white-black-white-out-of-office_20141128_54077292_322.jpg, https://cdn-images.farfetch-contents.com/off-white-black-white-out-of-office_20141128_54077295_322.jpg, https://cdn-images.farfetch-contents.com/off-white-black-white-out-of-office_20141128_54077300_322.jpg, https://cdn-images.farfetch-contents.com/off-white-black-white-out-of-office_20141128_54077302_322.jpg, https://cdn-images.farfetch-contents.com/off-white-black-white-out-of-office_20141128_54077299_322.jpg, https://cdn-images.farfetch-contents.com/off-white-black-white-out-of-office_20141128_54077301_322.jpg, https://cdn-images.farfetch-contents.com/off-white-black-white-out-of-office_20141128_54077304_322.jpg, https://cdn-images.farfetch-contents.com/off-white-black-white-out-of-office_20141128_54077305_322.jpg, https://cdn-images.farfetch-contents.com/off-white-black-white-out-of-office_20141128_54077303_322.jpg']]\n",
            "20\n",
            "Mozilla/5.0 (Macintosh; Intel Mac OS X 10_15_7) AppleWebKit/537.36 (KHTML, like Gecko) Chrome/102.0.0.0 Safari/537.3\n",
            "Search Url- \n",
            "https://www.google.com/search?q=OMIA289C99LEA0010101\n",
            "['https://www.farfetch.com/shopping/men/off-white-kick-off-panelled-sneakers-item-21573475.aspx', 'https://www.thebs.com/us/kick-off-leather-sneakers-off-white-447628', 'https://fashionporto.com/shop/mens/shoes-mens/sneakers-trainers/patike-omia289c99lea0010101/', 'https://www.thebs.com/us/sneakers-off-white-471385', 'https://www.farfetch.com/au/shopping/men/off-white-kick-off-panelled-sneakers-item-21573475.aspx', 'https://www.shopstyle.com/g/men/off-white/white-mesh-kick-off-sneakers/1056167029', 'https://www.shopstyle.com/g/men/off-white/kick-off-leather-sneakers/1016296181', 'https://www.italist.com/us/men/shoes/sneakers/kick-off-lace-up-sneakers/14046316/14214007/off-white/?srsltid=AfmBOooXzo7t4z-AjAcwNQd_knp8xM8h2rk3-ztoEjJ-WpfPILULYCZZ', 'https://www.reversible.com/user/italist/listings/off-white-kick-off-lace-up-sneakers-483188328?srsltid=AfmBOop4bETLA_P0NXvFRXYWwaalHG-fIc4jPMNC3TmFAOqHQnfn1os1']\n",
            "Search Url- \n",
            "https://www.google.com/search?q=OMIA189F24LEA0054010\n",
            "['https://www.off---white.com/en-us/shopping/off-white-out-of-office-calf-leather-23540615?srsltid=AfmBOoqxDmTUtHoTkuG5L5N33pTNhKyaEQ7aRmOCvQfQ53zX_7RuR4_K', 'https://www.farfetch.com/shopping/men/off-white-out-of-office-sneakers-item-23540615.aspx', 'https://www.endclothing.com/row/off-white-out-of-office-leather-sneaker-omia189f24lea0054010.html?srsltid=AfmBOoocEyYI2LT5wqCDJX_0V-BSw4TIp_vNYuLk9uWxQXgSUbrLoi86', 'https://www.reversible.com/user/sugar/listings/off-white-out-of-office-sneakers-681945951?srsltid=AfmBOork4rxtpBwrYNfEx2qyXa3WEpYQXX1wDUm77X-lfPG90GX02tN4', 'https://in.pinterest.com/pin/799881583887373908/', 'https://modesens.com/product/off-white-co-virgil-abloh-out-of-office-leather-sneaker-light-blue---100933473/?srsltid=AfmBOor3qOnC4JxXk00R6hrl4-EGKxRsd338gO0zk1Ou3YnOtA9-fhI2', 'https://www.luxafrique.boutique/en-ge/products/out-of-office-calf-leather-2?srsltid=AfmBOoqvASsSWZ8HEAPsbVDSj-J2fYY_cIG-EdgwqPeqpA5DfmmvLn6Y', 'https://www.buyma.com/item/111984993/?srsltid=AfmBOorfALsyoEJnu1A4dg0iHJC1j6r6RiZdNy01a2Xr741k3cg7BTkh', 'https://prod.danawa.com/info/?pcode=67874858']\n",
            "Processing ID: OMIA189F24LEA0054010 with URL: ['https://www.off---white.com/en-us/shopping/off-white-out-of-office-calf-leather-23540615?srsltid=AfmBOoqxDmTUtHoTkuG5L5N33pTNhKyaEQ7aRmOCvQfQ53zX_7RuR4_K']\n",
            "Search Url-  https://www.off---white.com/en-us/shopping/off-white-out-of-office-calf-leather-23540615?srsltid=AfmBOoqxDmTUtHoTkuG5L5N33pTNhKyaEQ7aRmOCvQfQ53zX_7RuR4_K\n",
            "[<script data-react-helmet=\"true\" type=\"application/ld+json\">{\"@context\":\"http://schema.org/\",\"@type\":\"Product\",\"name\":\"BLACK BOOKISH SLIDERS in black  | Off-White™ Official FR \",\"description\":\"Shop black logo-print strap slip-on style round open toe flat sole \",\"image\":[\"https://cdn-images.farfetch-contents.com/off-white-out-of-office-calf-leather_23540615_54491507_322.jpg\",\"https://cdn-images.farfetch-contents.com/off-white-out-of-office-calf-leather_23540615_54491583_322.jpg\",\"https://cdn-images.farfetch-contents.com/off-white-out-of-office-calf-leather_23540615_54491579_322.jpg\",\"https://cdn-images.farfetch-contents.com/off-white-out-of-office-calf-leather_23540615_54491584_322.jpg\",\"https://cdn-images.farfetch-contents.com/off-white-out-of-office-calf-leather_23540615_54491582_322.jpg\",\"https://cdn-images.farfetch-contents.com/off-white-out-of-office-calf-leather_23540615_54491585_322.jpg\",\"https://cdn-images.farfetch-contents.com/off-white-out-of-office-calf-leather_23540615_54491648_322.jpg\",\"https://cdn-images.farfetch-contents.com/off-white-out-of-office-calf-leather_23540615_54491639_322.jpg\",\"https://cdn-images.farfetch-contents.com/off-white-out-of-office-calf-leather_23540615_54491638_322.jpg\"],\"sku\":\"OMIA189F24LEA0054010\",\"productID\":\"23540615\",\"color\":\"Black\",\"category\":\"Slides\",\"brand\":{\"@type\":\"Brand\",\"name\":\"Off-White\"},\"offers\":{\"@context\":\"http://schema.org/\",\"@type\":\"Offer\",\"url\":\"https://www.off---white.com/en-fr/shopping/off-white-black-bookish-sliders-23348155\",\"price\":\"225\",\"priceCurrency\":\"EUR\",\"itemCondition\":\"http://schema.org/NewCondition\",\"availability\":\"http://schema.org/InStock\",\"seller\":{\"@type\":\"Organization\",\"name\":\"Off-White\"}}}</script>, <script data-react-helmet=\"true\" type=\"application/ld+json\">{\"@context\":\"http://schema.org/\",\"@type\":\"BreadcrumbList\",\"itemListElement\":[{\"@type\":\"ListItem\",\"position\":1,\"item\":{\"@id\":\"/shopping/\",\"name\":\"Man\"}},{\"@type\":\"ListItem\",\"position\":2,\"item\":{\"@id\":\"/shopping/man\",\"name\":\"Man\"}},{\"@type\":\"ListItem\",\"position\":3,\"item\":{\"@id\":\"/shopping/man-shoes\",\"name\":\"Shoes\"}},{\"@type\":\"ListItem\",\"position\":4,\"item\":{\"@id\":\"/shopping/man-shoes-sneakers\",\"name\":\"Sneakers\"}},{\"@type\":\"ListItem\",\"position\":5,\"item\":{\"@id\":\"/shopping/man-sneakers-out-of-office\",\"name\":\"Out of Office\"}}]}</script>]\n",
            "{'@context': 'http://schema.org/', '@type': 'Product', 'name': 'BLACK BOOKISH SLIDERS in black  | Off-White™ Official FR ', 'description': 'Shop black logo-print strap slip-on style round open toe flat sole ', 'image': ['https://cdn-images.farfetch-contents.com/off-white-out-of-office-calf-leather_23540615_54491507_322.jpg', 'https://cdn-images.farfetch-contents.com/off-white-out-of-office-calf-leather_23540615_54491583_322.jpg', 'https://cdn-images.farfetch-contents.com/off-white-out-of-office-calf-leather_23540615_54491579_322.jpg', 'https://cdn-images.farfetch-contents.com/off-white-out-of-office-calf-leather_23540615_54491584_322.jpg', 'https://cdn-images.farfetch-contents.com/off-white-out-of-office-calf-leather_23540615_54491582_322.jpg', 'https://cdn-images.farfetch-contents.com/off-white-out-of-office-calf-leather_23540615_54491585_322.jpg', 'https://cdn-images.farfetch-contents.com/off-white-out-of-office-calf-leather_23540615_54491648_322.jpg', 'https://cdn-images.farfetch-contents.com/off-white-out-of-office-calf-leather_23540615_54491639_322.jpg', 'https://cdn-images.farfetch-contents.com/off-white-out-of-office-calf-leather_23540615_54491638_322.jpg'], 'sku': 'OMIA189F24LEA0054010', 'productID': '23540615', 'color': 'Black', 'category': 'Slides', 'brand': {'@type': 'Brand', 'name': 'Off-White'}, 'offers': {'@context': 'http://schema.org/', '@type': 'Offer', 'url': 'https://www.off---white.com/en-fr/shopping/off-white-black-bookish-sliders-23348155', 'price': '225', 'priceCurrency': 'EUR', 'itemCondition': 'http://schema.org/NewCondition', 'availability': 'http://schema.org/InStock', 'seller': {'@type': 'Organization', 'name': 'Off-White'}}}\n",
            "Raw Product Schema: %s {\n",
            "    \"@context\": \"http://schema.org/\",\n",
            "    \"@type\": \"Product\",\n",
            "    \"name\": \"BLACK BOOKISH SLIDERS in black  | Off-White\\u2122 Official FR \",\n",
            "    \"description\": \"Shop black logo-print strap slip-on style round open toe flat sole \",\n",
            "    \"image\": [\n",
            "        \"https://cdn-images.farfetch-contents.com/off-white-out-of-office-calf-leather_23540615_54491507_322.jpg\",\n",
            "        \"https://cdn-images.farfetch-contents.com/off-white-out-of-office-calf-leather_23540615_54491583_322.jpg\",\n",
            "        \"https://cdn-images.farfetch-contents.com/off-white-out-of-office-calf-leather_23540615_54491579_322.jpg\",\n",
            "        \"https://cdn-images.farfetch-contents.com/off-white-out-of-office-calf-leather_23540615_54491584_322.jpg\",\n",
            "        \"https://cdn-images.farfetch-contents.com/off-white-out-of-office-calf-leather_23540615_54491582_322.jpg\",\n",
            "        \"https://cdn-images.farfetch-contents.com/off-white-out-of-office-calf-leather_23540615_54491585_322.jpg\",\n",
            "        \"https://cdn-images.farfetch-contents.com/off-white-out-of-office-calf-leather_23540615_54491648_322.jpg\",\n",
            "        \"https://cdn-images.farfetch-contents.com/off-white-out-of-office-calf-leather_23540615_54491639_322.jpg\",\n",
            "        \"https://cdn-images.farfetch-contents.com/off-white-out-of-office-calf-leather_23540615_54491638_322.jpg\"\n",
            "    ],\n",
            "    \"sku\": \"OMIA189F24LEA0054010\",\n",
            "    \"productID\": \"23540615\",\n",
            "    \"color\": \"Black\",\n",
            "    \"category\": \"Slides\",\n",
            "    \"brand\": {\n",
            "        \"@type\": \"Brand\",\n",
            "        \"name\": \"Off-White\"\n",
            "    },\n",
            "    \"offers\": {\n",
            "        \"@context\": \"http://schema.org/\",\n",
            "        \"@type\": \"Offer\",\n",
            "        \"url\": \"https://www.off---white.com/en-fr/shopping/off-white-black-bookish-sliders-23348155\",\n",
            "        \"price\": \"225\",\n",
            "        \"priceCurrency\": \"EUR\",\n",
            "        \"itemCondition\": \"http://schema.org/NewCondition\",\n",
            "        \"availability\": \"http://schema.org/InStock\",\n",
            "        \"seller\": {\n",
            "            \"@type\": \"Organization\",\n",
            "            \"name\": \"Off-White\"\n",
            "        }\n",
            "    }\n",
            "}\n",
            "{'@context': 'http://schema.org/', '@type': 'BreadcrumbList', 'itemListElement': [{'@type': 'ListItem', 'position': 1, 'item': {'@id': '/shopping/', 'name': 'Man'}}, {'@type': 'ListItem', 'position': 2, 'item': {'@id': '/shopping/man', 'name': 'Man'}}, {'@type': 'ListItem', 'position': 3, 'item': {'@id': '/shopping/man-shoes', 'name': 'Shoes'}}, {'@type': 'ListItem', 'position': 4, 'item': {'@id': '/shopping/man-shoes-sneakers', 'name': 'Sneakers'}}, {'@type': 'ListItem', 'position': 5, 'item': {'@id': '/shopping/man-sneakers-out-of-office', 'name': 'Out of Office'}}]}\n",
            "Search Url- \n",
            "https://www.google.com/search?q=OMAA120C99JER0061077\n",
            "['https://www.farfetch.com/shopping/men/off-white-smatthew-skate-logo-print-t-shirt-item-21254495.aspx', 'https://www.goat.com/apparel/off-white-st-matthew-skate-short-sleeve-t-shirt-black-grey-omaa120c99jer0061077', 'https://www.off---white.com/en-gb/shopping/off-white-black-s-matthew-skate-s-s-tee-21254495?srsltid=AfmBOop-FXuNFySdG3cqfro9Xe-uB0p2hHAI4hYsPc0GshfLgH7IrxAC', \"https://us.shein.com/Men's-T-Shirt-BLACK-OMAA120C99JER0061077-0-p-38013430.html\", 'https://www.farfetch.com/pt/shopping/men/off-white-smatthew-skate-logo-print-t-shirt-item-21254495.aspx', 'https://www.divoboutique.com/us-en/t-shirt-off-white-t-shirt-with-logo-371131472', 'https://www.italist.com/us/men/clothing/topwear/t-shirts/bw-matthew-skate-ss-t-shirt/13974286/14141977/off-white/?srsltid=AfmBOopaeLxfaNmrSsS3O8cJePcgqcPXV3dQ29eQsCvS5JoHT1xdX4dk', 'https://www.ebay.co.uk/itm/387233187509', 'https://futugoapp.com/it/products/omaa120c99jer0061077']\n",
            "Processing ID: OMAA120C99JER0061077 with URL: ['https://www.off---white.com/en-gb/shopping/off-white-black-s-matthew-skate-s-s-tee-21254495?srsltid=AfmBOop-FXuNFySdG3cqfro9Xe-uB0p2hHAI4hYsPc0GshfLgH7IrxAC']\n",
            "Search Url-  https://www.off---white.com/en-us/shopping/off-white-black-s-matthew-skate-s-s-tee-21254495?srsltid=AfmBOop-FXuNFySdG3cqfro9Xe-uB0p2hHAI4hYsPc0GshfLgH7IrxAC\n",
            "[]\n",
            "No Product schema found in the HTML content.\n",
            "Current IP Address: 185.199.103.254\n",
            "Attempt 1 of 5: Connecting to VPN...\n",
            "VPN Response: \n",
            "\n",
            "New IP Address after VPN connection: 185.187.243.139\n",
            "IP address changed successfully.\n",
            "Attempt 1: No valid product schema found.\n",
            "[]\n",
            "No Product schema found in the HTML content.\n",
            "Current IP Address: 185.187.243.139\n",
            "Attempt 1 of 5: Connecting to VPN...\n",
            "VPN Response: \n",
            "\n",
            "New IP Address after VPN connection: 185.187.243.139\n",
            "Attempt 2 of 5: Connecting to VPN...\n",
            "VPN Response: \n",
            "\n",
            "New IP Address after VPN connection: 185.195.59.195\n",
            "IP address changed successfully.\n",
            "Attempt 2: No valid product schema found.\n",
            "[]\n",
            "No Product schema found in the HTML content.\n",
            "Current IP Address: 185.195.59.195\n",
            "Attempt 1 of 5: Connecting to VPN...\n",
            "VPN Response: \n",
            "\n",
            "New IP Address after VPN connection: 45.144.113.172\n",
            "IP address changed successfully.\n",
            "Attempt 3: No valid product schema found.\n",
            "Waiting for 15 seconds before the next attempt...\n",
            "Current IP Address: 45.144.113.172\n",
            "Attempt 1 of 5: Connecting to VPN...\n",
            "VPN Response: \n",
            "\n",
            "New IP Address after VPN connection: 87.249.138.67\n",
            "IP address changed successfully.\n",
            "[]\n",
            "No Product schema found in the HTML content.\n",
            "Current IP Address: 87.249.138.67\n",
            "Attempt 1 of 5: Connecting to VPN...\n",
            "VPN Response: \n",
            "\n",
            "New IP Address after VPN connection: 45.144.113.151\n",
            "IP address changed successfully.\n",
            "Attempt 4: No valid product schema found.\n",
            "Waiting for 30 seconds before the next attempt...\n",
            "Current IP Address: 185.199.103.254\n",
            "Attempt 1 of 5: Connecting to VPN...\n",
            "VPN Response: \n",
            "\n",
            "New IP Address after VPN connection: 37.19.199.104\n",
            "IP address changed successfully.\n",
            "[]\n",
            "No Product schema found in the HTML content.\n",
            "Current IP Address: 37.19.199.104\n",
            "Attempt 1 of 5: Connecting to VPN...\n",
            "VPN Response: \n",
            "\n",
            "New IP Address after VPN connection: 45.144.113.151\n",
            "IP address changed successfully.\n",
            "Attempt 5: No valid product schema found.\n",
            "Waiting for 45 seconds before the next attempt...\n",
            "Current IP Address: 185.199.103.254\n",
            "Attempt 1 of 5: Connecting to VPN...\n",
            "VPN Response: \n",
            "\n",
            "New IP Address after VPN connection: 194.124.76.120\n",
            "IP address changed successfully.\n",
            "Current IP Address: 194.124.76.120\n",
            "Attempt 1 of 5: Connecting to VPN...\n",
            "VPN Response: \n",
            "\n",
            "New IP Address after VPN connection: 45.88.222.168\n",
            "IP address changed successfully.\n",
            "Mozilla/5.0 (Windows NT 10.0; Win64; x64) AppleWebKit/537.36 (KHTML, like Gecko) Chrome/129.0.0.0 Safari/537.3\n",
            "'src'\n",
            "Current IP Address: 45.88.222.168\n",
            "Attempt 1 of 5: Connecting to VPN...\n",
            "VPN Response: \n",
            "\n",
            "New IP Address after VPN connection: 45.144.113.35\n",
            "IP address changed successfully.\n",
            "HTTPConnectionPool(host='localhost', port=15092): Max retries exceeded with url: /session/8bfb87c834dcc6c41473c426a880ba59/cookie (Caused by NewConnectionError('<urllib3.connection.HTTPConnection object at 0x0000020C5B389760>: Failed to establish a new connection: [WinError 10061] No connection could be made because the target machine actively refused it'))\n",
            "Current IP Address: 45.144.113.35\n",
            "Attempt 1 of 5: Connecting to VPN...\n",
            "VPN Response: \n",
            "\n",
            "New IP Address after VPN connection: 154.16.157.45\n",
            "IP address changed successfully.\n",
            "HTTPConnectionPool(host='localhost', port=15092): Max retries exceeded with url: /session/8bfb87c834dcc6c41473c426a880ba59/cookie (Caused by NewConnectionError('<urllib3.connection.HTTPConnection object at 0x0000020C5B38A690>: Failed to establish a new connection: [WinError 10061] No connection could be made because the target machine actively refused it'))\n",
            "Current IP Address: 154.16.157.45\n",
            "Attempt 1 of 5: Connecting to VPN...\n",
            "VPN Response: \n",
            "\n",
            "New IP Address after VPN connection: 185.195.59.202\n",
            "IP address changed successfully.\n",
            "HTTPConnectionPool(host='localhost', port=15092): Max retries exceeded with url: /session/8bfb87c834dcc6c41473c426a880ba59/cookie (Caused by NewConnectionError('<urllib3.connection.HTTPConnection object at 0x0000020C5B38ACF0>: Failed to establish a new connection: [WinError 10061] No connection could be made because the target machine actively refused it'))\n",
            "Current IP Address: 185.195.59.202\n",
            "Attempt 1 of 5: Connecting to VPN...\n",
            "VPN Response: \n",
            "\n",
            "New IP Address after VPN connection: 185.187.243.119\n",
            "IP address changed successfully.\n",
            "HTTPConnectionPool(host='localhost', port=15092): Max retries exceeded with url: /session/8bfb87c834dcc6c41473c426a880ba59/cookie (Caused by NewConnectionError('<urllib3.connection.HTTPConnection object at 0x0000020C5B38AA20>: Failed to establish a new connection: [WinError 10061] No connection could be made because the target machine actively refused it'))\n",
            "Current IP Address: 185.187.243.119\n",
            "Attempt 1 of 5: Connecting to VPN...\n"
          ]
        },
        {
          "output_type": "error",
          "ename": "KeyboardInterrupt",
          "evalue": "",
          "traceback": [
            "\u001b[1;31m---------------------------------------------------------------------------\u001b[0m",
            "\u001b[1;31mKeyboardInterrupt\u001b[0m                         Traceback (most recent call last)",
            "Cell \u001b[1;32mIn[168], line 729\u001b[0m\n\u001b[0;32m    726\u001b[0m         \u001b[38;5;66;03m# Close the driver\u001b[39;00m\n\u001b[0;32m    728\u001b[0m     driver\u001b[38;5;241m.\u001b[39mquit()\n\u001b[1;32m--> 729\u001b[0m \u001b[43mmain\u001b[49m\u001b[43m(\u001b[49m\u001b[43m)\u001b[49m\n\u001b[0;32m    731\u001b[0m \u001b[38;5;66;03m# query = \"OWAD122C99JER0030110\"\u001b[39;00m\n\u001b[0;32m    732\u001b[0m \u001b[38;5;66;03m# search = f\"https://www.google.com/search?q={query}\"\u001b[39;00m\n\u001b[0;32m    733\u001b[0m \u001b[38;5;66;03m# response = requests.get(search)\u001b[39;00m\n",
            "Cell \u001b[1;32mIn[168], line 714\u001b[0m, in \u001b[0;36mmain\u001b[1;34m()\u001b[0m\n\u001b[0;32m    712\u001b[0m count \u001b[38;5;241m=\u001b[39m \u001b[38;5;241m0\u001b[39m\n\u001b[0;32m    713\u001b[0m \u001b[38;5;28;01mwhile\u001b[39;00m count \u001b[38;5;241m<\u001b[39m \u001b[38;5;241m3\u001b[39m:\n\u001b[1;32m--> 714\u001b[0m     \u001b[43mvpn_connection_cycle\u001b[49m\u001b[43m(\u001b[49m\u001b[43m)\u001b[49m\n\u001b[0;32m    715\u001b[0m     \u001b[38;5;28;01mtry\u001b[39;00m:\n\u001b[0;32m    716\u001b[0m         row \u001b[38;5;241m=\u001b[39m process_page(excel_data_list,driver, query, updated_id, csv_file_path)\n",
            "Cell \u001b[1;32mIn[168], line 561\u001b[0m, in \u001b[0;36mvpn_connection_cycle\u001b[1;34m(max_retries, cooldown_period)\u001b[0m\n\u001b[0;32m    559\u001b[0m \u001b[38;5;28;01mwhile\u001b[39;00m attempt \u001b[38;5;241m<\u001b[39m max_retries:\n\u001b[0;32m    560\u001b[0m     \u001b[38;5;28mprint\u001b[39m(\u001b[38;5;124mf\u001b[39m\u001b[38;5;124m\"\u001b[39m\u001b[38;5;124mAttempt \u001b[39m\u001b[38;5;132;01m{\u001b[39;00mattempt\u001b[38;5;241m+\u001b[39m\u001b[38;5;241m1\u001b[39m\u001b[38;5;132;01m}\u001b[39;00m\u001b[38;5;124m of \u001b[39m\u001b[38;5;132;01m{\u001b[39;00mmax_retries\u001b[38;5;132;01m}\u001b[39;00m\u001b[38;5;124m: Connecting to VPN...\u001b[39m\u001b[38;5;124m\"\u001b[39m)\n\u001b[1;32m--> 561\u001b[0m     vpn_response \u001b[38;5;241m=\u001b[39m \u001b[43mconnect_vpn\u001b[49m\u001b[43m(\u001b[49m\u001b[43m)\u001b[49m\n\u001b[0;32m    562\u001b[0m     \u001b[38;5;28mprint\u001b[39m(\u001b[38;5;124m\"\u001b[39m\u001b[38;5;124mVPN Response:\u001b[39m\u001b[38;5;124m\"\u001b[39m, vpn_response)\n\u001b[0;32m    563\u001b[0m     time\u001b[38;5;241m.\u001b[39msleep(\u001b[38;5;241m10\u001b[39m)  \u001b[38;5;66;03m# Wait for the VPN to fully establish the connection\u001b[39;00m\n",
            "Cell \u001b[1;32mIn[168], line 549\u001b[0m, in \u001b[0;36mconnect_vpn\u001b[1;34m()\u001b[0m\n\u001b[0;32m    547\u001b[0m     command \u001b[38;5;241m=\u001b[39m \u001b[38;5;124m'\u001b[39m\u001b[38;5;124mnordvpn -c\u001b[39m\u001b[38;5;124m'\u001b[39m\n\u001b[0;32m    548\u001b[0m     result \u001b[38;5;241m=\u001b[39m subprocess\u001b[38;5;241m.\u001b[39mrun(command, shell\u001b[38;5;241m=\u001b[39m\u001b[38;5;28;01mTrue\u001b[39;00m, stdout\u001b[38;5;241m=\u001b[39msubprocess\u001b[38;5;241m.\u001b[39mPIPE, stderr\u001b[38;5;241m=\u001b[39msubprocess\u001b[38;5;241m.\u001b[39mPIPE)\n\u001b[1;32m--> 549\u001b[0m     \u001b[43mtime\u001b[49m\u001b[38;5;241;43m.\u001b[39;49m\u001b[43msleep\u001b[49m\u001b[43m(\u001b[49m\u001b[38;5;241;43m20\u001b[39;49m\u001b[43m)\u001b[49m\n\u001b[0;32m    550\u001b[0m     \u001b[38;5;28;01mreturn\u001b[39;00m result\u001b[38;5;241m.\u001b[39mstdout\u001b[38;5;241m.\u001b[39mdecode() \u001b[38;5;241m+\u001b[39m \u001b[38;5;124m\"\u001b[39m\u001b[38;5;130;01m\\n\u001b[39;00m\u001b[38;5;124m\"\u001b[39m \u001b[38;5;241m+\u001b[39m result\u001b[38;5;241m.\u001b[39mstderr\u001b[38;5;241m.\u001b[39mdecode()\n\u001b[0;32m    551\u001b[0m \u001b[38;5;28;01melse\u001b[39;00m:\n",
            "\u001b[1;31mKeyboardInterrupt\u001b[0m: "
          ]
        }
      ]
    },
    {
      "cell_type": "markdown",
      "source": [
        "V2\n"
      ],
      "metadata": {
        "id": "gufMrfZ7xC9E"
      }
    },
    {
      "cell_type": "code",
      "source": [],
      "metadata": {
        "id": "a0bHiAjFxCz9"
      },
      "execution_count": null,
      "outputs": []
    },
    {
      "cell_type": "code",
      "source": [
        "import openpyxl\n",
        "def read_excel_to_list(file_path, column_index=1):\n",
        "    # Load the workbook and select the first worksheet\n",
        "    workbook = openpyxl.load_workbook(file_path)\n",
        "    sheet = workbook.active\n",
        "\n",
        "    # Read the specified column (default is the first column)\n",
        "    values = []\n",
        "    for row in sheet.iter_rows(min_col=column_index, max_col=column_index):\n",
        "        for cell in row:\n",
        "            values.append(cell.value)  # Append the cell value to the list\n",
        "\n",
        "    return values"
      ],
      "metadata": {
        "id": "wWw-G9uUIJuP"
      },
      "execution_count": null,
      "outputs": []
    },
    {
      "cell_type": "code",
      "source": [
        "from google.colab import drive\n",
        "drive.mount('/content/drive')"
      ],
      "metadata": {
        "colab": {
          "base_uri": "https://localhost:8080/"
        },
        "id": "xHzmrbRcWgka",
        "outputId": "d6b5d84f-f283-4be8-89ab-7f5deaee07a6"
      },
      "execution_count": null,
      "outputs": [
        {
          "output_type": "stream",
          "name": "stdout",
          "text": [
            "Mounted at /content/drive\n"
          ]
        }
      ]
    },
    {
      "cell_type": "code",
      "source": [
        "  import json\n",
        "  def extract_product_schema(html_content):\n",
        "        product_schemas = []  # List to store all found product schemas\n",
        "\n",
        "        try:\n",
        "            soup = BeautifulSoup(html_content, 'html.parser')\n",
        "            schema_tags = soup.find_all('script', {'type': 'application/ld+json'})\n",
        "            print(schema_tags)\n",
        "            for tag in schema_tags:\n",
        "                try:\n",
        "                    data = json.loads(tag.text)\n",
        "                    print(data)\n",
        "                    if data.get('@type') == 'Product':\n",
        "                        # Log the raw product schema for debugging\n",
        "                        print(\"Raw Product Schema: %s\", json.dumps(data, indent=4))\n",
        "                        product_schemas.append(data)\n",
        "                except json.JSONDecodeError:\n",
        "                    continue\n",
        "\n",
        "            if not product_schemas:\n",
        "                print(\"No Product schema found in the HTML content.\")\n",
        "                return None\n",
        "\n",
        "            return product_schemas\n",
        "        except Exception as e:\n",
        "            print(f\"Error extracting product schemas from HTML: {e}\")\n",
        "            return None\n"
      ],
      "metadata": {
        "id": "zPz5fgaKhcqh"
      },
      "execution_count": null,
      "outputs": []
    },
    {
      "cell_type": "code",
      "source": [
        "product_schemas = extract_product_schema(page_source)"
      ],
      "metadata": {
        "colab": {
          "base_uri": "https://localhost:8080/"
        },
        "id": "B__UXHb6kvyd",
        "outputId": "d700e240-953d-42bb-d1d2-f6e735c73583"
      },
      "execution_count": null,
      "outputs": [
        {
          "output_type": "stream",
          "name": "stdout",
          "text": [
            "Raw Product Schema: %s {\n",
            "    \"@context\": \"http://schema.org/\",\n",
            "    \"@type\": \"Product\",\n",
            "    \"name\": \"WHITE OFF STAMP SECOND SKIN L/S TURTLENECK in white  | Off-White\\u2122 Official US \",\n",
            "    \"description\": \"Shop white stretch-jersey lightweight construction high neck long sleeves logo print at the chest straight hem pull-on style \",\n",
            "    \"image\": [\n",
            "        \"https://cdn-images.farfetch-contents.com/off-white-white-off-stamp-second-skin-l-s-turtleneck_23348161_54078370_322.jpg\",\n",
            "        \"https://cdn-images.farfetch-contents.com/off-white-white-off-stamp-second-skin-l-s-turtleneck_23348161_54078371_322.jpg\",\n",
            "        \"https://cdn-images.farfetch-contents.com/off-white-white-off-stamp-second-skin-l-s-turtleneck_23348161_54078368_322.jpg\",\n",
            "        \"https://cdn-images.farfetch-contents.com/off-white-white-off-stamp-second-skin-l-s-turtleneck_23348161_54078367_322.jpg\",\n",
            "        \"https://cdn-images.farfetch-contents.com/off-white-white-off-stamp-second-skin-l-s-turtleneck_23348161_54078372_322.jpg\",\n",
            "        \"https://cdn-images.farfetch-contents.com/off-white-white-off-stamp-second-skin-l-s-turtleneck_23348161_54078373_322.jpg\",\n",
            "        \"https://cdn-images.farfetch-contents.com/off-white-white-off-stamp-second-skin-l-s-turtleneck_23348161_54078375_322.jpg\",\n",
            "        \"https://cdn-images.farfetch-contents.com/off-white-white-off-stamp-second-skin-l-s-turtleneck_23348161_54078374_322.jpg\"\n",
            "    ],\n",
            "    \"sku\": \"OWAD122C99JER0030110\",\n",
            "    \"productID\": \"23348161\",\n",
            "    \"color\": \"White\",\n",
            "    \"category\": \"Tops\",\n",
            "    \"brand\": {\n",
            "        \"@type\": \"Brand\",\n",
            "        \"name\": \"Off-White\"\n",
            "    },\n",
            "    \"offers\": {\n",
            "        \"@context\": \"http://schema.org/\",\n",
            "        \"@type\": \"Offer\",\n",
            "        \"url\": \"https://www.off---white.com/en-us/shopping/off-white-white-off-stamp-second-skin-l-s-turtleneck-23348161\",\n",
            "        \"price\": \"495\",\n",
            "        \"priceCurrency\": \"USD\",\n",
            "        \"itemCondition\": \"http://schema.org/NewCondition\",\n",
            "        \"availability\": \"http://schema.org/InStock\",\n",
            "        \"seller\": {\n",
            "            \"@type\": \"Organization\",\n",
            "            \"name\": \"Off-White\"\n",
            "        }\n",
            "    }\n",
            "}\n"
          ]
        }
      ]
    },
    {
      "cell_type": "code",
      "source": [
        "product_schemas"
      ],
      "metadata": {
        "colab": {
          "base_uri": "https://localhost:8080/"
        },
        "id": "4OcM40TxmMlp",
        "outputId": "90e749cc-ed21-4760-bfbb-c53682109a9c"
      },
      "execution_count": null,
      "outputs": [
        {
          "output_type": "execute_result",
          "data": {
            "text/plain": [
              "[{'@context': 'http://schema.org/',\n",
              "  '@type': 'Product',\n",
              "  'name': 'WHITE OFF STAMP SECOND SKIN L/S TURTLENECK in white  | Off-White™ Official US ',\n",
              "  'description': 'Shop white stretch-jersey lightweight construction high neck long sleeves logo print at the chest straight hem pull-on style ',\n",
              "  'image': ['https://cdn-images.farfetch-contents.com/off-white-white-off-stamp-second-skin-l-s-turtleneck_23348161_54078370_322.jpg',\n",
              "   'https://cdn-images.farfetch-contents.com/off-white-white-off-stamp-second-skin-l-s-turtleneck_23348161_54078371_322.jpg',\n",
              "   'https://cdn-images.farfetch-contents.com/off-white-white-off-stamp-second-skin-l-s-turtleneck_23348161_54078368_322.jpg',\n",
              "   'https://cdn-images.farfetch-contents.com/off-white-white-off-stamp-second-skin-l-s-turtleneck_23348161_54078367_322.jpg',\n",
              "   'https://cdn-images.farfetch-contents.com/off-white-white-off-stamp-second-skin-l-s-turtleneck_23348161_54078372_322.jpg',\n",
              "   'https://cdn-images.farfetch-contents.com/off-white-white-off-stamp-second-skin-l-s-turtleneck_23348161_54078373_322.jpg',\n",
              "   'https://cdn-images.farfetch-contents.com/off-white-white-off-stamp-second-skin-l-s-turtleneck_23348161_54078375_322.jpg',\n",
              "   'https://cdn-images.farfetch-contents.com/off-white-white-off-stamp-second-skin-l-s-turtleneck_23348161_54078374_322.jpg'],\n",
              "  'sku': 'OWAD122C99JER0030110',\n",
              "  'productID': '23348161',\n",
              "  'color': 'White',\n",
              "  'category': 'Tops',\n",
              "  'brand': {'@type': 'Brand', 'name': 'Off-White'},\n",
              "  'offers': {'@context': 'http://schema.org/',\n",
              "   '@type': 'Offer',\n",
              "   'url': 'https://www.off---white.com/en-us/shopping/off-white-white-off-stamp-second-skin-l-s-turtleneck-23348161',\n",
              "   'price': '495',\n",
              "   'priceCurrency': 'USD',\n",
              "   'itemCondition': 'http://schema.org/NewCondition',\n",
              "   'availability': 'http://schema.org/InStock',\n",
              "   'seller': {'@type': 'Organization', 'name': 'Off-White'}}}]"
            ]
          },
          "metadata": {},
          "execution_count": 43
        }
      ]
    },
    {
      "cell_type": "code",
      "source": [],
      "metadata": {
        "id": "Npzkj9Nwumnz"
      },
      "execution_count": null,
      "outputs": []
    },
    {
      "cell_type": "code",
      "source": [
        "!pip install pandas"
      ],
      "metadata": {
        "colab": {
          "base_uri": "https://localhost:8080/"
        },
        "id": "RX1lHNH8MczZ",
        "outputId": "62288f54-6cd3-4af1-960e-668a3e46b8c9"
      },
      "execution_count": null,
      "outputs": [
        {
          "output_type": "stream",
          "name": "stdout",
          "text": [
            "Requirement already satisfied: pandas in /usr/local/lib/python3.10/dist-packages (2.2.2)\n",
            "Requirement already satisfied: numpy>=1.22.4 in /usr/local/lib/python3.10/dist-packages (from pandas) (1.26.4)\n",
            "Requirement already satisfied: python-dateutil>=2.8.2 in /usr/local/lib/python3.10/dist-packages (from pandas) (2.8.2)\n",
            "Requirement already satisfied: pytz>=2020.1 in /usr/local/lib/python3.10/dist-packages (from pandas) (2024.2)\n",
            "Requirement already satisfied: tzdata>=2022.7 in /usr/local/lib/python3.10/dist-packages (from pandas) (2024.2)\n",
            "Requirement already satisfied: six>=1.5 in /usr/local/lib/python3.10/dist-packages (from python-dateutil>=2.8.2->pandas) (1.16.0)\n"
          ]
        }
      ]
    },
    {
      "cell_type": "code",
      "source": [
        "!pip install selenium\n"
      ],
      "metadata": {
        "colab": {
          "base_uri": "https://localhost:8080/"
        },
        "id": "Me37otP-DHpA",
        "outputId": "0bb3e686-869e-486a-f602-15b53e6426a3"
      },
      "execution_count": null,
      "outputs": [
        {
          "output_type": "stream",
          "name": "stdout",
          "text": [
            "Collecting selenium\n",
            "  Downloading selenium-4.26.0-py3-none-any.whl.metadata (7.1 kB)\n",
            "Requirement already satisfied: urllib3<3,>=1.26 in /usr/local/lib/python3.10/dist-packages (from urllib3[socks]<3,>=1.26->selenium) (2.2.3)\n",
            "Collecting trio~=0.17 (from selenium)\n",
            "  Downloading trio-0.27.0-py3-none-any.whl.metadata (8.6 kB)\n",
            "Collecting trio-websocket~=0.9 (from selenium)\n",
            "  Downloading trio_websocket-0.11.1-py3-none-any.whl.metadata (4.7 kB)\n",
            "Requirement already satisfied: certifi>=2021.10.8 in /usr/local/lib/python3.10/dist-packages (from selenium) (2024.8.30)\n",
            "Requirement already satisfied: typing_extensions~=4.9 in /usr/local/lib/python3.10/dist-packages (from selenium) (4.12.2)\n",
            "Requirement already satisfied: websocket-client~=1.8 in /usr/local/lib/python3.10/dist-packages (from selenium) (1.8.0)\n",
            "Requirement already satisfied: attrs>=23.2.0 in /usr/local/lib/python3.10/dist-packages (from trio~=0.17->selenium) (24.2.0)\n",
            "Collecting sortedcontainers (from trio~=0.17->selenium)\n",
            "  Downloading sortedcontainers-2.4.0-py2.py3-none-any.whl.metadata (10 kB)\n",
            "Requirement already satisfied: idna in /usr/local/lib/python3.10/dist-packages (from trio~=0.17->selenium) (3.10)\n",
            "Collecting outcome (from trio~=0.17->selenium)\n",
            "  Downloading outcome-1.3.0.post0-py2.py3-none-any.whl.metadata (2.6 kB)\n",
            "Requirement already satisfied: sniffio>=1.3.0 in /usr/local/lib/python3.10/dist-packages (from trio~=0.17->selenium) (1.3.1)\n",
            "Requirement already satisfied: exceptiongroup in /usr/local/lib/python3.10/dist-packages (from trio~=0.17->selenium) (1.2.2)\n",
            "Collecting wsproto>=0.14 (from trio-websocket~=0.9->selenium)\n",
            "  Downloading wsproto-1.2.0-py3-none-any.whl.metadata (5.6 kB)\n",
            "Requirement already satisfied: pysocks!=1.5.7,<2.0,>=1.5.6 in /usr/local/lib/python3.10/dist-packages (from urllib3[socks]<3,>=1.26->selenium) (1.7.1)\n",
            "Requirement already satisfied: h11<1,>=0.9.0 in /usr/local/lib/python3.10/dist-packages (from wsproto>=0.14->trio-websocket~=0.9->selenium) (0.14.0)\n",
            "Downloading selenium-4.26.0-py3-none-any.whl (9.7 MB)\n",
            "\u001b[2K   \u001b[90m━━━━━━━━━━━━━━━━━━━━━━━━━━━━━━━━━━━━━━━━\u001b[0m \u001b[32m9.7/9.7 MB\u001b[0m \u001b[31m31.5 MB/s\u001b[0m eta \u001b[36m0:00:00\u001b[0m\n",
            "\u001b[?25hDownloading trio-0.27.0-py3-none-any.whl (481 kB)\n",
            "\u001b[2K   \u001b[90m━━━━━━━━━━━━━━━━━━━━━━━━━━━━━━━━━━━━━━━━\u001b[0m \u001b[32m481.7/481.7 kB\u001b[0m \u001b[31m20.1 MB/s\u001b[0m eta \u001b[36m0:00:00\u001b[0m\n",
            "\u001b[?25hDownloading trio_websocket-0.11.1-py3-none-any.whl (17 kB)\n",
            "Downloading wsproto-1.2.0-py3-none-any.whl (24 kB)\n",
            "Downloading outcome-1.3.0.post0-py2.py3-none-any.whl (10 kB)\n",
            "Downloading sortedcontainers-2.4.0-py2.py3-none-any.whl (29 kB)\n",
            "Installing collected packages: sortedcontainers, wsproto, outcome, trio, trio-websocket, selenium\n",
            "Successfully installed outcome-1.3.0.post0 selenium-4.26.0 sortedcontainers-2.4.0 trio-0.27.0 trio-websocket-0.11.1 wsproto-1.2.0\n"
          ]
        }
      ]
    },
    {
      "cell_type": "code",
      "source": [
        "import pandas as pd"
      ],
      "metadata": {
        "id": "9mCnpnFLMf-m"
      },
      "execution_count": null,
      "outputs": []
    },
    {
      "cell_type": "code",
      "source": [
        "!wget https://storage.googleapis.com/chrome-for-testing-public/127.0.6533.119/linux64/chromedriver-linux64.zip -O chromedriver.zip\n"
      ],
      "metadata": {
        "colab": {
          "base_uri": "https://localhost:8080/"
        },
        "id": "I9914q-XDeku",
        "outputId": "1148bc89-3b27-4b6a-97d9-cfe56076b2a3"
      },
      "execution_count": null,
      "outputs": [
        {
          "output_type": "stream",
          "name": "stdout",
          "text": [
            "--2024-10-30 17:32:57--  https://storage.googleapis.com/chrome-for-testing-public/127.0.6533.119/linux64/chromedriver-linux64.zip\n",
            "Resolving storage.googleapis.com (storage.googleapis.com)... 74.125.20.207, 108.177.98.207, 74.125.197.207, ...\n",
            "Connecting to storage.googleapis.com (storage.googleapis.com)|74.125.20.207|:443... connected.\n",
            "HTTP request sent, awaiting response... 200 OK\n",
            "Length: 9330902 (8.9M) [application/zip]\n",
            "Saving to: ‘chromedriver.zip’\n",
            "\n",
            "chromedriver.zip    100%[===================>]   8.90M  --.-KB/s    in 0.1s    \n",
            "\n",
            "2024-10-30 17:32:58 (76.8 MB/s) - ‘chromedriver.zip’ saved [9330902/9330902]\n",
            "\n"
          ]
        }
      ]
    },
    {
      "cell_type": "code",
      "source": [
        "!curl -o chromedriver.zip https://storage.googleapis.com/chrome-for-testing-public/127.0.6533.119/linux64/chromedriver-linux64.zip\n"
      ],
      "metadata": {
        "colab": {
          "base_uri": "https://localhost:8080/"
        },
        "id": "cL558dxqDm13",
        "outputId": "fe5f86e5-4614-4b40-976e-31d10dbc3b1e"
      },
      "execution_count": null,
      "outputs": [
        {
          "output_type": "stream",
          "name": "stdout",
          "text": [
            "  % Total    % Received % Xferd  Average Speed   Time    Time     Time  Current\n",
            "                                 Dload  Upload   Total   Spent    Left  Speed\n",
            "\r  0     0    0     0    0     0      0      0 --:--:-- --:--:-- --:--:--     0\r100 9112k  100 9112k    0     0  50.0M      0 --:--:-- --:--:-- --:--:-- 50.2M\n"
          ]
        }
      ]
    },
    {
      "cell_type": "code",
      "source": [
        "!unzip chromedriver.zip\n"
      ],
      "metadata": {
        "colab": {
          "base_uri": "https://localhost:8080/"
        },
        "id": "iheb0DflDsge",
        "outputId": "8e38e377-b69a-4076-ab78-84a554da590e"
      },
      "execution_count": null,
      "outputs": [
        {
          "output_type": "stream",
          "name": "stdout",
          "text": [
            "Archive:  chromedriver.zip\n",
            "  inflating: chromedriver-linux64/LICENSE.chromedriver  \n",
            "  inflating: chromedriver-linux64/THIRD_PARTY_NOTICES.chromedriver  \n",
            "  inflating: chromedriver-linux64/chromedriver  \n"
          ]
        }
      ]
    },
    {
      "cell_type": "code",
      "source": [
        "!mv chromedriver-linux64 /usr/local/bin/\n"
      ],
      "metadata": {
        "id": "UyI8OL4qDuT-"
      },
      "execution_count": null,
      "outputs": []
    },
    {
      "cell_type": "code",
      "source": [
        "!pip install openpyxl\n"
      ],
      "metadata": {
        "colab": {
          "base_uri": "https://localhost:8080/"
        },
        "id": "GdALjvKNIKpH",
        "outputId": "ae86245c-d0bd-4354-f0af-21c84ae0cc29"
      },
      "execution_count": null,
      "outputs": [
        {
          "output_type": "stream",
          "name": "stdout",
          "text": [
            "Requirement already satisfied: openpyxl in /usr/local/lib/python3.10/dist-packages (3.1.5)\n",
            "Requirement already satisfied: et-xmlfile in /usr/local/lib/python3.10/dist-packages (from openpyxl) (2.0.0)\n"
          ]
        }
      ]
    }
  ]
}